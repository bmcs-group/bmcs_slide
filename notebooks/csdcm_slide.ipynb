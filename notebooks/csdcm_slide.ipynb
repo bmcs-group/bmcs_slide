{
 "cells": [
  {
   "cell_type": "markdown",
   "metadata": {
    "slideshow": {
     "slide_type": "slide"
    }
   },
   "source": [
    "# Interactive notebook accompanying the paper \n",
    "\n",
    "## Coupled sliding-decohesion-compression model for consistent description ofmonotonic and fatigue behavior of material interfaces\n",
    "\n",
    "Chudoba, R., Vořechovský, M., Aguilar, M., Baktheer, A.\n",
    "\n",
    "This notebook explains the derivation of the interface model based on the thermodynamic \n",
    "principles using a `CAS` system. It shows how to obtain the time-stepping algorithm \n",
    "directly from the specification of the thermodynamic potentials, i.e. the Helmholtz \n",
    "free energy, threshold function and flow potential."
   ]
  },
  {
   "cell_type": "markdown",
   "metadata": {},
   "source": [
    "<div style=\"background-color:lightblue;text-align:center\"> \n",
    "To execute the code in a cell, press [Shift+Enter]. By executing the cells one-by-one starting from top and reading the annotation of the steps between executable cells, you will be able to follow the abstract thermodynamic derivation leading to an executable simulation code.\n",
    "</div>"
   ]
  },
  {
   "cell_type": "markdown",
   "metadata": {},
   "source": [
    "The abstract implementation of the return mapping algorithm for general \n",
    "damage-plasticity modes. The basic ingredients of of a thermodynamically based model\n",
    "are introduced as\n",
    "\n",
    " - Vector of state variables $\\boldsymbol{\\mathcal{E}}$\n",
    " - Vector of thermodynamic streses $\\boldsymbol{\\mathcal{S}}$\n",
    " - Helmholtz free energy $\\psi(\\boldsymbol{\\mathcal{E}})$\n",
    " - Threshold on thermodynamical forces  $f(\\boldsymbol{\\mathcal{S}},\\boldsymbol{\\mathcal{E}})$ / Yield condition\n",
    " - Flow potential $\\varphi(\\boldsymbol{\\mathcal{S}},\\boldsymbol{\\mathcal{E}})$\n",
    "\n",
    "Based on the symbolic formulation using the `sympy` package, the time-stepping algorithm\n",
    "is generated automatically by requiring the consistency condition to hold for each \n",
    "prescribed load increment."
   ]
  },
  {
   "cell_type": "code",
   "execution_count": 1,
   "metadata": {
    "slideshow": {
     "slide_type": "slide"
    }
   },
   "outputs": [],
   "source": [
    "%matplotlib widget \n",
    "import sympy as sp # CAS used for symbolic derivations \n",
    "sp.init_printing()\n",
    "import matplotlib.pyplot as plt # plotting package\n",
    "from matplotlib import cm # color maps for plotting\n",
    "from sympy.utilities.codegen import codegen # code generation package\n",
    "import numpy as np # array based numerical package \n",
    "np.seterr(divide='ignore', invalid='ignore') # suppress warnings on division by zero\n",
    "from cymbol import Cymbol, ccode # Symbol class \n",
    "from sympy import Heaviside"
   ]
  },
  {
   "cell_type": "markdown",
   "metadata": {},
   "source": [
    "**Heaviside and Dirac delta functions**: Starting with `sympy` 1.9, Heaviside function can be correctly handled\n",
    "in the `lambdified` code. However, `DiracDelta` function is still not available in the printer. Therefore, a dummy\n",
    "`get_dirac_delta` is added here as a workaround."
   ]
  },
  {
   "cell_type": "code",
   "execution_count": 2,
   "metadata": {},
   "outputs": [],
   "source": [
    "H = Heaviside\n",
    "def get_dirac_delta(x):\n",
    "    return 0\n",
    "numpy_dirac =[{'DiracDelta': get_dirac_delta }, 'numpy']"
   ]
  },
  {
   "cell_type": "markdown",
   "metadata": {},
   "source": [
    "Test the machinery by differentiating Heaviside function, lambdifying and calling it."
   ]
  },
  {
   "cell_type": "markdown",
   "metadata": {},
   "source": [
    "&nbsp;<font color='blue'>\n",
    "**Naming conventions:**\n",
    " - Variables with trailing underscore (e.g. `f_`, or `Sig_`) denote `sympy` expressions. \n",
    " - Variables denoting `sympy` symbols (e.g. `Sig` have no underscore at the end and have a name which is close to the mathematical symbol\n",
    " - Mathematical symbols defined as string in `sp.symbols(r'\\tau^{\\pi}')` use `latex` syntax to introduce Greek symbols, super and subindexes. This makes the pretty printing of expression possible."
   ]
  },
  {
   "cell_type": "markdown",
   "metadata": {},
   "source": [
    "## **2.1 Free energy potential, state variables and thermodynamic forces**"
   ]
  },
  {
   "cell_type": "markdown",
   "metadata": {
    "slideshow": {
     "slide_type": "slide"
    }
   },
   "source": [
    "## Material parameters"
   ]
  },
  {
   "cell_type": "code",
   "execution_count": 3,
   "metadata": {
    "slideshow": {
     "slide_type": "fragment"
    }
   },
   "outputs": [],
   "source": [
    "E_T = Cymbol(r'E_{\\mathrm{T}}', codename='E_T_', real=True, nonnegative=True)\n",
    "gamma_T = Cymbol(r'\\gamma_{\\mathrm{T}}', codename='gamma_T_', real=True)\n",
    "K_T = Cymbol(r'K_{\\mathrm{T}}', codename='K_T_', real=True)\n",
    "S_T = Cymbol(r'S_{\\mathrm{T}}', codename='S_T_', real=True, nonnegative=True)\n",
    "r_T = Cymbol(r'r_{\\mathrm{T}}', codename='r_T_', real=True, nonnegative=True)\n",
    "c_T = Cymbol(r'c_{\\mathrm{T}}', codename='c_T_', real=True, nonnegative=True)\n",
    "\n",
    "E_N = Cymbol(r'E_{\\mathrm{N}}', codename='E_N_', real=True, nonnegative=True)\n",
    "S_N = Cymbol(r'S_{\\mathrm{N}}', codename='S_N_', real=True, nonnegative=True)\n",
    "r_N = Cymbol(r'r_{\\mathrm{N}}', codename='r_N_', real=True, nonnegative=True)\n",
    "c_N = Cymbol(r'c_{\\mathrm{N}}', codename='c_N_', real=True, nonnegative=True)\n",
    "\n",
    "eta = Cymbol('eta', codename='eta_', real=True, nonnegative=True)"
   ]
  },
  {
   "cell_type": "markdown",
   "metadata": {},
   "source": [
    "## Include the derived threshold function\n",
    "\n",
    "To prepare the symbols for all material parameters, include the derivation in the notebook\n",
    "[threshold_function.ipynb](threshold_function.ipynb)"
   ]
  },
  {
   "cell_type": "code",
   "execution_count": 4,
   "metadata": {},
   "outputs": [],
   "source": [
    "%%capture\n",
    "%run threshold_function.ipynb"
   ]
  },
  {
   "cell_type": "code",
   "execution_count": 5,
   "metadata": {},
   "outputs": [
    {
     "data": {
      "image/png": "[encoded data removed]",
      "text/latex": [
       "$\\displaystyle \\left( E_{\\mathrm{T}}, \\  \\gamma_{\\mathrm{T}}, \\  K_{\\mathrm{T}}, \\  S_{\\mathrm{T}}, \\  c_{\\mathrm{T}}, \\  f_\\mathrm{s}, \\  E_{\\mathrm{N}}, \\  S_{\\mathrm{N}}, \\  c_{\\mathrm{N}}, \\  m, \\  f_\\mathrm{t}, \\  f_\\mathrm{c}, \\  f_\\mathrm{c0}, \\  r_{\\mathrm{N}}, \\  r_{\\mathrm{T}}, \\  \\eta\\right)$"
      ],
      "text/plain": [
       "(E_{\\mathrm{T}}, \\gamma_{\\mathrm{T}}, K_{\\mathrm{T}}, S_{\\mathrm{T}}, c_{\\math\n",
       "rm{T}}, f_\\mathrm{s}, E_{\\mathrm{N}}, S_{\\mathrm{N}}, c_{\\mathrm{N}}, m, f_\\ma\n",
       "thrm{t}, f_\\mathrm{c}, f_\\mathrm{c0}, r_{\\mathrm{N}}, r_{\\mathrm{T}}, η)"
      ]
     },
     "execution_count": 5,
     "metadata": {},
     "output_type": "execute_result"
    }
   ],
   "source": [
    "sp_vars = (E_T, gamma_T, K_T, S_T, c_T, f_s, E_N, S_N, c_N, m, f_t, f_c, f_c0, \n",
    "           r_N, r_T, eta)\n",
    "sp_vars"
   ]
  },
  {
   "cell_type": "markdown",
   "metadata": {
    "slideshow": {
     "slide_type": "slide"
    }
   },
   "source": [
    "### State variables"
   ]
  },
  {
   "cell_type": "code",
   "execution_count": 6,
   "metadata": {
    "slideshow": {
     "slide_type": "fragment"
    }
   },
   "outputs": [],
   "source": [
    "u_Tx = Cymbol(r'u_{\\mathrm{T}x}', codename='u_Tx_', real=True)\n",
    "u_Ty = Cymbol(r',u_{\\mathrm{T}y}', codename='u_Ty_', real=True)\n",
    "u_p_Tx = Cymbol(r'u^{\\mathrm{p}}_{\\mathrm{T}x}', codename='u_p_Tx_', real=True)\n",
    "u_p_Ty = Cymbol(r'u^{\\mathrm{p}}_{\\mathrm{T}y}', codename='u_p_Ty_', real=True)\n",
    "omega_T = Cymbol(r'\\omega_{\\mathrm{T}}', codename='omega_T_', real=True, nonnegative=True)\n",
    "alpha_Tx = Cymbol(r'\\alpha_{\\mathrm{T}x}', codename='alpha_Tx_', real=True)\n",
    "alpha_Ty = Cymbol(r'\\alpha_{\\mathrm{T}x}', codename='alpha_Ty_', real=True)\n",
    "z_T = Cymbol(r'z_\\mathrm{T}', codename='z_T_', real=True)\n",
    "u_N = Cymbol(r'u_\\mathrm{N}', codename='u_N_', real=True)\n",
    "omega_N = Cymbol(r'\\omega_\\mathrm{N}', codename='omega_N_', real=True, nonnegative=True)\n",
    "u_p_N = Cymbol(r'u^{\\mathrm{p}}_\\mathrm{N}', codename='u_p_N_', real=True)"
   ]
  },
  {
   "cell_type": "code",
   "execution_count": 7,
   "metadata": {
    "slideshow": {
     "slide_type": "fragment"
    }
   },
   "outputs": [
    {
     "data": {
      "image/png": "[encoded data removed]",
      "text/latex": [
       "$\\displaystyle \\left[\\begin{matrix}u^{\\mathrm{p}}_{\\mathrm{T}x} & u^{\\mathrm{p}}_{\\mathrm{T}y} & u^{\\mathrm{p}}_\\mathrm{N} & z_\\mathrm{T} & \\alpha_{\\mathrm{T}x} & \\alpha_{\\mathrm{T}x} & \\omega_{\\mathrm{T}} & \\omega_\\mathrm{N}\\end{matrix}\\right]$"
      ],
      "text/plain": [
       "[u_{\\mathrm{T}x}__{\\mathrm{p}}  u_{\\mathrm{T}y}__{\\mathrm{p}}  u_\\mathrm{N}__{\n",
       "\\mathrm{p}}  z_\\mathrm{T}  \\alpha_{\\mathrm{T}x}  \\alpha_{\\mathrm{T}x}  \\omega_\n",
       "{\\mathrm{T}}  \\omega_\\mathrm{N}]"
      ]
     },
     "execution_count": 7,
     "metadata": {},
     "output_type": "execute_result"
    }
   ],
   "source": [
    "Eps = sp.Matrix([u_p_Tx, u_p_Ty, u_p_N, z_T, alpha_Tx, alpha_Ty, omega_T, omega_N])\n",
    "Eps.T"
   ]
  },
  {
   "cell_type": "markdown",
   "metadata": {
    "slideshow": {
     "slide_type": "slide"
    }
   },
   "source": [
    "### Helmholtz free energy"
   ]
  },
  {
   "cell_type": "markdown",
   "metadata": {
    "slideshow": {
     "slide_type": "fragment"
    }
   },
   "source": [
    "The starting point in the thermodynamical representation of a process is a potential function of time dependent state variables. To describe the evolution of the state correctly describing the energy dissipation of the system the gradient of the potential function with respect to the state variables provides the generalized forces. The forces are constrained to characterize specific material properties, e.g. strength, hardening."
   ]
  },
  {
   "cell_type": "code",
   "execution_count": 8,
   "metadata": {
    "slideshow": {
     "slide_type": "fragment"
    }
   },
   "outputs": [],
   "source": [
    "sigma_Tx = Cymbol(r'\\sigma_{\\mathrm{T}x}', codename='sigma_Tx_', real=True)\n",
    "sigma_Ty = Cymbol(r'\\sigma_{\\mathrm{T}y}', codename='sigma_Ty_', real=True)\n",
    "sigma_p_Tx = Cymbol(r'\\sigma^\\mathrm{p}_{\\mathrm{T}x}', codename='sigma_p_Tx_', real=True)\n",
    "sigma_p_Ty = Cymbol(r'\\sigma^\\mathrm{p}_{\\mathrm{T}y}', codename='sigma_p_Ty_', real=True)\n",
    "X_Tx = Cymbol(r'X_{\\mathrm{T}x}', codename='X_Tx_', real=True)\n",
    "X_Ty = Cymbol(r'X_{\\mathrm{T}x}', codename='X_Ty_', real=True)\n",
    "Z_T = Cymbol(r'Z_\\mathrm{T}', codename='Z_T_', real=True, nonnegative=True)\n",
    "Y_T = Cymbol(r'Y_\\mathrm{T}', codename='Y_T_', real=True, nonnegative=True)\n",
    "sigma_N = Cymbol(r'\\sigma_\\mathrm{N}', codename='sigma_N_', real=True)\n",
    "sigma_p_N = Cymbol(r'\\sigma^{\\mathrm{p}}_\\mathrm{N}', codename='sigma_p_N_', real=True)\n",
    "Y_N = Cymbol(r'Y_\\mathrm{N}', codename='Y_N_', real=True, nonnegative=True)"
   ]
  },
  {
   "cell_type": "code",
   "execution_count": 9,
   "metadata": {
    "slideshow": {
     "slide_type": "fragment"
    }
   },
   "outputs": [],
   "source": [
    "rho_psi_T_ = sp.Rational(1, 2) * ( \n",
    "    (1-omega_T)*E_T*(u_Tx-u_p_Tx)**2 + \n",
    "    (1-omega_T)*E_T*(u_Ty-u_p_Ty)**2 + \n",
    "    K_T * z_T**2 + \n",
    "    gamma_T * alpha_Tx**2 +\n",
    "    gamma_T * alpha_Ty**2\n",
    ")\n",
    "\n",
    "rho_psi_N_ = sp.Rational(1, 2) * (\n",
    "    (1 - H(sigma_p_N) * omega_N) * E_N * (u_N - u_p_N)**2\n",
    ")"
   ]
  },
  {
   "cell_type": "code",
   "execution_count": 10,
   "metadata": {},
   "outputs": [
    {
     "data": {
      "image/png": "[encoded data removed]",
      "text/latex": [
       "$\\displaystyle \\frac{E_{\\mathrm{N}} \\left(- u^{\\mathrm{p}}_\\mathrm{N} + u_\\mathrm{N}\\right)^{2} \\left(- \\omega_\\mathrm{N} \\theta\\left(\\sigma^{\\mathrm{p}}_\\mathrm{N}\\right) + 1\\right)}{2} + \\frac{E_{\\mathrm{T}} \\left(1 - \\omega_{\\mathrm{T}}\\right) \\left(,u_{\\mathrm{T}y} - u^{\\mathrm{p}}_{\\mathrm{T}y}\\right)^{2}}{2} + \\frac{E_{\\mathrm{T}} \\left(1 - \\omega_{\\mathrm{T}}\\right) \\left(- u^{\\mathrm{p}}_{\\mathrm{T}x} + u_{\\mathrm{T}x}\\right)^{2}}{2} + \\frac{K_{\\mathrm{T}} z_\\mathrm{T}^{2}}{2} + \\alpha_{\\mathrm{T}x}^{2} \\gamma_{\\mathrm{T}}$"
      ],
      "text/plain": [
       "                                                           2                  \n",
       "E_{\\mathrm{N}}⋅(-u_\\mathrm{N}__{\\mathrm{p}} + u_\\mathrm{N}) ⋅(-\\omega_\\mathrm{\n",
       "──────────────────────────────────────────────────────────────────────────────\n",
       "                                                           2                  \n",
       "\n",
       "                                                                              \n",
       "N}⋅θ(\\sigma_\\mathrm{N}__{\\mathrm{p}}) + 1)   E_{\\mathrm{T}}⋅(1 - \\omega_{\\math\n",
       "────────────────────────────────────────── + ─────────────────────────────────\n",
       "                                                                              \n",
       "\n",
       "                                                          2                   \n",
       "rm{T}})⋅(,u_{\\mathrm{T}y} - u_{\\mathrm{T}y}__{\\mathrm{p}})    E_{\\mathrm{T}}⋅(\n",
       "─────────────────────────────────────────────────────────── + ────────────────\n",
       "            2                                                                 \n",
       "\n",
       "                                                                           2  \n",
       "1 - \\omega_{\\mathrm{T}})⋅(-u_{\\mathrm{T}x}__{\\mathrm{p}} + u_{\\mathrm{T}x})   \n",
       "──────────────────────────────────────────────────────────────────────────── +\n",
       "                             2                                                \n",
       "\n",
       "                            2                                            \n",
       " K_{\\mathrm{T}}⋅z_\\mathrm{T}                        2                    \n",
       " ──────────────────────────── + \\alpha_{\\mathrm{T}x} ⋅\\gamma_{\\mathrm{T}}\n",
       "              2                                                          "
      ]
     },
     "execution_count": 10,
     "metadata": {},
     "output_type": "execute_result"
    }
   ],
   "source": [
    "rho_psi_ = rho_psi_T_ + rho_psi_N_\n",
    "rho_psi_"
   ]
  },
  {
   "cell_type": "markdown",
   "metadata": {
    "slideshow": {
     "slide_type": "slide"
    }
   },
   "source": [
    "### Thermodynamic forces"
   ]
  },
  {
   "cell_type": "code",
   "execution_count": 11,
   "metadata": {
    "slideshow": {
     "slide_type": "fragment"
    }
   },
   "outputs": [
    {
     "data": {
      "image/png": "[encoded data removed]",
      "text/latex": [
       "$\\displaystyle \\left[\\begin{matrix}\\sigma^\\mathrm{p}_{\\mathrm{T}x} & \\sigma^\\mathrm{p}_{\\mathrm{T}y} & \\sigma^{\\mathrm{p}}_\\mathrm{N} & Z_\\mathrm{T} & X_{\\mathrm{T}x} & X_{\\mathrm{T}x} & Y_\\mathrm{T} & Y_\\mathrm{N}\\end{matrix}\\right]$"
      ],
      "text/plain": [
       "[\\sigma_{\\mathrm{T}x}__\\mathrm{p}  \\sigma_{\\mathrm{T}y}__\\mathrm{p}  \\sigma_\\m\n",
       "athrm{N}__{\\mathrm{p}}  Z_\\mathrm{T}  X_{\\mathrm{T}x}  X_{\\mathrm{T}x}  Y_\\mat\n",
       "hrm{T}  Y_\\mathrm{N}]"
      ]
     },
     "execution_count": 11,
     "metadata": {},
     "output_type": "execute_result"
    }
   ],
   "source": [
    "Sig = sp.Matrix([sigma_p_Tx, sigma_p_Ty, sigma_p_N, Z_T, X_Tx, X_Ty, Y_T, Y_N])\n",
    "Sig.T"
   ]
  },
  {
   "cell_type": "markdown",
   "metadata": {
    "slideshow": {
     "slide_type": "slide"
    }
   },
   "source": [
    "The introduce the thermodynamic forces we have to differentiate Hemholtz free energy\n",
    "with respect to the kinematic state variables\n",
    "\\begin{align}\n",
    "\\frac{\\partial \\rho \\psi }{\\partial \\boldsymbol{\\mathcal{E}}}\n",
    "\\end{align}"
   ]
  },
  {
   "cell_type": "code",
   "execution_count": 12,
   "metadata": {
    "slideshow": {
     "slide_type": "fragment"
    }
   },
   "outputs": [
    {
     "data": {
      "image/png": "[encoded data removed]",
      "text/latex": [
       "$\\displaystyle \\left[\\begin{matrix}E_{\\mathrm{T}} \\left(1 - \\omega_{\\mathrm{T}}\\right) \\left(u^{\\mathrm{p}}_{\\mathrm{T}x} - u_{\\mathrm{T}x}\\right)\\\\E_{\\mathrm{T}} \\left(1 - \\omega_{\\mathrm{T}}\\right) \\left(- ,u_{\\mathrm{T}y} + u^{\\mathrm{p}}_{\\mathrm{T}y}\\right)\\\\E_{\\mathrm{N}} \\left(u^{\\mathrm{p}}_\\mathrm{N} - u_\\mathrm{N}\\right) \\left(- \\omega_\\mathrm{N} \\theta\\left(\\sigma^{\\mathrm{p}}_\\mathrm{N}\\right) + 1\\right)\\\\K_{\\mathrm{T}} z_\\mathrm{T}\\\\2 \\alpha_{\\mathrm{T}x} \\gamma_{\\mathrm{T}}\\\\2 \\alpha_{\\mathrm{T}x} \\gamma_{\\mathrm{T}}\\\\- \\frac{E_{\\mathrm{T}} \\left(,u_{\\mathrm{T}y} - u^{\\mathrm{p}}_{\\mathrm{T}y}\\right)^{2}}{2} - \\frac{E_{\\mathrm{T}} \\left(- u^{\\mathrm{p}}_{\\mathrm{T}x} + u_{\\mathrm{T}x}\\right)^{2}}{2}\\\\- \\frac{E_{\\mathrm{N}} \\left(- u^{\\mathrm{p}}_\\mathrm{N} + u_\\mathrm{N}\\right)^{2} \\theta\\left(\\sigma^{\\mathrm{p}}_\\mathrm{N}\\right)}{2}\\end{matrix}\\right]$"
      ],
      "text/plain": [
       "⎡                       E_{\\mathrm{T}}⋅(1 - \\omega_{\\mathrm{T}})⋅(u_{\\mathrm{T\n",
       "⎢                                                                             \n",
       "⎢                      E_{\\mathrm{T}}⋅(1 - \\omega_{\\mathrm{T}})⋅(-,u_{\\mathrm{\n",
       "⎢                                                                             \n",
       "⎢         E_{\\mathrm{N}}⋅(u_\\mathrm{N}__{\\mathrm{p}} - u_\\mathrm{N})⋅(-\\omega_\n",
       "⎢                                                                             \n",
       "⎢                                                       K_{\\mathrm{T}}⋅z_\\math\n",
       "⎢                                                                             \n",
       "⎢                                               2⋅\\alpha_{\\mathrm{T}x}⋅\\gamma_\n",
       "⎢                                                                             \n",
       "⎢                                               2⋅\\alpha_{\\mathrm{T}x}⋅\\gamma_\n",
       "⎢                                                                             \n",
       "⎢                                                                   2         \n",
       "⎢  E_{\\mathrm{T}}⋅(,u_{\\mathrm{T}y} - u_{\\mathrm{T}y}__{\\mathrm{p}})    E_{\\ma\n",
       "⎢- ────────────────────────────────────────────────────────────────── - ──────\n",
       "⎢                                  2                                          \n",
       "⎢                                                                             \n",
       "⎢                                                                             \n",
       "⎢                    -E_{\\mathrm{N}}⋅(-u_\\mathrm{N}__{\\mathrm{p}} + u_\\mathrm{\n",
       "⎢                    ─────────────────────────────────────────────────────────\n",
       "⎣                                                                    2        \n",
       "\n",
       "}x}__{\\mathrm{p}} - u_{\\mathrm{T}x})                        ⎤\n",
       "                                                            ⎥\n",
       "T}y} + u_{\\mathrm{T}y}__{\\mathrm{p}})                       ⎥\n",
       "                                                            ⎥\n",
       "\\mathrm{N}⋅θ(\\sigma_\\mathrm{N}__{\\mathrm{p}}) + 1)          ⎥\n",
       "                                                            ⎥\n",
       "rm{T}                                                       ⎥\n",
       "                                                            ⎥\n",
       "{\\mathrm{T}}                                                ⎥\n",
       "                                                            ⎥\n",
       "{\\mathrm{T}}                                                ⎥\n",
       "                                                            ⎥\n",
       "                                                           2⎥\n",
       "thrm{T}}⋅(-u_{\\mathrm{T}x}__{\\mathrm{p}} + u_{\\mathrm{T}x}) ⎥\n",
       "────────────────────────────────────────────────────────────⎥\n",
       "                          2                                 ⎥\n",
       "                                                            ⎥\n",
       "   2                                                        ⎥\n",
       "N}) ⋅θ(\\sigma_\\mathrm{N}__{\\mathrm{p}})                     ⎥\n",
       "────────────────────────────────────────                    ⎥\n",
       "                                                            ⎦"
      ]
     },
     "execution_count": 12,
     "metadata": {},
     "output_type": "execute_result"
    }
   ],
   "source": [
    "d_rho_psi_ = sp.Matrix([rho_psi_.diff(eps) for eps in Eps])\n",
    "d_rho_psi_"
   ]
  },
  {
   "cell_type": "markdown",
   "metadata": {
    "slideshow": {
     "slide_type": "fragment"
    }
   },
   "source": [
    "To obtain consistent signs of the Helmholtz derivatives we define a sign switch operator so that all generalized forces are defined as positive for the respective conjugate state variable $\\boldsymbol{\\Upsilon}$. "
   ]
  },
  {
   "cell_type": "code",
   "execution_count": 13,
   "metadata": {
    "slideshow": {
     "slide_type": "fragment"
    }
   },
   "outputs": [],
   "source": [
    "Sig_signs = sp.diag(-1, -1, -1, 1, 1, 1, -1, -1)"
   ]
  },
  {
   "cell_type": "markdown",
   "metadata": {
    "slideshow": {
     "slide_type": "slide"
    }
   },
   "source": [
    "The constitutive laws between generalized force and kinematic variables then read\n",
    "\\begin{align}\n",
    "\\boldsymbol{\\mathcal{S}} = \\boldsymbol{\\Upsilon}\\frac{\\rho \\psi}{\\partial\\boldsymbol{\\mathcal{E}}} \n",
    "\\end{align}"
   ]
  },
  {
   "cell_type": "code",
   "execution_count": 14,
   "metadata": {
    "slideshow": {
     "slide_type": "fragment"
    }
   },
   "outputs": [
    {
     "data": {
      "image/png": "[encoded data removed]",
      "text/latex": [
       "$\\displaystyle \\left[\\begin{matrix}- E_{\\mathrm{T}} \\left(1 - \\omega_{\\mathrm{T}}\\right) \\left(u^{\\mathrm{p}}_{\\mathrm{T}x} - u_{\\mathrm{T}x}\\right)\\\\- E_{\\mathrm{T}} \\left(1 - \\omega_{\\mathrm{T}}\\right) \\left(- ,u_{\\mathrm{T}y} + u^{\\mathrm{p}}_{\\mathrm{T}y}\\right)\\\\- E_{\\mathrm{N}} \\left(u^{\\mathrm{p}}_\\mathrm{N} - u_\\mathrm{N}\\right) \\left(- \\omega_\\mathrm{N} \\theta\\left(\\sigma^{\\mathrm{p}}_\\mathrm{N}\\right) + 1\\right)\\\\K_{\\mathrm{T}} z_\\mathrm{T}\\\\2 \\alpha_{\\mathrm{T}x} \\gamma_{\\mathrm{T}}\\\\2 \\alpha_{\\mathrm{T}x} \\gamma_{\\mathrm{T}}\\\\\\frac{E_{\\mathrm{T}} \\left(,u_{\\mathrm{T}y} - u^{\\mathrm{p}}_{\\mathrm{T}y}\\right)^{2}}{2} + \\frac{E_{\\mathrm{T}} \\left(- u^{\\mathrm{p}}_{\\mathrm{T}x} + u_{\\mathrm{T}x}\\right)^{2}}{2}\\\\\\frac{E_{\\mathrm{N}} \\left(- u^{\\mathrm{p}}_\\mathrm{N} + u_\\mathrm{N}\\right)^{2} \\theta\\left(\\sigma^{\\mathrm{p}}_\\mathrm{N}\\right)}{2}\\end{matrix}\\right]$"
      ],
      "text/plain": [
       "⎡                      -E_{\\mathrm{T}}⋅(1 - \\omega_{\\mathrm{T}})⋅(u_{\\mathrm{T\n",
       "⎢                                                                             \n",
       "⎢                     -E_{\\mathrm{T}}⋅(1 - \\omega_{\\mathrm{T}})⋅(-,u_{\\mathrm{\n",
       "⎢                                                                             \n",
       "⎢        -E_{\\mathrm{N}}⋅(u_\\mathrm{N}__{\\mathrm{p}} - u_\\mathrm{N})⋅(-\\omega_\n",
       "⎢                                                                             \n",
       "⎢                                                      K_{\\mathrm{T}}⋅z_\\mathr\n",
       "⎢                                                                             \n",
       "⎢                                              2⋅\\alpha_{\\mathrm{T}x}⋅\\gamma_{\n",
       "⎢                                                                             \n",
       "⎢                                              2⋅\\alpha_{\\mathrm{T}x}⋅\\gamma_{\n",
       "⎢                                                                             \n",
       "⎢                                                                 2           \n",
       "⎢E_{\\mathrm{T}}⋅(,u_{\\mathrm{T}y} - u_{\\mathrm{T}y}__{\\mathrm{p}})    E_{\\math\n",
       "⎢────────────────────────────────────────────────────────────────── + ────────\n",
       "⎢                                2                                            \n",
       "⎢                                                                             \n",
       "⎢                                                                             \n",
       "⎢                    E_{\\mathrm{N}}⋅(-u_\\mathrm{N}__{\\mathrm{p}} + u_\\mathrm{N\n",
       "⎢                    ─────────────────────────────────────────────────────────\n",
       "⎣                                                                   2         \n",
       "\n",
       "}x}__{\\mathrm{p}} - u_{\\mathrm{T}x})                      ⎤\n",
       "                                                          ⎥\n",
       "T}y} + u_{\\mathrm{T}y}__{\\mathrm{p}})                     ⎥\n",
       "                                                          ⎥\n",
       "\\mathrm{N}⋅θ(\\sigma_\\mathrm{N}__{\\mathrm{p}}) + 1)        ⎥\n",
       "                                                          ⎥\n",
       "m{T}                                                      ⎥\n",
       "                                                          ⎥\n",
       "\\mathrm{T}}                                               ⎥\n",
       "                                                          ⎥\n",
       "\\mathrm{T}}                                               ⎥\n",
       "                                                          ⎥\n",
       "                                                         2⎥\n",
       "rm{T}}⋅(-u_{\\mathrm{T}x}__{\\mathrm{p}} + u_{\\mathrm{T}x}) ⎥\n",
       "──────────────────────────────────────────────────────────⎥\n",
       "                        2                                 ⎥\n",
       "                                                          ⎥\n",
       "  2                                                       ⎥\n",
       "}) ⋅θ(\\sigma_\\mathrm{N}__{\\mathrm{p}})                    ⎥\n",
       "──────────────────────────────────────                    ⎥\n",
       "                                                          ⎦"
      ]
     },
     "execution_count": 14,
     "metadata": {},
     "output_type": "execute_result"
    }
   ],
   "source": [
    "Sig_ = Sig_signs * d_rho_psi_\n",
    "Sig_"
   ]
  },
  {
   "cell_type": "markdown",
   "metadata": {
    "slideshow": {
     "slide_type": "fragment"
    }
   },
   "source": [
    "**Executable code for** $\\boldsymbol{\\mathcal{S}}(s,\\boldsymbol{\\mathcal{E}})$"
   ]
  },
  {
   "cell_type": "code",
   "execution_count": 15,
   "metadata": {},
   "outputs": [],
   "source": [
    "get_Sig = sp.lambdify( \n",
    "    (u_Tx, u_Ty, u_N, Sig, Eps) + sp_vars + ('**kw',), Sig_.T, numpy_dirac\n",
    ")\n",
    "get_Sig_C = ccode('get_Sig',Sig_,'SLIDE3_4')"
   ]
  },
  {
   "cell_type": "markdown",
   "metadata": {
    "slideshow": {
     "slide_type": "slide"
    }
   },
   "source": [
    "To derive the time stepping procedure we will need also the matrix of derivatives of the generalized stresses $\\boldsymbol{\\mathcal{S}}$ with respect to the kinematic variables $\\boldsymbol{\\mathcal{E}}$ \n",
    "\\begin{align}\n",
    "\\frac{\\partial \\boldsymbol{S}}{\\partial \\boldsymbol{E}}\n",
    "\\end{align}"
   ]
  },
  {
   "cell_type": "code",
   "execution_count": 16,
   "metadata": {
    "slideshow": {
     "slide_type": "fragment"
    }
   },
   "outputs": [
    {
     "data": {
      "image/png": "[encoded data removed]",
      "text/latex": [
       "$\\displaystyle \\left[\\begin{matrix}E_{\\mathrm{T}} \\left(\\omega_{\\mathrm{T}} - 1\\right) & 0 & 0 & 0 & 0 & 0 & E_{\\mathrm{T}} \\left(u^{\\mathrm{p}}_{\\mathrm{T}x} - u_{\\mathrm{T}x}\\right) & 0\\\\0 & E_{\\mathrm{T}} \\left(\\omega_{\\mathrm{T}} - 1\\right) & 0 & 0 & 0 & 0 & E_{\\mathrm{T}} \\left(- ,u_{\\mathrm{T}y} + u^{\\mathrm{p}}_{\\mathrm{T}y}\\right) & 0\\\\0 & 0 & E_{\\mathrm{N}} \\left(\\omega_\\mathrm{N} \\theta\\left(\\sigma^{\\mathrm{p}}_\\mathrm{N}\\right) - 1\\right) & 0 & 0 & 0 & 0 & E_{\\mathrm{N}} \\left(u^{\\mathrm{p}}_\\mathrm{N} - u_\\mathrm{N}\\right) \\theta\\left(\\sigma^{\\mathrm{p}}_\\mathrm{N}\\right)\\\\0 & 0 & 0 & K_{\\mathrm{T}} & 0 & 0 & 0 & 0\\\\0 & 0 & 0 & 0 & 2 \\gamma_{\\mathrm{T}} & 2 \\gamma_{\\mathrm{T}} & 0 & 0\\\\0 & 0 & 0 & 0 & 2 \\gamma_{\\mathrm{T}} & 2 \\gamma_{\\mathrm{T}} & 0 & 0\\\\E_{\\mathrm{T}} \\left(u^{\\mathrm{p}}_{\\mathrm{T}x} - u_{\\mathrm{T}x}\\right) & E_{\\mathrm{T}} \\left(- ,u_{\\mathrm{T}y} + u^{\\mathrm{p}}_{\\mathrm{T}y}\\right) & 0 & 0 & 0 & 0 & 0 & 0\\\\0 & 0 & E_{\\mathrm{N}} \\left(u^{\\mathrm{p}}_\\mathrm{N} - u_\\mathrm{N}\\right) \\theta\\left(\\sigma^{\\mathrm{p}}_\\mathrm{N}\\right) & 0 & 0 & 0 & 0 & 0\\end{matrix}\\right]$"
      ],
      "text/plain": [
       "⎡            E_{\\mathrm{T}}⋅(\\omega_{\\mathrm{T}} - 1)                         \n",
       "⎢                                                                             \n",
       "⎢                               0                                             \n",
       "⎢                                                                             \n",
       "⎢                               0                                             \n",
       "⎢                                                                             \n",
       "⎢                               0                                             \n",
       "⎢                                                                             \n",
       "⎢                               0                                             \n",
       "⎢                                                                             \n",
       "⎢                               0                                             \n",
       "⎢                                                                             \n",
       "⎢E_{\\mathrm{T}}⋅(u_{\\mathrm{T}x}__{\\mathrm{p}} - u_{\\mathrm{T}x})  E_{\\mathrm{\n",
       "⎢                                                                             \n",
       "⎣                               0                                             \n",
       "\n",
       "                     0                                                        \n",
       "                                                                              \n",
       "  E_{\\mathrm{T}}⋅(\\omega_{\\mathrm{T}} - 1)                                    \n",
       "                                                                              \n",
       "                     0                                             E_{\\mathrm{\n",
       "                                                                              \n",
       "                     0                                                        \n",
       "                                                                              \n",
       "                     0                                                        \n",
       "                                                                              \n",
       "                     0                                                        \n",
       "                                                                              \n",
       "T}}⋅(-,u_{\\mathrm{T}y} + u_{\\mathrm{T}y}__{\\mathrm{p}})                       \n",
       "                                                                              \n",
       "                     0                                   E_{\\mathrm{N}}⋅(u_\\ma\n",
       "\n",
       "                         0                                                    \n",
       "                                                                              \n",
       "                         0                                                    \n",
       "                                                                              \n",
       "N}}⋅(\\omega_\\mathrm{N}⋅θ(\\sigma_\\mathrm{N}__{\\mathrm{p}}) - 1)                \n",
       "                                                                              \n",
       "                         0                                                K_{\\\n",
       "                                                                              \n",
       "                         0                                                    \n",
       "                                                                              \n",
       "                         0                                                    \n",
       "                                                                              \n",
       "                         0                                                    \n",
       "                                                                              \n",
       "thrm{N}__{\\mathrm{p}} - u_\\mathrm{N})⋅θ(\\sigma_\\mathrm{N}__{\\mathrm{p}})      \n",
       "\n",
       "  0                   0                      0             E_{\\mathrm{T}}⋅(u_{\n",
       "                                                                              \n",
       "  0                   0                      0            E_{\\mathrm{T}}⋅(-,u_\n",
       "                                                                              \n",
       "  0                   0                      0                                \n",
       "                                                                              \n",
       "mathrm{T}}            0                      0                                \n",
       "                                                                              \n",
       "  0         2⋅\\gamma_{\\mathrm{T}}  2⋅\\gamma_{\\mathrm{T}}                      \n",
       "                                                                              \n",
       "  0         2⋅\\gamma_{\\mathrm{T}}  2⋅\\gamma_{\\mathrm{T}}                      \n",
       "                                                                              \n",
       "  0                   0                      0                                \n",
       "                                                                              \n",
       "  0                   0                      0                                \n",
       "\n",
       "\\mathrm{T}x}__{\\mathrm{p}} - u_{\\mathrm{T}x})                                 \n",
       "                                                                              \n",
       "{\\mathrm{T}y} + u_{\\mathrm{T}y}__{\\mathrm{p}})                                \n",
       "                                                                              \n",
       "            0                                   E_{\\mathrm{N}}⋅(u_\\mathrm{N}__\n",
       "                                                                              \n",
       "            0                                                                 \n",
       "                                                                              \n",
       "            0                                                                 \n",
       "                                                                              \n",
       "            0                                                                 \n",
       "                                                                              \n",
       "            0                                                                 \n",
       "                                                                              \n",
       "            0                                                                 \n",
       "\n",
       "                0                                              ⎤\n",
       "                                                               ⎥\n",
       "                0                                              ⎥\n",
       "                                                               ⎥\n",
       "{\\mathrm{p}} - u_\\mathrm{N})⋅θ(\\sigma_\\mathrm{N}__{\\mathrm{p}})⎥\n",
       "                                                               ⎥\n",
       "                0                                              ⎥\n",
       "                                                               ⎥\n",
       "                0                                              ⎥\n",
       "                                                               ⎥\n",
       "                0                                              ⎥\n",
       "                                                               ⎥\n",
       "                0                                              ⎥\n",
       "                                                               ⎥\n",
       "                0                                              ⎦"
      ]
     },
     "execution_count": 16,
     "metadata": {},
     "output_type": "execute_result"
    }
   ],
   "source": [
    "dSig_dEps_ = sp.Matrix([\n",
    "    Sig_.T.diff(eps) for eps in Eps \n",
    "]).T\n",
    "dSig_dEps_"
   ]
  },
  {
   "cell_type": "markdown",
   "metadata": {
    "slideshow": {
     "slide_type": "fragment"
    }
   },
   "source": [
    "**Executable Python code generation** $\\displaystyle \\frac{\\partial }{\\partial \\boldsymbol{\\mathcal{E}}}  \\boldsymbol{\\mathcal{S}}(s,\\boldsymbol{\\mathcal{E}})$"
   ]
  },
  {
   "cell_type": "code",
   "execution_count": 17,
   "metadata": {
    "slideshow": {
     "slide_type": "fragment"
    }
   },
   "outputs": [],
   "source": [
    "get_dSig_dEps = sp.lambdify(\n",
    "    (u_Tx, u_Ty, u_N, Sig, Eps) + sp_vars + ('**kw',), dSig_dEps_, numpy_dirac\n",
    ")\n",
    "get_dSig_dEps_C = ccode('get_dSig_dEps', dSig_dEps_, 'SLIDE3_4')"
   ]
  },
  {
   "cell_type": "markdown",
   "metadata": {
    "slideshow": {
     "slide_type": "slide"
    }
   },
   "source": [
    "## **2.2 Threshold function**"
   ]
  },
  {
   "cell_type": "markdown",
   "metadata": {
    "slideshow": {
     "slide_type": "fragment"
    }
   },
   "source": [
    "To keep the framework general for different stress norms and hardening definitions let us first introduce a general function for effective stress. Note that the observable stress $\\tau$ is identical with the plastic stress $\\tau_\\pi$ due to the performed sign switch in the definition of the thermodynamic forces."
   ]
  },
  {
   "cell_type": "code",
   "execution_count": 18,
   "metadata": {
    "slideshow": {
     "slide_type": "fragment"
    }
   },
   "outputs": [
    {
     "data": {
      "image/png": "[encoded data removed]",
      "text/latex": [
       "$\\displaystyle \\left( \\sigma^{\\mathrm{eff}}_{\\mathrm{T}x}{\\left(\\sigma^\\mathrm{p}_{\\mathrm{T}x},\\omega_{\\mathrm{T}} \\right)}, \\  \\sigma^{\\mathrm{eff}}_{\\mathrm{T}y}{\\left(\\sigma^\\mathrm{p}_{\\mathrm{T}y},\\omega_{\\mathrm{T}} \\right)}, \\  \\sigma^{\\mathrm{eff}}_{\\mathrm{N}}{\\left(\\sigma^{\\mathrm{p}}_\\mathrm{N},\\omega_\\mathrm{N} \\right)}\\right)$"
      ],
      "text/plain": [
       "(\\sigma_{\\mathrm{T}x}__{\\mathrm{eff}}(\\sigma_{\\mathrm{T}x}__\\mathrm{p}, \\omega\n",
       "_{\\mathrm{T}}), \\sigma_{\\mathrm{T}y}__{\\mathrm{eff}}(\\sigma_{\\mathrm{T}y}__\\ma\n",
       "thrm{p}, \\omega_{\\mathrm{T}}), \\sigma_{\\mathrm{N}}__{\\mathrm{eff}}(\\sigma_\\mat\n",
       "hrm{N}__{\\mathrm{p}}, \\omega_\\mathrm{N}))"
      ]
     },
     "execution_count": 18,
     "metadata": {},
     "output_type": "execute_result"
    }
   ],
   "source": [
    "sigma_eff_Tx = sp.Function(r'\\sigma^{\\mathrm{eff}}_{\\mathrm{T}x}')(sigma_p_Tx, omega_T)\n",
    "sigma_eff_Ty = sp.Function(r'\\sigma^{\\mathrm{eff}}_{\\mathrm{T}y}')(sigma_p_Ty, omega_T)\n",
    "sigma_eff_N = sp.Function(r'\\sigma^{\\mathrm{eff}}_{\\mathrm{N}}')(sigma_p_N, omega_N)\n",
    "q_Tx = sp.Function('q_Tx')(sigma_eff_Tx,X_Tx)\n",
    "q_Ty = sp.Function('q_Ty')(sigma_eff_Ty,X_Ty)\n",
    "sigma_eff_Tx, sigma_eff_Ty, sigma_eff_N"
   ]
  },
  {
   "cell_type": "markdown",
   "metadata": {
    "slideshow": {
     "slide_type": "slide"
    }
   },
   "source": [
    "The stress norm is defined using the stress offset $X$, i.e. the kinematic hardening stress representing the shift of the origin of the yield locus.  "
   ]
  },
  {
   "cell_type": "code",
   "execution_count": 19,
   "metadata": {
    "slideshow": {
     "slide_type": "fragment"
    }
   },
   "outputs": [
    {
     "data": {
      "image/png": "[encoded data removed]",
      "text/latex": [
       "$\\displaystyle \\sqrt{\\operatorname{q_{Tx}}^{2}{\\left(\\sigma^{\\mathrm{eff}}_{\\mathrm{T}x}{\\left(\\sigma^\\mathrm{p}_{\\mathrm{T}x},\\omega_{\\mathrm{T}} \\right)},X_{\\mathrm{T}x} \\right)} + \\operatorname{q_{Ty}}^{2}{\\left(\\sigma^{\\mathrm{eff}}_{\\mathrm{T}y}{\\left(\\sigma^\\mathrm{p}_{\\mathrm{T}y},\\omega_{\\mathrm{T}} \\right)},X_{\\mathrm{T}x} \\right)}}$"
      ],
      "text/plain": [
       "   ___________________________________________________________________________\n",
       "  ╱     2                                                                     \n",
       "╲╱  q_Tx (\\sigma_{\\mathrm{T}x}__{\\mathrm{eff}}(\\sigma_{\\mathrm{T}x}__\\mathrm{p\n",
       "\n",
       "______________________________________________________________________________\n",
       "                                                2                             \n",
       "}, \\omega_{\\mathrm{T}}), X_{\\mathrm{T}x}) + q_Ty (\\sigma_{\\mathrm{T}y}__{\\math\n",
       "\n",
       "______________________________________________________________________________\n",
       "                                                                              \n",
       "rm{eff}}(\\sigma_{\\mathrm{T}y}__\\mathrm{p}, \\omega_{\\mathrm{T}}), X_{\\mathrm{T}\n",
       "\n",
       "____\n",
       "    \n",
       "x}) "
      ]
     },
     "execution_count": 19,
     "metadata": {},
     "output_type": "execute_result"
    }
   ],
   "source": [
    "norm_q_T = sp.sqrt(q_Tx*q_Tx + q_Ty*q_Ty)\n",
    "norm_q_T"
   ]
  },
  {
   "cell_type": "markdown",
   "metadata": {
    "slideshow": {
     "slide_type": "slide"
    }
   },
   "source": [
    "Let us now introduce the back stress $X$ by defining the substitution for $Q = \\tau^\\mathrm{eff} - X$"
   ]
  },
  {
   "cell_type": "code",
   "execution_count": 20,
   "metadata": {
    "slideshow": {
     "slide_type": "fragment"
    }
   },
   "outputs": [
    {
     "data": {
      "image/png": "[encoded data removed]",
      "text/latex": [
       "$\\displaystyle \\left\\{ \\operatorname{q_{Tx}}{\\left(\\sigma^{\\mathrm{eff}}_{\\mathrm{T}x}{\\left(\\sigma^\\mathrm{p}_{\\mathrm{T}x},\\omega_{\\mathrm{T}} \\right)},X_{\\mathrm{T}x} \\right)} : - X_{\\mathrm{T}x} + \\sigma^{\\mathrm{eff}}_{\\mathrm{T}x}{\\left(\\sigma^\\mathrm{p}_{\\mathrm{T}x},\\omega_{\\mathrm{T}} \\right)}, \\  \\operatorname{q_{Ty}}{\\left(\\sigma^{\\mathrm{eff}}_{\\mathrm{T}y}{\\left(\\sigma^\\mathrm{p}_{\\mathrm{T}y},\\omega_{\\mathrm{T}} \\right)},X_{\\mathrm{T}x} \\right)} : - X_{\\mathrm{T}x} + \\sigma^{\\mathrm{eff}}_{\\mathrm{T}y}{\\left(\\sigma^\\mathrm{p}_{\\mathrm{T}y},\\omega_{\\mathrm{T}} \\right)}\\right\\}$"
      ],
      "text/plain": [
       "{q_Tx(\\sigma_{\\mathrm{T}x}__{\\mathrm{eff}}(\\sigma_{\\mathrm{T}x}__\\mathrm{p}, \\\n",
       "omega_{\\mathrm{T}}), X_{\\mathrm{T}x}): -X_{\\mathrm{T}x} + \\sigma_{\\mathrm{T}x}\n",
       "__{\\mathrm{eff}}(\\sigma_{\\mathrm{T}x}__\\mathrm{p}, \\omega_{\\mathrm{T}}), q_Ty(\n",
       "\\sigma_{\\mathrm{T}y}__{\\mathrm{eff}}(\\sigma_{\\mathrm{T}y}__\\mathrm{p}, \\omega_\n",
       "{\\mathrm{T}}), X_{\\mathrm{T}x}): -X_{\\mathrm{T}x} + \\sigma_{\\mathrm{T}y}__{\\ma\n",
       "thrm{eff}}(\\sigma_{\\mathrm{T}y}__\\mathrm{p}, \\omega_{\\mathrm{T}})}"
      ]
     },
     "execution_count": 20,
     "metadata": {},
     "output_type": "execute_result"
    }
   ],
   "source": [
    "subs_q_T = {q_Tx: sigma_eff_Tx - X_Tx, q_Ty: sigma_eff_Ty - X_Ty}\n",
    "subs_q_T"
   ]
  },
  {
   "cell_type": "markdown",
   "metadata": {
    "slideshow": {
     "slide_type": "fragment"
    }
   },
   "source": [
    "Further substitution rule introduces the effective stress as a function of damage as"
   ]
  },
  {
   "cell_type": "code",
   "execution_count": 21,
   "metadata": {
    "slideshow": {
     "slide_type": "fragment"
    }
   },
   "outputs": [
    {
     "data": {
      "image/png": "[encoded data removed]",
      "text/latex": [
       "$\\displaystyle \\left\\{ \\sigma^{\\mathrm{eff}}_{\\mathrm{N}}{\\left(\\sigma^{\\mathrm{p}}_\\mathrm{N},\\omega_\\mathrm{N} \\right)} : \\frac{\\sigma^{\\mathrm{p}}_\\mathrm{N}}{- \\omega_\\mathrm{N} \\theta\\left(\\sigma^{\\mathrm{p}}_\\mathrm{N}\\right) + 1}, \\  \\sigma^{\\mathrm{eff}}_{\\mathrm{T}x}{\\left(\\sigma^\\mathrm{p}_{\\mathrm{T}x},\\omega_{\\mathrm{T}} \\right)} : \\frac{\\sigma^\\mathrm{p}_{\\mathrm{T}x}}{1 - \\omega_{\\mathrm{T}}}, \\  \\sigma^{\\mathrm{eff}}_{\\mathrm{T}y}{\\left(\\sigma^\\mathrm{p}_{\\mathrm{T}y},\\omega_{\\mathrm{T}} \\right)} : \\frac{\\sigma^\\mathrm{p}_{\\mathrm{T}y}}{1 - \\omega_{\\mathrm{T}}}\\right\\}$"
      ],
      "text/plain": [
       "⎧                                                                             \n",
       "⎨\\sigma_{\\mathrm{N}}__{\\mathrm{eff}}(\\sigma_\\mathrm{N}__{\\mathrm{p}}, \\omega_\\\n",
       "⎩                                                                             \n",
       "\n",
       "                         \\sigma_\\mathrm{N}__{\\mathrm{p}}                      \n",
       "mathrm{N}): ─────────────────────────────────────────────────────────, \\sigma_\n",
       "            -\\omega_\\mathrm{N}⋅θ(\\sigma_\\mathrm{N}__{\\mathrm{p}}) + 1         \n",
       "\n",
       "                                                                              \n",
       "{\\mathrm{T}x}__{\\mathrm{eff}}(\\sigma_{\\mathrm{T}x}__\\mathrm{p}, \\omega_{\\mathr\n",
       "                                                                              \n",
       "\n",
       "        \\sigma_{\\mathrm{T}x}__\\mathrm{p}                                      \n",
       "m{T}}): ────────────────────────────────, \\sigma_{\\mathrm{T}y}__{\\mathrm{eff}}\n",
       "            1 - \\omega_{\\mathrm{T}}                                           \n",
       "\n",
       "                                                         \\sigma_{\\mathrm{T}y}_\n",
       "(\\sigma_{\\mathrm{T}y}__\\mathrm{p}, \\omega_{\\mathrm{T}}): ─────────────────────\n",
       "                                                             1 - \\omega_{\\math\n",
       "\n",
       "_\\mathrm{p}⎫\n",
       "───────────⎬\n",
       "rm{T}}     ⎭"
      ]
     },
     "execution_count": 21,
     "metadata": {},
     "output_type": "execute_result"
    }
   ],
   "source": [
    "subs_sigma_eff = {sigma_eff_Tx: sigma_p_Tx / (1-omega_T),\n",
    "                  sigma_eff_Ty: sigma_p_Ty / (1-omega_T),\n",
    "                  sigma_eff_N: sigma_p_N / (1-H(sigma_p_N)*omega_N)\n",
    "                 }\n",
    "subs_sigma_eff"
   ]
  },
  {
   "cell_type": "markdown",
   "metadata": {
    "slideshow": {
     "slide_type": "slide"
    }
   },
   "source": [
    "After substitutions the yield function reads"
   ]
  },
  {
   "cell_type": "markdown",
   "metadata": {},
   "source": [
    "**Smooth yield function**"
   ]
  },
  {
   "cell_type": "code",
   "execution_count": 22,
   "metadata": {},
   "outputs": [
    {
     "data": {
      "image/png": "[encoded data removed]",
      "text/latex": [
       "$\\displaystyle \\begin{cases} \\sqrt{\\frac{\\left(\\left(- X_{\\mathrm{T}x} + \\frac{\\sigma^\\mathrm{p}_{\\mathrm{T}x}}{1 - \\omega_{\\mathrm{T}}}\\right)^{2} + \\left(- X_{\\mathrm{T}x} + \\frac{\\sigma^\\mathrm{p}_{\\mathrm{T}y}}{1 - \\omega_{\\mathrm{T}}}\\right)^{2}\\right) \\left(f_\\mathrm{t}^{2} m^{2} - 2 f_\\mathrm{t} m \\left(Z_\\mathrm{T} + f_\\mathrm{s}\\right) + \\left(Z_\\mathrm{T} + f_\\mathrm{s}\\right)^{2}\\right)^{2}}{\\left(Z_\\mathrm{T} + f_\\mathrm{s}\\right) \\left(Z_\\mathrm{T} + f_\\mathrm{s} - 2 f_\\mathrm{t} m\\right) \\left(Z_\\mathrm{T} + f_\\mathrm{s} - f_\\mathrm{t} m\\right)^{2}} + \\frac{\\left(\\frac{\\sigma^{\\mathrm{p}}_\\mathrm{N}}{- \\omega_\\mathrm{N} \\theta\\left(\\sigma^{\\mathrm{p}}_\\mathrm{N}\\right) + 1} - \\frac{f_\\mathrm{t}^{2} m}{- Z_\\mathrm{T} - f_\\mathrm{s} + 2 f_\\mathrm{t} m}\\right)^{2} \\left(f_\\mathrm{t}^{2} m^{2} - 2 f_\\mathrm{t} m \\left(Z_\\mathrm{T} + f_\\mathrm{s}\\right) + \\left(Z_\\mathrm{T} + f_\\mathrm{s}\\right)^{2}\\right)^{2}}{f_\\mathrm{t}^{2} \\left(Z_\\mathrm{T} + f_\\mathrm{s} - f_\\mathrm{t} m\\right)^{2}}} - \\frac{f_\\mathrm{t}^{2} m^{2} - 2 f_\\mathrm{t} m \\left(Z_\\mathrm{T} + f_\\mathrm{s}\\right) + \\left(Z_\\mathrm{T} + f_\\mathrm{s}\\right)^{2}}{Z_\\mathrm{T} + f_\\mathrm{s} - 2 f_\\mathrm{t} m} & \\text{for}\\: \\left(\\left|{\\sqrt{\\left(- X_{\\mathrm{T}x} + \\frac{\\sigma^\\mathrm{p}_{\\mathrm{T}x}}{1 - \\omega_{\\mathrm{T}}}\\right)^{2} + \\left(- X_{\\mathrm{T}x} + \\frac{\\sigma^\\mathrm{p}_{\\mathrm{T}y}}{1 - \\omega_{\\mathrm{T}}}\\right)^{2}}}\\right| + \\frac{\\left(Z_\\mathrm{T} + f_\\mathrm{s}\\right) \\left(\\frac{\\sigma^{\\mathrm{p}}_\\mathrm{N}}{- \\omega_\\mathrm{N} \\theta\\left(\\sigma^{\\mathrm{p}}_\\mathrm{N}\\right) + 1} - \\frac{f_\\mathrm{t}^{2} m}{- Z_\\mathrm{T} - f_\\mathrm{s} + 2 f_\\mathrm{t} m}\\right) \\left(- Z_\\mathrm{T} - f_\\mathrm{s} + 2 f_\\mathrm{t} m\\right)}{f_\\mathrm{t}^{2} m}\\right) \\operatorname{sign}{\\left(f_\\mathrm{t} \\right)} \\operatorname{sign}{\\left(m \\right)} < 0 \\\\\\sqrt{\\frac{\\left(\\left(- X_{\\mathrm{T}x} + \\frac{\\sigma^\\mathrm{p}_{\\mathrm{T}x}}{1 - \\omega_{\\mathrm{T}}}\\right)^{2} + \\left(- X_{\\mathrm{T}x} + \\frac{\\sigma^\\mathrm{p}_{\\mathrm{T}y}}{1 - \\omega_{\\mathrm{T}}}\\right)^{2}\\right) \\left(f_\\mathrm{c0}^{2} m^{2} - 2 f_\\mathrm{c0} f_\\mathrm{c} m^{2} - 2 f_\\mathrm{c0} m \\left(Z_\\mathrm{T} + f_\\mathrm{c0} m + f_\\mathrm{s}\\right) + f_\\mathrm{c}^{2} m^{2} + 2 f_\\mathrm{c} m \\left(Z_\\mathrm{T} + f_\\mathrm{c0} m + f_\\mathrm{s}\\right) + \\left(Z_\\mathrm{T} + f_\\mathrm{c0} m + f_\\mathrm{s}\\right)^{2}\\right)^{2}}{\\left(Z_\\mathrm{T} + f_\\mathrm{c0} m + f_\\mathrm{s}\\right) \\left(Z_\\mathrm{T} + f_\\mathrm{c} m + f_\\mathrm{s}\\right)^{2} \\left(Z_\\mathrm{T} - f_\\mathrm{c0} m + 2 f_\\mathrm{c} m + f_\\mathrm{s}\\right)} + \\frac{\\left(\\frac{\\sigma^{\\mathrm{p}}_\\mathrm{N}}{- \\omega_\\mathrm{N} \\theta\\left(\\sigma^{\\mathrm{p}}_\\mathrm{N}\\right) + 1} + f_\\mathrm{c0} - \\frac{m \\left(f_\\mathrm{c0}^{2} - 2 f_\\mathrm{c0} f_\\mathrm{c} + f_\\mathrm{c}^{2}\\right)}{- Z_\\mathrm{T} + f_\\mathrm{c0} m - 2 f_\\mathrm{c} m - f_\\mathrm{s}}\\right)^{2} \\left(f_\\mathrm{c0}^{2} m^{2} - 2 f_\\mathrm{c0} f_\\mathrm{c} m^{2} - 2 f_\\mathrm{c0} m \\left(Z_\\mathrm{T} + f_\\mathrm{c0} m + f_\\mathrm{s}\\right) + f_\\mathrm{c}^{2} m^{2} + 2 f_\\mathrm{c} m \\left(Z_\\mathrm{T} + f_\\mathrm{c0} m + f_\\mathrm{s}\\right) + \\left(Z_\\mathrm{T} + f_\\mathrm{c0} m + f_\\mathrm{s}\\right)^{2}\\right)^{2}}{\\left(f_\\mathrm{c0} - f_\\mathrm{c}\\right)^{2} \\left(Z_\\mathrm{T} + f_\\mathrm{c} m + f_\\mathrm{s}\\right)^{2}}} - \\frac{f_\\mathrm{c0}^{2} m^{2} - 2 f_\\mathrm{c0} f_\\mathrm{c} m^{2} - 2 f_\\mathrm{c0} m \\left(Z_\\mathrm{T} + f_\\mathrm{c0} m + f_\\mathrm{s}\\right) + f_\\mathrm{c}^{2} m^{2} + 2 f_\\mathrm{c} m \\left(Z_\\mathrm{T} + f_\\mathrm{c0} m + f_\\mathrm{s}\\right) + \\left(Z_\\mathrm{T} + f_\\mathrm{c0} m + f_\\mathrm{s}\\right)^{2}}{Z_\\mathrm{T} - f_\\mathrm{c0} m + 2 f_\\mathrm{c} m + f_\\mathrm{s}} & \\text{for}\\: \\left(\\left|{\\sqrt{\\left(- X_{\\mathrm{T}x} + \\frac{\\sigma^\\mathrm{p}_{\\mathrm{T}x}}{1 - \\omega_{\\mathrm{T}}}\\right)^{2} + \\left(- X_{\\mathrm{T}x} + \\frac{\\sigma^\\mathrm{p}_{\\mathrm{T}y}}{1 - \\omega_{\\mathrm{T}}}\\right)^{2}}}\\right| + \\frac{\\left(Z_\\mathrm{T} + f_\\mathrm{c0} m + f_\\mathrm{s}\\right) \\left(\\frac{\\sigma^{\\mathrm{p}}_\\mathrm{N}}{- \\omega_\\mathrm{N} \\theta\\left(\\sigma^{\\mathrm{p}}_\\mathrm{N}\\right) + 1} + f_\\mathrm{c0} - \\frac{m \\left(f_\\mathrm{c0}^{2} - 2 f_\\mathrm{c0} f_\\mathrm{c} + f_\\mathrm{c}^{2}\\right)}{- Z_\\mathrm{T} + f_\\mathrm{c0} m - 2 f_\\mathrm{c} m - f_\\mathrm{s}}\\right) \\left(- Z_\\mathrm{T} + f_\\mathrm{c0} m - 2 f_\\mathrm{c} m - f_\\mathrm{s}\\right)}{m \\left(f_\\mathrm{c0}^{2} - 2 f_\\mathrm{c0} f_\\mathrm{c} + f_\\mathrm{c}^{2}\\right)}\\right) \\operatorname{sign}{\\left(m \\right)} \\operatorname{sign}{\\left(f_\\mathrm{c0} - f_\\mathrm{c} \\right)} < 0 \\\\- Z_\\mathrm{T} + \\frac{\\sigma^{\\mathrm{p}}_\\mathrm{N} m}{- \\omega_\\mathrm{N} \\theta\\left(\\sigma^{\\mathrm{p}}_\\mathrm{N}\\right) + 1} - f_\\mathrm{s} + \\sqrt{\\left(- X_{\\mathrm{T}x} + \\frac{\\sigma^\\mathrm{p}_{\\mathrm{T}x}}{1 - \\omega_{\\mathrm{T}}}\\right)^{2} + \\left(- X_{\\mathrm{T}x} + \\frac{\\sigma^\\mathrm{p}_{\\mathrm{T}y}}{1 - \\omega_{\\mathrm{T}}}\\right)^{2}} & \\text{otherwise} \\end{cases}$"
      ],
      "text/plain": [
       "⎧                                                                             \n",
       "⎪                                                                             \n",
       "⎪                                                                             \n",
       "⎪                                                                             \n",
       "⎪                                                                             \n",
       "⎪                                                                             \n",
       "⎪                                                                             \n",
       "⎪                                                                             \n",
       "⎪                                                                             \n",
       "⎪                                                                             \n",
       "⎪         ____________________________________________________________________\n",
       "⎪        ╱                                                                    \n",
       "⎨       ╱  ⎛                                                     2            \n",
       "⎪      ╱   ⎜⎛                   \\sigma_{\\mathrm{T}x}__\\mathrm{p}⎞    ⎛        \n",
       "⎪     ╱    ⎜⎜-X_{\\mathrm{T}x} + ────────────────────────────────⎟  + ⎜-X_{\\mat\n",
       "⎪    ╱     ⎝⎝                       1 - \\omega_{\\mathrm{T}}     ⎠    ⎝        \n",
       "⎪   ╱      ───────────────────────────────────────────────────────────────────\n",
       "⎪  ╱                                                                          \n",
       "⎪╲╱                                                                           \n",
       "⎪                                                                             \n",
       "⎪                                                                             \n",
       "⎪                                                                             \n",
       "⎪                                                                             \n",
       "⎪                                                                             \n",
       "⎩                                                                             \n",
       "\n",
       "                                                                              \n",
       "                                                                              \n",
       "                                                                              \n",
       "                                                                              \n",
       "                                                                              \n",
       "                                                                              \n",
       "                                                                              \n",
       "                                                                              \n",
       "                                                                              \n",
       "                                                                              \n",
       "______________________________________________________________________________\n",
       "                                                                              \n",
       "                                            2⎞                                \n",
       "           \\sigma_{\\mathrm{T}y}__\\mathrm{p}⎞ ⎟ ⎛             2  2             \n",
       "hrm{T}x} + ────────────────────────────────⎟ ⎟⋅⎝f_\\mathrm{c0} ⋅m  - 2⋅f_\\mathr\n",
       "               1 - \\omega_{\\mathrm{T}}     ⎠ ⎠                                \n",
       "──────────────────────────────────────────────────────────────────────────────\n",
       "                                                                              \n",
       "                                       (Z_\\mathrm{T} + f_\\mathrm{c0}⋅m + f_\\ma\n",
       "                                                                              \n",
       "                                                                              \n",
       "                                                                              \n",
       "                                                                              \n",
       "                                                                              \n",
       "                                                                              \n",
       "\n",
       "                                                                              \n",
       "                                                                              \n",
       "                                                                              \n",
       "                                                                              \n",
       "                                                                              \n",
       "                                                                              \n",
       "                                                                              \n",
       "                                                                              \n",
       "                                                                              \n",
       "                                                                              \n",
       "______________________________________________________________________________\n",
       "                                                                              \n",
       "                                                                              \n",
       "                    2                                                         \n",
       "m{c0}⋅f_\\mathrm{c}⋅m  - 2⋅f_\\mathrm{c0}⋅m⋅(Z_\\mathrm{T} + f_\\mathrm{c0}⋅m + f_\n",
       "                                                                              \n",
       "──────────────────────────────────────────────────────────────────────────────\n",
       "                                                       2                      \n",
       "thrm{s})⋅(Z_\\mathrm{T} + f_\\mathrm{c}⋅m + f_\\mathrm{s}) ⋅(Z_\\mathrm{T} - f_\\ma\n",
       "                                                                              \n",
       "                                                                              \n",
       "                                                                              \n",
       "                                                                              \n",
       "                                                                              \n",
       "                                                                              \n",
       "\n",
       "                              ________________________________________________\n",
       "                             ╱                                                \n",
       "                            ╱  ⎛                                              \n",
       "                           ╱   ⎜⎛                   \\sigma_{\\mathrm{T}x}__\\mat\n",
       "                          ╱    ⎜⎜-X_{\\mathrm{T}x} + ──────────────────────────\n",
       "                         ╱     ⎝⎝                       1 - \\omega_{\\mathrm{T}\n",
       "                        ╱      ───────────────────────────────────────────────\n",
       "                       ╱                                                      \n",
       "                     ╲╱                                                     (Z\n",
       "                                                                              \n",
       "______________________________________________________________________________\n",
       "                                                                              \n",
       "                                                                              \n",
       "                          2  2                                                \n",
       "\\mathrm{s}) + f_\\mathrm{c} ⋅m  + 2⋅f_\\mathrm{c}⋅m⋅(Z_\\mathrm{T} + f_\\mathrm{c0\n",
       "                                                                              \n",
       "──────────────────────────────────────────────────────────────────────────────\n",
       "                                                                              \n",
       "thrm{c0}⋅m + 2⋅f_\\mathrm{c}⋅m + f_\\mathrm{s})                                 \n",
       "                                                                              \n",
       "                                                                              \n",
       "                                                                              \n",
       "                                                                              \n",
       "                                                                              \n",
       "                                                                              \n",
       "\n",
       "______________________________________________________________________________\n",
       "                                                                              \n",
       "       2                                                        2⎞            \n",
       "hrm{p}⎞    ⎛                   \\sigma_{\\mathrm{T}y}__\\mathrm{p}⎞ ⎟ ⎛          \n",
       "──────⎟  + ⎜-X_{\\mathrm{T}x} + ────────────────────────────────⎟ ⎟⋅⎝f_\\mathrm{\n",
       "}     ⎠    ⎝                       1 - \\omega_{\\mathrm{T}}     ⎠ ⎠            \n",
       "──────────────────────────────────────────────────────────────────────────────\n",
       "                                                                              \n",
       "_\\mathrm{T} + f_\\mathrm{s})⋅(Z_\\mathrm{T} + f_\\mathrm{s} - 2⋅f_\\mathrm{t}⋅m)⋅(\n",
       "                                                                              \n",
       "______________________________________________________________________________\n",
       "                                                                              \n",
       "                                                                       2   ⎛  \n",
       "                                                                     2⎞    ⎜  \n",
       "}⋅m + f_\\mathrm{s}) + (Z_\\mathrm{T} + f_\\mathrm{c0}⋅m + f_\\mathrm{s}) ⎠    ⎜──\n",
       "                                                                           ⎝-\\\n",
       "──────────────────────────────────────────────────────────────────────── + ───\n",
       "                                                                              \n",
       "                                                                              \n",
       "                                                                              \n",
       "                                                                              \n",
       "                                                                              \n",
       "                                                                              \n",
       "                                                                              \n",
       "                                                                              \n",
       "\n",
       "______________________________________________________________________________\n",
       "                                                                              \n",
       "                                                                              \n",
       "  2  2                                                                        \n",
       "t} ⋅m  - 2⋅f_\\mathrm{t}⋅m⋅(Z_\\mathrm{T} + f_\\mathrm{s}) + (Z_\\mathrm{T} + f_\\m\n",
       "                                                                              \n",
       "──────────────────────────────────────────────────────────────────────────────\n",
       "                                             2                                \n",
       "Z_\\mathrm{T} + f_\\mathrm{s} - f_\\mathrm{t}⋅m)                                 \n",
       "                                                                              \n",
       "______________________________________________________________________________\n",
       "                                                                              \n",
       "                                                                            ⎛ \n",
       "           \\sigma_\\mathrm{N}__{\\mathrm{p}}                                m⋅⎝f\n",
       "─────────────────────────────────────────────────────── + f_\\mathrm{c0} - ────\n",
       "omega_\\mathrm{N}⋅θ(\\sigma_\\mathrm{N}__{\\mathrm{p}}) + 1                   -Z_\\\n",
       "──────────────────────────────────────────────────────────────────────────────\n",
       "                                                                              \n",
       "                                                                              \n",
       "                                                                              \n",
       "                                                                              \n",
       "                                                                              \n",
       "                                                           \\sigma_\\mathrm{N}__\n",
       "                               -Z_\\mathrm{T} + ───────────────────────────────\n",
       "                                               -\\omega_\\mathrm{N}⋅θ(\\sigma_\\ma\n",
       "\n",
       "______________________________________________________________________________\n",
       "                                                                              \n",
       "           2   ⎛                                                              \n",
       "         2⎞    ⎜             \\sigma_\\mathrm{N}__{\\mathrm{p}}                  \n",
       "athrm{s}) ⎠    ⎜───────────────────────────────────────────────────────── - ──\n",
       "               ⎝-\\omega_\\mathrm{N}⋅θ(\\sigma_\\mathrm{N}__{\\mathrm{p}}) + 1   -Z\n",
       "──────────── + ───────────────────────────────────────────────────────────────\n",
       "                                                                              \n",
       "                                                                              \n",
       "                                                                              \n",
       "______________________________________________________________________________\n",
       "                                                              2               \n",
       "            2                                              2⎞⎞                \n",
       "_\\mathrm{c0}  - 2⋅f_\\mathrm{c0}⋅f_\\mathrm{c} + f_\\mathrm{c} ⎠⎟  ⎛             \n",
       "─────────────────────────────────────────────────────────────⎟ ⋅⎝f_\\mathrm{c0}\n",
       "mathrm{T} + f_\\mathrm{c0}⋅m - 2⋅f_\\mathrm{c}⋅m - f_\\mathrm{s}⎠                \n",
       "──────────────────────────────────────────────────────────────────────────────\n",
       "                                                                              \n",
       "                                                                              \n",
       "                                                                              \n",
       "                                                 _____________________________\n",
       "                                                ╱                             \n",
       "{\\mathrm{p}}⋅m                                 ╱  ⎛                   \\sigma_{\n",
       "────────────────────────── - f_\\mathrm{s} +   ╱   ⎜-X_{\\mathrm{T}x} + ────────\n",
       "thrm{N}__{\\mathrm{p}}) + 1                  ╲╱    ⎝                       1 - \n",
       "\n",
       "______________________________________________________________________________\n",
       "                                              2                               \n",
       "                          2                  ⎞                                \n",
       "              f_\\mathrm{t} ⋅m                ⎟  ⎛            2  2             \n",
       "─────────────────────────────────────────────⎟ ⋅⎝f_\\mathrm{t} ⋅m  - 2⋅f_\\mathr\n",
       "_\\mathrm{T} - f_\\mathrm{s} + 2⋅f_\\mathrm{t}⋅m⎠                                \n",
       "──────────────────────────────────────────────────────────────────────────────\n",
       "                        2                                               2     \n",
       "            f_\\mathrm{t} ⋅(Z_\\mathrm{T} + f_\\mathrm{s} - f_\\mathrm{t}⋅m)      \n",
       "                                                                              \n",
       "______________________________________________________________________________\n",
       "                                                                              \n",
       "                                                                              \n",
       "2  2                                 2                                        \n",
       " ⋅m  - 2⋅f_\\mathrm{c0}⋅f_\\mathrm{c}⋅m  - 2⋅f_\\mathrm{c0}⋅m⋅(Z_\\mathrm{T} + f_\\\n",
       "                                                                              \n",
       "──────────────────────────────────────────────────────────────────────────────\n",
       "                                 2                                            \n",
       "   (f_\\mathrm{c0} - f_\\mathrm{c}) ⋅(Z_\\mathrm{T} + f_\\mathrm{c}⋅m + f_\\mathrm{\n",
       "                                                                              \n",
       "______________________________________________________________________________\n",
       "                         2                                                    \n",
       "\\mathrm{T}x}__\\mathrm{p}⎞    ⎛                   \\sigma_{\\mathrm{T}y}__\\mathrm\n",
       "────────────────────────⎟  + ⎜-X_{\\mathrm{T}x} + ─────────────────────────────\n",
       "\\omega_{\\mathrm{T}}     ⎠    ⎝                       1 - \\omega_{\\mathrm{T}}  \n",
       "\n",
       "________________________________________________________________________      \n",
       "                                                                              \n",
       "                                                                      2       \n",
       "                                                                    2⎞        \n",
       "m{t}⋅m⋅(Z_\\mathrm{T} + f_\\mathrm{s}) + (Z_\\mathrm{T} + f_\\mathrm{s}) ⎠        \n",
       "                                                                           f_\\\n",
       "───────────────────────────────────────────────────────────────────────  - ───\n",
       "                                                                              \n",
       "                                                                              \n",
       "                                                                              \n",
       "______________________________________________________________________________\n",
       "                                                                              \n",
       "                                                                              \n",
       "                                           2  2                               \n",
       "mathrm{c0}⋅m + f_\\mathrm{s}) + f_\\mathrm{c} ⋅m  + 2⋅f_\\mathrm{c}⋅m⋅(Z_\\mathrm{\n",
       "                                                                              \n",
       "──────────────────────────────────────────────────────────────────────────────\n",
       "   2                                                                          \n",
       "s})                                                                           \n",
       "                                                                              \n",
       "______                                                                        \n",
       "    2                                                                         \n",
       "{p}⎞                                                                          \n",
       "───⎟                                                                          \n",
       "   ⎠                                                                          \n",
       "\n",
       "                                                                              \n",
       "                                                                              \n",
       "                                                                              \n",
       "                                                                              \n",
       "         2  2                                                                 \n",
       "mathrm{t} ⋅m  - 2⋅f_\\mathrm{t}⋅m⋅(Z_\\mathrm{T} + f_\\mathrm{s}) + (Z_\\mathrm{T}\n",
       "──────────────────────────────────────────────────────────────────────────────\n",
       "                       Z_\\mathrm{T} + f_\\mathrm{s} - 2⋅f_\\mathrm{t}⋅m         \n",
       "                                                                              \n",
       "                                                                              \n",
       "______________________________________________________________________________\n",
       "                                                                              \n",
       "                                                                              \n",
       "                                                                              \n",
       "T} + f_\\mathrm{c0}⋅m + f_\\mathrm{s}) + (Z_\\mathrm{T} + f_\\mathrm{c0}⋅m + f_\\ma\n",
       "                                                                              \n",
       "──────────────────────────────────────────────────────────────────────────────\n",
       "                                                                              \n",
       "                                                                              \n",
       "                                                                              \n",
       "                                                                              \n",
       "                                                                              \n",
       "                                                                              \n",
       "                                                                              \n",
       "                                                                              \n",
       "\n",
       "                                                                              \n",
       "                                                                              \n",
       "                                                                              \n",
       "                                                                              \n",
       "                2                                                             \n",
       " + f_\\mathrm{s})                                                              \n",
       "─────────────────                                                             \n",
       "                                                                              \n",
       "                                                                              \n",
       "                                                                              \n",
       "____________                                                                  \n",
       "                                                                              \n",
       "          2                                                                   \n",
       "        2⎞                                                                    \n",
       "thrm{s}) ⎠                  2  2                                 2            \n",
       "               f_\\mathrm{c0} ⋅m  - 2⋅f_\\mathrm{c0}⋅f_\\mathrm{c}⋅m  - 2⋅f_\\math\n",
       "───────────  - ───────────────────────────────────────────────────────────────\n",
       "                                                                              \n",
       "                                                                              \n",
       "                                                                              \n",
       "                                                                              \n",
       "                                                                              \n",
       "                                                                              \n",
       "                                                                              \n",
       "                                                                              \n",
       "\n",
       "                                                                              \n",
       "                                                                              \n",
       "                                                                              \n",
       "                                                                              \n",
       "                                                                              \n",
       "                                                                              \n",
       "                                                                              \n",
       "                                                                              \n",
       "                                                                              \n",
       "                                                                              \n",
       "                                                                              \n",
       "                                                                              \n",
       "                                                                              \n",
       "                                                                              \n",
       "                                                                       2  2   \n",
       "rm{c0}⋅m⋅(Z_\\mathrm{T} + f_\\mathrm{c0}⋅m + f_\\mathrm{s}) + f_\\mathrm{c} ⋅m  + \n",
       "──────────────────────────────────────────────────────────────────────────────\n",
       "                                 Z_\\mathrm{T} - f_\\mathrm{c0}⋅m + 2⋅f_\\mathrm{\n",
       "                                                                              \n",
       "                                                                              \n",
       "                                                                              \n",
       "                                                                              \n",
       "                                                                              \n",
       "                                                                              \n",
       "                                                                              \n",
       "\n",
       "                                                                              \n",
       "                                                                              \n",
       "                                                                              \n",
       "                                                                              \n",
       "                                                                              \n",
       "                                                                              \n",
       "                                                                              \n",
       "                                                                              \n",
       "                                                                              \n",
       "                                                                              \n",
       "                                                                              \n",
       "                                                                              \n",
       "                                                                              \n",
       "                                                                              \n",
       "                                                                              \n",
       "2⋅f_\\mathrm{c}⋅m⋅(Z_\\mathrm{T} + f_\\mathrm{c0}⋅m + f_\\mathrm{s}) + (Z_\\mathrm{\n",
       "──────────────────────────────────────────────────────────────────────────────\n",
       "c}⋅m + f_\\mathrm{s}                                                           \n",
       "                                                                              \n",
       "                                                                              \n",
       "                                                                              \n",
       "                                                                              \n",
       "                                                                              \n",
       "                                                                              \n",
       "                                                                              \n",
       "\n",
       "                                                                              \n",
       "                                                                              \n",
       "                                                                              \n",
       "                                                                              \n",
       "                                                                              \n",
       "                                                                              \n",
       "                                                                              \n",
       "                                                                              \n",
       "                                                                              \n",
       "                                                                              \n",
       "                                                                              \n",
       "                                                                              \n",
       "                                           ⎛                                  \n",
       "                                           ⎜│     ____________________________\n",
       "                                    2      ⎜│    ╱                            \n",
       "T} + f_\\mathrm{c0}⋅m + f_\\mathrm{s})       ⎜│   ╱  ⎛                   \\sigma_\n",
       "─────────────────────────────────────  for ⎜│  ╱   ⎜-X_{\\mathrm{T}x} + ───────\n",
       "                                           ⎜│╲╱    ⎝                       1 -\n",
       "                                           ⎝                                  \n",
       "                                                                              \n",
       "                                                                              \n",
       "                                                                              \n",
       "                                                                              \n",
       "                                                                              \n",
       "                                                                              \n",
       "\n",
       "                                                                              \n",
       "                                                                              \n",
       "        ⎛                                                                     \n",
       "        ⎜│     _______________________________________________________________\n",
       "        ⎜│    ╱                                                      2        \n",
       "        ⎜│   ╱  ⎛                   \\sigma_{\\mathrm{T}x}__\\mathrm{p}⎞    ⎛    \n",
       "    for ⎜│  ╱   ⎜-X_{\\mathrm{T}x} + ────────────────────────────────⎟  + ⎜-X_{\n",
       "        ⎜│╲╱    ⎝                       1 - \\omega_{\\mathrm{T}}     ⎠    ⎝    \n",
       "        ⎝                                                                     \n",
       "                                                                              \n",
       "                                                                              \n",
       "                                                                              \n",
       "                                                                              \n",
       "______________________________________________________________________________\n",
       "                          2                                                   \n",
       "{\\mathrm{T}x}__\\mathrm{p}⎞    ⎛                   \\sigma_{\\mathrm{T}y}__\\mathr\n",
       "─────────────────────────⎟  + ⎜-X_{\\mathrm{T}x} + ────────────────────────────\n",
       " \\omega_{\\mathrm{T}}     ⎠    ⎝                       1 - \\omega_{\\mathrm{T}} \n",
       "                                                                              \n",
       "                                                                              \n",
       "                                                                              \n",
       "                                                                              \n",
       "                                                                              \n",
       "                                                                              \n",
       "                                                                              \n",
       "\n",
       "                                                                              \n",
       "                                                                              \n",
       "                                                                              \n",
       "__________________________________________________│                           \n",
       "                                                2 │   (Z_\\mathrm{T} + f_\\mathr\n",
       "               \\sigma_{\\mathrm{T}y}__\\mathrm{p}⎞  │                           \n",
       "\\mathrm{T}x} + ────────────────────────────────⎟  │ + ────────────────────────\n",
       "                   1 - \\omega_{\\mathrm{T}}     ⎠  │                           \n",
       "                                                                              \n",
       "                                                                              \n",
       "                                                                              \n",
       "                                                                              \n",
       "                                                           ⎛                  \n",
       "_______│                                                   ⎜             \\sigm\n",
       "     2 │   (Z_\\mathrm{T} + f_\\mathrm{c0}⋅m + f_\\mathrm{s})⋅⎜──────────────────\n",
       "m{p}⎞  │                                                   ⎝-\\omega_\\mathrm{N}\n",
       "────⎟  │ + ───────────────────────────────────────────────────────────────────\n",
       "    ⎠  │                                                                      \n",
       "                                                                              \n",
       "                                                                              \n",
       "                                                                              \n",
       "                                                                              \n",
       "                                                                              \n",
       "                                                                              \n",
       "                                                                              \n",
       "\n",
       "                                                                              \n",
       "                                                                              \n",
       "      ⎛                                                                       \n",
       "      ⎜             \\sigma_\\mathrm{N}__{\\mathrm{p}}                           \n",
       "m{s})⋅⎜───────────────────────────────────────────────────────── - ───────────\n",
       "      ⎝-\\omega_\\mathrm{N}⋅θ(\\sigma_\\mathrm{N}__{\\mathrm{p}}) + 1   -Z_\\mathrm{\n",
       "──────────────────────────────────────────────────────────────────────────────\n",
       "                                                                           2  \n",
       "                                                               f_\\mathrm{t} ⋅m\n",
       "                                                                              \n",
       "                                                                              \n",
       "                                                                              \n",
       "                                                            ⎛             2   \n",
       "a_\\mathrm{N}__{\\mathrm{p}}                                m⋅⎝f_\\mathrm{c0}  - \n",
       "─────────────────────────────────────── + f_\\mathrm{c0} - ────────────────────\n",
       "⋅θ(\\sigma_\\mathrm{N}__{\\mathrm{p}}) + 1                   -Z_\\mathrm{T} + f_\\m\n",
       "──────────────────────────────────────────────────────────────────────────────\n",
       "                                ⎛             2                               \n",
       "                              m⋅⎝f_\\mathrm{c0}  - 2⋅f_\\mathrm{c0}⋅f_\\mathrm{c}\n",
       "                                                                              \n",
       "                                                                              \n",
       "                                                                              \n",
       "                                                                              \n",
       "                  otherwise                                                   \n",
       "                                                                              \n",
       "\n",
       "                                                                              \n",
       "                                                                              \n",
       "                 2                  ⎞                                         \n",
       "     f_\\mathrm{t} ⋅m                ⎟                                         \n",
       "────────────────────────────────────⎟⋅(-Z_\\mathrm{T} - f_\\mathrm{s} + 2⋅f_\\mat\n",
       "T} - f_\\mathrm{s} + 2⋅f_\\mathrm{t}⋅m⎠                                         \n",
       "──────────────────────────────────────────────────────────────────────────────\n",
       "                                                                              \n",
       "                                                                              \n",
       "                                                                              \n",
       "                                                                              \n",
       "                                                                              \n",
       "                                           2⎞⎞                                \n",
       "2⋅f_\\mathrm{c0}⋅f_\\mathrm{c} + f_\\mathrm{c} ⎠⎟                                \n",
       "─────────────────────────────────────────────⎟⋅(-Z_\\mathrm{T} + f_\\mathrm{c0}⋅\n",
       "athrm{c0}⋅m - 2⋅f_\\mathrm{c}⋅m - f_\\mathrm{s}⎠                                \n",
       "──────────────────────────────────────────────────────────────────────────────\n",
       "               2⎞                                                             \n",
       " + f_\\mathrm{c} ⎠                                                             \n",
       "                                                                              \n",
       "                                                                              \n",
       "                                                                              \n",
       "                                                                              \n",
       "                                                                              \n",
       "                                                                              \n",
       "\n",
       "                                                                              \n",
       "                                                                              \n",
       "         ⎞                                                                    \n",
       "         ⎟                                                                    \n",
       "hrm{t}⋅m)⎟                                                                    \n",
       "         ⎟                                                                    \n",
       "─────────⎟⋅sign(f_\\mathrm{t})⋅sign(m) < 0                                     \n",
       "         ⎟                                                                    \n",
       "         ⎠                                                                    \n",
       "                                                                              \n",
       "                                                                              \n",
       "                                                                              \n",
       "                                    ⎞                                         \n",
       "                                    ⎟                                         \n",
       "m - 2⋅f_\\mathrm{c}⋅m - f_\\mathrm{s})⎟                                         \n",
       "                                    ⎟                                         \n",
       "────────────────────────────────────⎟⋅sign(m)⋅sign(f_\\mathrm{c0} - f_\\mathrm{c\n",
       "                                    ⎟                                         \n",
       "                                    ⎠                                         \n",
       "                                                                              \n",
       "                                                                              \n",
       "                                                                              \n",
       "                                                                              \n",
       "                                                                              \n",
       "                                                                              \n",
       "\n",
       "      \n",
       "      \n",
       "      \n",
       "      \n",
       "      \n",
       "      \n",
       "      \n",
       "      \n",
       "      \n",
       "      \n",
       "      \n",
       "      \n",
       "      \n",
       "      \n",
       "      \n",
       "      \n",
       "}) < 0\n",
       "      \n",
       "      \n",
       "      \n",
       "      \n",
       "      \n",
       "      \n",
       "      \n",
       "      "
      ]
     },
     "execution_count": 22,
     "metadata": {},
     "output_type": "execute_result"
    }
   ],
   "source": [
    "f_ = (f_solved_\n",
    "      .subs({x: sigma_eff_N, y: norm_q_T})\n",
    "      .subs(subs_q_T)\n",
    "      .subs(subs_sigma_eff)\n",
    "      .subs(f_s, (f_s+Z_T))\n",
    "     )\n",
    "f_"
   ]
  },
  {
   "cell_type": "markdown",
   "metadata": {
    "slideshow": {
     "slide_type": "fragment"
    }
   },
   "source": [
    "**Executable code generation** $f(\\boldsymbol{\\mathcal{E}}, \\boldsymbol{\\mathcal{S}})$\n",
    "\n",
    "Note that this is a function of both the forces and kinematic state variables"
   ]
  },
  {
   "cell_type": "code",
   "execution_count": 23,
   "metadata": {
    "slideshow": {
     "slide_type": "fragment"
    }
   },
   "outputs": [],
   "source": [
    "get_f = sp.lambdify(\n",
    "    (Eps, Sig) + sp_vars + ('**kw',), f_, numpy_dirac\n",
    ")\n",
    "get_f_C = ccode('get_f', f_, 'SLIDE3_4')"
   ]
  },
  {
   "cell_type": "markdown",
   "metadata": {
    "slideshow": {
     "slide_type": "slide"
    }
   },
   "source": [
    "The derivative of $f$ required for time-stepping $\\frac{\\partial f}{\\partial \\boldsymbol{\\mathcal{S}}}$ is obtained as"
   ]
  },
  {
   "cell_type": "code",
   "execution_count": 24,
   "metadata": {
    "slideshow": {
     "slide_type": "fragment"
    }
   },
   "outputs": [],
   "source": [
    "df_dSig_ = f_.diff(Sig)\n",
    "#df_dSig_.T"
   ]
  },
  {
   "cell_type": "markdown",
   "metadata": {
    "slideshow": {
     "slide_type": "fragment"
    }
   },
   "source": [
    "**Executable code generation** $\\displaystyle \\frac{\\partial f}{\\partial \\boldsymbol{\\mathcal{S}}}(\\boldsymbol{\\mathcal{E}}, \\boldsymbol{\\mathcal{S})}$"
   ]
  },
  {
   "cell_type": "code",
   "execution_count": 25,
   "metadata": {
    "slideshow": {
     "slide_type": "fragment"
    }
   },
   "outputs": [],
   "source": [
    "get_df_dSig = sp.lambdify(\n",
    "    (Eps, Sig) + sp_vars + ('**kw',), df_dSig_, numpy_dirac\n",
    ")\n",
    "get_df_dSig_C = ccode('get_df_dSig', df_dSig_, 'SLIDE1_3')"
   ]
  },
  {
   "cell_type": "markdown",
   "metadata": {
    "slideshow": {
     "slide_type": "slide"
    }
   },
   "source": [
    "Due to the direct dependency of $f$ on $\\boldsymbol{\\mathcal{E}}$ also the term $\\displaystyle\\frac{\\partial^\\mathrm{dir} f}{\\partial^\\mathrm{dir} \\boldsymbol{\\mathcal{E}}}$ must be provided for numerical evaluation of derivatives"
   ]
  },
  {
   "cell_type": "code",
   "execution_count": 26,
   "metadata": {
    "slideshow": {
     "slide_type": "fragment"
    }
   },
   "outputs": [],
   "source": [
    "ddf_dEps_ = f_.diff(Eps)\n",
    "#ddf_dEps_.T"
   ]
  },
  {
   "cell_type": "markdown",
   "metadata": {
    "slideshow": {
     "slide_type": "slide"
    }
   },
   "source": [
    "**Executable Python code generation** $\\displaystyle\\frac{\\partial }{\\partial \\boldsymbol{\\mathcal{E}}} f(\\boldsymbol{\\mathcal{E}}, \\boldsymbol{\\mathcal{S})}$"
   ]
  },
  {
   "cell_type": "code",
   "execution_count": 27,
   "metadata": {
    "slideshow": {
     "slide_type": "fragment"
    }
   },
   "outputs": [],
   "source": [
    "get_ddf_dEps = sp.lambdify(\n",
    "    (Eps, Sig) + sp_vars + ('**kw',), ddf_dEps_, numpy_dirac\n",
    ")\n",
    "get_ddf_dEps_C = ccode('get_df_dEps', ddf_dEps_, 'SLIDE1_3')"
   ]
  },
  {
   "cell_type": "code",
   "execution_count": 88,
   "metadata": {},
   "outputs": [],
   "source": [
    "material_params = dict(\n",
    "    E_T_=1, gamma_T_=0.2, K_T_=0.1, S_T_=0.6, c_T_=1, f_s_=1, \n",
    "    E_N_=1, S_N_=0.6, c_N_=1, m_=0.2, f_t_=1, f_c_=20, f_c0_=10, eta_=0, r_N_=1, r_T_=1\n",
    ")\n",
    "sig_p_range, tau_p_range = np.mgrid[-22:3:500j, -5:5:500j]"
   ]
  },
  {
   "cell_type": "code",
   "execution_count": 89,
   "metadata": {},
   "outputs": [],
   "source": [
    "Eps_f = np.zeros((len(Eps),)+sig_p_range.shape,dtype=np.float_)\n",
    "Sig_f = np.zeros((len(Eps),)+sig_p_range.shape,dtype=np.float_)\n",
    "Sig_f[2] = sig_p_range\n",
    "Sig_f[0] = tau_p_range\n",
    "f_f = get_f(Eps_f, Sig_f, **material_params)"
   ]
  },
  {
   "cell_type": "code",
   "execution_count": 91,
   "metadata": {},
   "outputs": [
    {
     "data": {
      "application/vnd.jupyter.widget-view+json": {
       "model_id": "fac0def9aef449dfb5c7cdf856497acd",
       "version_major": 2,
       "version_minor": 0
      },
      "text/plain": [
       "Canvas(toolbar=Toolbar(toolitems=[('Home', 'Reset original view', 'home', 'home'), ('Back', 'Back to previous …"
      ]
     },
     "metadata": {},
     "output_type": "display_data"
    }
   ],
   "source": [
    "fig = plt.figure(figsize=(8, 5), tight_layout=True)\n",
    "ax = fig.add_subplot(1, 1, 1) # , projection='3d')\n",
    "ax.contour(sig_p_range, tau_p_range, f_f);\n",
    "ax.axis('equal');"
   ]
  },
  {
   "cell_type": "markdown",
   "metadata": {
    "slideshow": {
     "slide_type": "slide"
    }
   },
   "source": [
    "## **2.3 Flow potential**\n",
    "For non-associative flow rule let us define an extension to be added to the threshold function "
   ]
  },
  {
   "cell_type": "code",
   "execution_count": 31,
   "metadata": {},
   "outputs": [],
   "source": [
    "S_NT = sp.sqrt(S_N*S_T)\n",
    "c_NT = sp.sqrt(c_N*c_T)\n",
    "r_NT = sp.sqrt(r_N*r_T)\n",
    "omega_NT = 1 - sp.sqrt((1-omega_N)*(1-omega_T))\n",
    "phi_N = (1 - omega_N)**c_N * S_N / (r_N+1) * (Y_N / S_N)**(r_N+1) \n",
    "phi_T = (1 - omega_T)**c_T * S_T / (r_T+1) * (Y_T / S_T)**(r_T+1) \n",
    "phi_NT = (1 - omega_NT)**c_NT * S_NT / (r_NT+1) * ((Y_N + Y_T)/(S_NT))**(r_NT+1)"
   ]
  },
  {
   "cell_type": "code",
   "execution_count": 32,
   "metadata": {},
   "outputs": [],
   "source": [
    "phi_ext_ = ((1 - eta)*(phi_N + phi_T) + eta*phi_NT)\n",
    "d_phi_ext_ = sp.simplify(phi_ext_.diff(Sig))"
   ]
  },
  {
   "cell_type": "code",
   "execution_count": 33,
   "metadata": {
    "slideshow": {
     "slide_type": "fragment"
    }
   },
   "outputs": [],
   "source": [
    "# phi_T_ext = (1-omega_T)**c_T * (Y_T**2 / S_T + eta * (Y_T * Y_N) / sp.sqrt(S_N * S_T)) \n",
    "# phi_N_ext = (1-omega_N)**c_N * (Y_N**2 / S_N + eta * (Y_T * Y_N) / sp.sqrt(S_N * S_T)) "
   ]
  },
  {
   "cell_type": "markdown",
   "metadata": {
    "slideshow": {
     "slide_type": "fragment"
    }
   },
   "source": [
    "The flow potential $\\varphi(\\boldsymbol{\\mathcal{E}}, \\boldsymbol{\\mathcal{S}})$ reads"
   ]
  },
  {
   "cell_type": "code",
   "execution_count": 34,
   "metadata": {
    "slideshow": {
     "slide_type": "fragment"
    }
   },
   "outputs": [],
   "source": [
    "phi_ = f_ + phi_ext_  # phi_T_ext + phi_N_ext"
   ]
  },
  {
   "cell_type": "markdown",
   "metadata": {
    "slideshow": {
     "slide_type": "slide"
    }
   },
   "source": [
    "and the corresponding directions of flow given as a product of the sign operator $\\Upsilon$ and of the derivatives with respect to state variables \n",
    "$\\boldsymbol{\\Upsilon} \\, \\partial_{\\boldsymbol{\\mathcal{S}}} \\varphi$\n",
    "This renders following flow direction vector\n",
    "\\begin{align}\n",
    "\\boldsymbol{\\Phi} = - \\Upsilon \\frac{\\partial \\varphi}{\\partial \\boldsymbol{\\mathcal{S}}} \n",
    "\\end{align}"
   ]
  },
  {
   "cell_type": "code",
   "execution_count": 35,
   "metadata": {},
   "outputs": [],
   "source": [
    "Phi_ = -Sig_signs * (f_.diff(Sig) + sp.simplify(phi_ext_.diff(Sig)))"
   ]
  },
  {
   "cell_type": "markdown",
   "metadata": {
    "slideshow": {
     "slide_type": "fragment"
    }
   },
   "source": [
    "**Executable code generation** $\\boldsymbol{\\Phi}(\\boldsymbol{\\mathcal{E}}, \\boldsymbol{\\mathcal{S})}$"
   ]
  },
  {
   "cell_type": "code",
   "execution_count": 36,
   "metadata": {
    "slideshow": {
     "slide_type": "fragment"
    }
   },
   "outputs": [],
   "source": [
    "get_Phi = sp.lambdify(\n",
    "    (Eps, Sig) + sp_vars + ('**kw',), Phi_, numpy_dirac\n",
    ")\n",
    "get_Phi_C = ccode('get_Phi', Phi_, 'SLIDE1_3')"
   ]
  },
  {
   "cell_type": "markdown",
   "metadata": {
    "slideshow": {
     "slide_type": "slide"
    }
   },
   "source": [
    "# **3 Time integration scheme**"
   ]
  },
  {
   "cell_type": "markdown",
   "metadata": {
    "slideshow": {
     "slide_type": "slide"
    }
   },
   "source": [
    "## Discrete yield condition\n",
    "In a continuous case we consistency condition to explicitly glue the state onto the yield surface \n",
    "\\begin{align}\n",
    "\\dot{f}(\\boldsymbol{\\mathcal{S}}(s, \\boldsymbol{\\mathcal{E}(\\lambda)}), \\boldsymbol{\\mathcal{E}(\\lambda)} ) &= 0 \\end{align}\n",
    "In discrete case, we relax this requirement. Indeed, by taking $f(s_{n+1}; \\boldsymbol{\\mathcal{E}_n}) $ as a first trial value we can obtain positive values.\n",
    "\n",
    "&nbsp;<font color=\"green\">\n",
    "**We allow for \"trial\" states which lie beyond the admissible domain $f \\le 0$ during iteration. This allows us to construct a \"return mapping\" algorithm that iteratively approaches an admissible state on the yield surface.**</font>"
   ]
  },
  {
   "cell_type": "markdown",
   "metadata": {
    "slideshow": {
     "slide_type": "fragment"
    }
   },
   "source": [
    "Given an inadmissible trial state $k$ with the yield condition $f_k > 0$, let us introduce a linearized approximation of its change along the plastic multiplier $\\lambda$ around the state $k$. \n",
    "\\begin{align}\n",
    " f_{k+1} &= f_{k} + \\left. \\frac{\\partial f}{\\partial \\lambda} \\right|_k \\Delta \\lambda\n",
    "\\end{align}\n",
    "In this form, we can search for an admissible state $f_{n+1} = 0$ by iterating over $k$.\n",
    "Note that in initial iteration $k = 0$ the state from previous step is reused, i.e. \n",
    "$f(s_{n+1}; \\boldsymbol{\\mathcal{E}_n}) $."
   ]
  },
  {
   "attachments": {
    "image.png": {
     "image/png": "[encoded data removed]"
    }
   },
   "cell_type": "markdown",
   "metadata": {
    "slideshow": {
     "slide_type": "slide"
    }
   },
   "source": [
    "In the linearized form, we can transform the yield condition to a recurrent formula\n",
    "\\begin{align}\n",
    "\\left. \\frac{\\mathrm{d} f}{\\mathrm{d} \\lambda}\\right|_k \\Delta \\lambda &= -f_k,\n",
    "\\hspace{1cm} f_k \\rightarrow 0 \\; \\;\\mathrm{for}\\;\\; k = 1\\ldots\\infty\n",
    "\\end{align}\n",
    "This resembles the Newton method for iterative solution of a nonlinear equation. However, we need to consider the fact that the level of inadmissibility $f$ changes between iterations. \n",
    "![image.png](attachment:image.png)\n",
    "Note that the predictor is negative and $\\Delta \\lambda > 0$. In every step, the plastic multiplier is updated:\n",
    "\\begin{align}\n",
    "\\lambda_{k+1} &= \\lambda_k + \\Delta \\lambda, \\, \\lambda_0 = 0 \\nonumber \\\\ \\nonumber\n",
    "\\end{align}"
   ]
  },
  {
   "cell_type": "markdown",
   "metadata": {
    "slideshow": {
     "slide_type": "fragment"
    }
   },
   "source": [
    "Two more questions must addressed to define a general numerical algorithm for plasticity:\n",
    "<font color=\"brown\">\n",
    " * **Update of state variables $\\boldsymbol{\\mathcal{E}}_{k+1}$ in each iteration**\n",
    " * **Expression of the predictor $\\mathrm{d} f / \\mathrm{d} \\lambda$ in terms of the state variables**\n",
    "</font>"
   ]
  },
  {
   "cell_type": "markdown",
   "metadata": {
    "slideshow": {
     "slide_type": "slide"
    }
   },
   "source": [
    "## State update\n",
    "In every iteration step the state variables $\\boldsymbol{\\mathcal{E}}$ must be updated using the discrete evolution equations, i.e. \n",
    "\\begin{align}\n",
    "\\boldsymbol{\\mathcal{E}}_{k+1} &= \n",
    "\\boldsymbol{\\mathcal{E}}_k + \\lambda_{k+1} \n",
    "\\boldsymbol{\\Phi}_k\n",
    "\\label{eq:discrete_evolution}\n",
    "\\end{align}\n",
    "Which is used in the calculation of the threshold function in the next step. Note that $\\boldsymbol{\\Phi}_k$ is evaluated in the state $k$ and not $k+1$."
   ]
  },
  {
   "cell_type": "markdown",
   "metadata": {
    "slideshow": {
     "slide_type": "fragment"
    }
   },
   "source": [
    "To reach an admissible state let us linearize the threshold function at an interim state $k$ as\n",
    "\\begin{align}\n",
    "f_{k+1} = \n",
    "f_k \n",
    " +\n",
    "\\left.\n",
    "\\frac\n",
    "{\\partial f}\n",
    "{\\partial \\lambda}\n",
    "\\right|_k\n",
    "\\Delta \\lambda\n",
    "\\end{align}"
   ]
  },
  {
   "cell_type": "markdown",
   "metadata": {
    "slideshow": {
     "slide_type": "fragment"
    }
   },
   "source": [
    "## Predictor\n",
    "\\begin{align}\n",
    "\\left.\n",
    "\\frac{\\partial f}{\\partial{\\lambda}}  \n",
    "\\right|_k \n",
    "&=\n",
    "\\left.\n",
    "\\frac{\\partial f}{\\partial{\\boldsymbol{ \\mathcal{E}}}}  \n",
    "\\right|_k \n",
    "\\left.\n",
    "\\frac{\\partial {\\boldsymbol{ \\mathcal{E}}}}{\\partial \\lambda}\n",
    "\\right|_k =\n",
    "\\left.\n",
    "\\frac{\\partial f}{\\partial{\\boldsymbol{ \\mathcal{E}}}}  \n",
    "\\right|_k \n",
    "\\boldsymbol{\\Phi}_k \\\\\n",
    "\\left.\n",
    "\\frac{\\partial f}{\\partial{\\boldsymbol{ \\mathcal{E}}}}  \n",
    "\\right|_k \n",
    "&=\n",
    "\\left. \\frac{\\partial f}{ \\partial \\boldsymbol{\\mathcal{S}}}\\right|_{k}\n",
    "\\left. \\frac{\\partial \\boldsymbol{\\mathcal{S}}}{\\partial \\boldsymbol{\\mathcal{E}}}\\right|_{k}\n",
    "+\n",
    "\\left. \\frac{\\partial^{\\mathrm{dir}} f}{ \\partial^{\\mathrm{dir}} \\boldsymbol{\\mathcal{E}}}\\right|_{k}\n",
    "\\label{eq:df_dlambda}\n",
    "\\end{align}"
   ]
  },
  {
   "cell_type": "markdown",
   "metadata": {
    "slideshow": {
     "slide_type": "slide"
    }
   },
   "source": [
    "**Remark 1:** The derivative $\\partial^\\mathrm{dir}$ denotes the direct derivative with respect to $\\boldsymbol{\\mathcal{E}}$"
   ]
  },
  {
   "cell_type": "markdown",
   "metadata": {
    "slideshow": {
     "slide_type": "fragment"
    }
   },
   "source": [
    "**Remark 2:** Note that $\\displaystyle \\frac{\\partial \\boldsymbol{\\mathcal{E}}}{\\partial \\lambda}$ in equation $\\eqref{eq:df_dlambda}$ can be obtained from the evolution equations $\\eqref{eq:discrete_evolution}$\n",
    "\\begin{align}\n",
    "\\boldsymbol{\\mathcal{E}}_k = \\boldsymbol{\\mathcal{E}}_n + \\lambda \\, \\boldsymbol{\\Phi}_k\\; \\implies\n",
    "\\left.\n",
    "\\frac{\\partial {\\boldsymbol{ \\mathcal{E}}}}{\\partial \\lambda}\n",
    "\\right|_k = \n",
    "\\boldsymbol{\\Phi}_k\n",
    "\\end{align}"
   ]
  },
  {
   "cell_type": "markdown",
   "metadata": {
    "slideshow": {
     "slide_type": "subslide"
    }
   },
   "source": [
    "Thus, by rewriting the linearized equation as a recurrence formula, the iteration algorithm is obtained\n",
    "\\begin{align}\n",
    "&\n",
    "\\left.\n",
    "\\frac{\\partial f}{\\partial{\\lambda}}  \n",
    "\\right|_k \n",
    "\\Delta \\lambda\n",
    "= - f^{(k)}\\\\\n",
    "& \\lambda_{k+1} = \\lambda_{k} + \\Delta \\lambda \\\\\n",
    "& \\boldsymbol{\\mathcal{E}}_{k+1} = \\boldsymbol{\\mathcal{E}}_{k} + \n",
    " \\lambda_{k} \\, \n",
    "\\frac{\\partial {\\boldsymbol{ \\mathcal{E}}}}{\\partial \\lambda}\n",
    " \\\\\n",
    "&k = k + 1\n",
    "\\end{align}"
   ]
  },
  {
   "cell_type": "markdown",
   "metadata": {
    "slideshow": {
     "slide_type": "subslide"
    }
   },
   "source": [
    "## Implementation concept\n",
    "The gradient operators needed for the time-stepping scheme have been derived above and are now available for the implementation of the numerical algorithm both in `Python` and `C89` languages\n",
    "\n",
    "<table style=\"width:50%\">\n",
    "<tr>\n",
    "<th>Symbol</th>\n",
    "<th>Python</th>\n",
    "<th>C89</th>\n",
    "</tr>\n",
    "<tr>\n",
    "<td>$\\mathcal{S}(s, \\boldsymbol{\\mathcal{E}}) $  \n",
    "</td>\n",
    "<td>get_Sig</td>\n",
    "<td>get_Sig_C</td>\n",
    "</tr>\n",
    "<tr>\n",
    "<td>$\\partial_\\boldsymbol{\\mathcal{E}}  \\boldsymbol{\\mathcal{S}}(s, \\boldsymbol{\\mathcal{E}}) $</td>\n",
    "<td>get_dSig_dEps</td>\n",
    "<td>get_dSig_dEps_C</td>\n",
    "</tr>\n",
    "<tr>\n",
    "<td>$ f(\\boldsymbol{\\mathcal{S}}, \\boldsymbol{\\mathcal{E}})$</td>\n",
    "<td>get_f</td>\n",
    "<td>get_f_C</td>\n",
    "</tr>\n",
    "<tr>\n",
    "<td>$\\partial_\\boldsymbol{\\mathcal{S}} f(\\boldsymbol{\\mathcal{S}}, \\boldsymbol{\\mathcal{E}}) $  \n",
    "</td>\n",
    "<td>get_df_dSig</td>\n",
    "<td>get_df_dSig_C</td>\n",
    "</tr>\n",
    "<tr>\n",
    "<td>$\\partial_\\boldsymbol{\\mathcal{E}} f(\\boldsymbol{\\mathcal{S}}, \\boldsymbol{\\mathcal{E}}) $</td>\n",
    "<td>get_df_dEps</td>\n",
    "<td>get_df_dEps_C</td>\n",
    "</tr>\n",
    "<tr>\n",
    "<td>$\\partial_\\boldsymbol{\\mathcal{S}} \\varphi(\\boldsymbol{\\mathcal{S}}, \\boldsymbol{\\mathcal{E}}) $</td>\n",
    "<td>get_Phi</td>\n",
    "<td>get_Phi_C</td>\n",
    "</tr>\n",
    "</table>"
   ]
  },
  {
   "cell_type": "markdown",
   "metadata": {
    "slideshow": {
     "slide_type": "subslide"
    }
   },
   "source": [
    "**Threshold and its derivatives:** To avoid repeated calculation of the same expressions, let us put the evaluation of $f$ and $\\partial_\\lambda f$ into a single procedure. The iteration loop can be constructed in such a way that the predictor for the next step is calculated along with the residuum. In case that the residuum is below the required tolerance, the overhead for an extra calculated derivative is negligible or, with some care, can be even reused in the next time step.  "
   ]
  },
  {
   "cell_type": "code",
   "execution_count": 37,
   "metadata": {
    "code_folding": [],
    "slideshow": {
     "slide_type": "fragment"
    }
   },
   "outputs": [],
   "source": [
    "def get_f_df(u_Tx_n1, u_Ty_n1, u_N_n1, Sig_n, Eps_k, **kw):\n",
    "    Sig_k = get_Sig(u_Tx_n1, u_Ty_n1, u_N_n1, Sig_n, Eps_k, **kw)[0]\n",
    "    dSig_dEps_k = get_dSig_dEps(u_Tx_n1, u_Ty_n1, u_N_n1, Sig_n, Eps_k, **kw)\n",
    "    f_k = np.array([get_f(Eps_k, Sig_k, **kw)])\n",
    "    df_dSig_k = get_df_dSig(Eps_k, Sig_k, **kw)\n",
    "    ddf_dEps_k = get_ddf_dEps(Eps_k, Sig_k, **kw)\n",
    "    df_dEps_k = np.einsum(\n",
    "        'ik,ji->jk', df_dSig_k, dSig_dEps_k) + ddf_dEps_k\n",
    "    Phi_k = get_Phi(Eps_k, Sig_k, **kw)\n",
    "    dEps_dlambda_k = Phi_k\n",
    "    df_dlambda = np.einsum(\n",
    "        'ki,kj->ij', df_dEps_k, dEps_dlambda_k)\n",
    "    df_k = df_dlambda\n",
    "    return f_k, df_k, Sig_k"
   ]
  },
  {
   "cell_type": "code",
   "execution_count": 38,
   "metadata": {},
   "outputs": [],
   "source": [
    "Eps_0 = np.zeros((len(Eps),), dtype=np.float_)\n",
    "material_params = dict(\n",
    "    E_T_=1, gamma_T_=1, K_T_=1, S_T_=1, c_T_=1, f_s_=1, \n",
    "    E_N_=1, S_N_=0.5, c_N_=1, m_=0.05, f_t_=1, f_c_=-20, f_c0_=-10, r_N_=2, r_T_=2, eta_=0.1\n",
    ")\n",
    "Sig_k = get_Sig(1.1, 0, 0, Eps_0, Eps_0, **material_params)"
   ]
  },
  {
   "cell_type": "code",
   "execution_count": 39,
   "metadata": {},
   "outputs": [
    {
     "data": {
      "text/plain": [
       "(array([0.1]),\n",
       " array([[-10.0025]]),\n",
       " array([ 1.1  , -0.   , -0.   ,  0.   ,  0.   ,  0.   ,  0.605,  0.   ]))"
      ]
     },
     "execution_count": 39,
     "metadata": {},
     "output_type": "execute_result"
    }
   ],
   "source": [
    "get_f_df(1.1, 0, 0, Eps_0, Eps_0, **material_params)"
   ]
  },
  {
   "cell_type": "markdown",
   "metadata": {
    "slideshow": {
     "slide_type": "subslide"
    }
   },
   "source": [
    "**Evolution equations:** The update of state variables for an updated $\\lambda_k$ is performed using this procedure."
   ]
  },
  {
   "cell_type": "code",
   "execution_count": 40,
   "metadata": {
    "slideshow": {
     "slide_type": "fragment"
    }
   },
   "outputs": [],
   "source": [
    "def get_Eps_k1(u_Tx_n1, u_Ty_n1, u_N_n1, Eps_n, lam_k, Sig_n, Eps_k, **kw):\n",
    "    Sig_k = get_Sig(u_Tx_n1, u_Ty_n1, u_N_n1, Sig_n, Eps_k, **kw)[0]\n",
    "    Phi_k = get_Phi(Eps_k, Sig_k, **kw)\n",
    "    Eps_k1 = Eps_n + lam_k * Phi_k[:,0]\n",
    "    return Eps_k1"
   ]
  },
  {
   "cell_type": "markdown",
   "metadata": {
    "slideshow": {
     "slide_type": "subslide"
    }
   },
   "source": [
    "**Return mapping iteration:** This function represents a user subroutine in a finite element code or in a lattice model. The input is $s_{n+1}$ and the state variables representing the state in the previous solved step $\\boldsymbol{\\mathcal{E}}_n$. The procedure returns the stresses and state variables of $\\boldsymbol{\\mathcal{S}}_{n+1}$ and $\\boldsymbol{\\mathcal{E}}_{n+1}$"
   ]
  },
  {
   "cell_type": "code",
   "execution_count": 42,
   "metadata": {},
   "outputs": [],
   "source": [
    "def get_material_model(u_Tx_n1, u_Ty_n1, u_N_n1, Sig_n, Eps_n, k_max, **kw):\n",
    "    Eps_k = np.copy(Eps_n)\n",
    "    Sig_k = np.copy(Sig_n)\n",
    "    lam_k = 0\n",
    "    f_k, df_k, Sig_k = get_f_df(u_Tx_n1, u_Ty_n1, u_N_n1, Sig_k, Eps_k, **kw)\n",
    "    f_k_norm = np.linalg.norm(f_k)\n",
    "    f_k_trial = f_k[0]\n",
    "    k = 0\n",
    "    while k < k_max:\n",
    "        if f_k_trial < 0 or f_k_norm < 1e-3:\n",
    "            return Eps_k, Sig_k, k+1\n",
    "        dlam = np.linalg.solve(df_k, -f_k)\n",
    "        lam_k += dlam\n",
    "        Eps_k = get_Eps_k1(u_Tx_n1, u_Ty_n1, u_N_n1, Eps_n, lam_k, Sig_k, Eps_k, **kw)\n",
    "        f_k, df_k, Sig_k = get_f_df(u_Tx_n1, u_Ty_n1, u_N_n1, Sig_k, Eps_k, **kw)\n",
    "        f_k_norm = np.linalg.norm(f_k)\n",
    "        k += 1\n",
    "    else:\n",
    "        raise ValueError('no convergence')"
   ]
  },
  {
   "cell_type": "code",
   "execution_count": 43,
   "metadata": {},
   "outputs": [
    {
     "data": {
      "text/plain": [
       "(array([ 0.02598785, -0.00120224,  0.00128112,  0.02562239,  0.02441095,\n",
       "         0.02441095,  0.01517403,  0.00207233]),\n",
       " array([ 1.05771505,  0.001184  , -0.00128112,  0.02562239,  0.0488219 ,\n",
       "         0.0488219 ,  0.57675177,  0.        ]),\n",
       " 11)"
      ]
     },
     "execution_count": 43,
     "metadata": {},
     "output_type": "execute_result"
    }
   ],
   "source": [
    "Eps_0 = np.zeros((len(Eps),), dtype=np.float_)\n",
    "material_params = dict(\n",
    "    E_T_=1, gamma_T_=1, K_T_=1, S_T_=1, c_T_=1, f_s_=1, \n",
    "    E_N_=1, S_N_=0.5, c_N_=1, m_=0.05, f_t_=1, f_c_=20, f_c0_=10, r_N_=1, r_T_=1, eta_=0.1\n",
    ")\n",
    "get_material_model(1.1, 0, 0, Eps_0, Eps_0, 50, **material_params) "
   ]
  },
  {
   "cell_type": "markdown",
   "metadata": {},
   "source": [
    "**Loop over the time increments** for a single material point. This loop emulates the  finite-element spatial integration or a lattice-assembly algorithm.  "
   ]
  },
  {
   "cell_type": "code",
   "execution_count": 44,
   "metadata": {
    "slideshow": {
     "slide_type": "subslide"
    }
   },
   "outputs": [],
   "source": [
    "def get_response(u_max=[3,0,0], n_steps = 10, k_max=20, get_load_fn=lambda t: t, **kw):\n",
    "    Eps_n1 = np.zeros((len(Eps),), dtype=np.float_)\n",
    "    Sig_n1 = np.zeros_like(Eps_n1)\n",
    "    Sig_record = []\n",
    "    Eps_record = []\n",
    "    iter_record = []\n",
    "    t_arr = np.linspace(0,1,n_steps+1)\n",
    "    u_Tx_max, u_Ty_max, u_N_max = u_max \n",
    "    u_Tx_t = u_Tx_max * get_load_fn(t_arr) + 1e-9 # @todo: check the reason for 1e-9\n",
    "    u_Ty_t = u_Ty_max * get_load_fn(t_arr) + 1e-9\n",
    "    u_N_t = u_N_max * get_load_fn(t_arr) + 1e-9\n",
    "    for u_Tx_n1, u_Ty_n1, u_N_n1 in zip(u_Tx_t, u_Ty_t, u_N_t):\n",
    "        Eps_n1, Sig_n1, k = get_material_model(u_Tx_n1, u_Ty_n1, u_N_n1, Sig_n1, Eps_n1, k_max, **kw)\n",
    "        Sig_record.append(Sig_n1)\n",
    "        Eps_record.append(Eps_n1)\n",
    "        iter_record.append(k)\n",
    "    Sig_arr = np.array(Sig_record, dtype=np.float_)\n",
    "    Eps_arr = np.array(Eps_record, dtype=np.float_)\n",
    "    iter_arr = np.array(iter_record,dtype=np.int_)\n",
    "    return t_arr, u_Tx_t, u_Ty_t, u_N_t, Eps_arr, Sig_arr, iter_arr"
   ]
  },
  {
   "cell_type": "code",
   "execution_count": 45,
   "metadata": {
    "slideshow": {
     "slide_type": "slide"
    }
   },
   "outputs": [],
   "source": [
    "material_params = dict(\n",
    "    E_T_=1, gamma_T_=5, K_T_=5, S_T_=0.6, c_T_=1, f_s_=1, \n",
    "    E_N_=1, S_N_=0.6, c_N_=1, m_=0.01, f_t_=1, f_c_=20, f_c0_=10, r_N_=1, r_T_=1, eta_=0.5\n",
    ")"
   ]
  },
  {
   "cell_type": "code",
   "execution_count": 46,
   "metadata": {},
   "outputs": [],
   "source": [
    "t_arr, u_Tx_t, u_Ty_t, u_N_t, Eps_arr, Sigma_arr, iter_arr = get_response(\n",
    "    u_max=[1.1,0,0.1], n_steps=3, k_max=50, **material_params\n",
    ")"
   ]
  },
  {
   "cell_type": "code",
   "execution_count": 47,
   "metadata": {},
   "outputs": [
    {
     "data": {
      "text/plain": [
       "array([ 1,  1,  1, 13])"
      ]
     },
     "execution_count": 47,
     "metadata": {},
     "output_type": "execute_result"
    }
   ],
   "source": [
    "iter_arr"
   ]
  },
  {
   "cell_type": "markdown",
   "metadata": {
    "slideshow": {
     "slide_type": "slide"
    }
   },
   "source": [
    "# Support functions\n",
    "To run some examples, let us define some infrastructure including a more complex loading history and postprocessing"
   ]
  },
  {
   "cell_type": "markdown",
   "metadata": {
    "slideshow": {
     "slide_type": "slide"
    }
   },
   "source": [
    "## Loading history\n",
    "This implementation uses the symbolic machinery which is not necessary a simpler data point based implementation with `numpy.interp1d` would be better ... later "
   ]
  },
  {
   "cell_type": "code",
   "execution_count": 48,
   "metadata": {
    "slideshow": {
     "slide_type": "subslide"
    }
   },
   "outputs": [],
   "source": [
    "t, theta = sp.symbols(r't, \\theta')\n",
    "n_cycles = 5\n",
    "A = 2\n",
    "ups = np.array([((theta-2*cycle)*A+(1-A), theta-2*cycle<=1) \n",
    "                for cycle in range(n_cycles)])\n",
    "downs = np.array([((1-(theta-(2*cycle+1)))*A+(1-A),(theta-(2*cycle+1))<=1) \n",
    "                  for cycle in range(n_cycles)])\n",
    "ups[0,0] = theta\n",
    "updowns = np.einsum('ijk->jik',np.array([ups, downs])).reshape(-1,2)\n",
    "load_fn = sp.Piecewise(*updowns).subs(theta,t*n_cycles)\n",
    "get_load_fn = sp.lambdify(t, load_fn,'numpy')\n",
    "t_arr = np.linspace(0,1,600)\n",
    "plt.plot(t_arr, get_load_fn(t_arr));"
   ]
  },
  {
   "cell_type": "markdown",
   "metadata": {
    "slideshow": {
     "slide_type": "slide"
    }
   },
   "source": [
    "## Plotting functions\n",
    "To simplify postprocessing examples, here are two aggregate plotting functions, one for the state and force variables, the other one for the evaluation of energies"
   ]
  },
  {
   "cell_type": "code",
   "execution_count": 49,
   "metadata": {
    "slideshow": {
     "slide_type": "subslide"
    }
   },
   "outputs": [],
   "source": [
    "def plot_Sig_Eps(s_x_t, Sig_arr, Eps_arr, iter_arr, \n",
    "                 ax1, ax11, ax2, ax22, ax3, ax33, ax4, ax44):\n",
    "    colors = ['blue','red', 'green', 'black', 'magenta' ]\n",
    "    s_x_pi_, s_y_pi_, w_pi_, z_, alpha_x_, alpha_y_, omega_s_, omega_w_ = Eps_arr.T\n",
    "    tau_x_pi_, tau_y_pi_, sig_pi_, Z_, X_x_, X_y_, Y_s_, Y_w_ = Sig_arr.T\n",
    "    n_step = len(s_x_pi_)\n",
    "    ax1.plot(s_x_t, tau_x_pi_, color='black', \n",
    "             label='n_steps = %g' % n_step)\n",
    "    ax1.set_xlabel('$s$'); ax1.set_ylabel(r'$\\tau$')\n",
    "    ax1.legend()\n",
    "    ax11.plot(s_x_t, iter_arr, '-.')\n",
    "    ax2.plot(s_x_t, omega_s_, color='red', \n",
    "             label='n_steps = %g' % n_step)\n",
    "    ax2.set_xlabel('$s$'); ax2.set_ylabel(r'$\\omega$')\n",
    "    ax2.plot(s_x_t, omega_w_, color='green', )\n",
    "#    ax22.plot(s_x_t, Y_s_, '-.', color='red', \n",
    "#             label='n_steps = %g' % n_step)\n",
    "#    ax22.set_ylabel('$Y$')\n",
    "    ax3.plot(s_x_t, z_, color='green', \n",
    "             label='n_steps = %g' % n_step)\n",
    "    ax3.set_xlabel('$s$'); ax3.set_ylabel(r'$z$')\n",
    "    ax33.plot(s_x_t, Z_, '-.', color='green')\n",
    "    ax33.set_ylabel(r'$Z$')\n",
    "    ax4.plot(s_x_t, alpha_x_, color='blue', \n",
    "             label='n_steps = %g' % n_step)\n",
    "    ax4.set_xlabel('$s$'); ax4.set_ylabel(r'$\\alpha$')\n",
    "    ax44.plot(s_x_t, X_x_, '-.', color='blue')\n",
    "    ax44.set_ylabel(r'$X$')"
   ]
  },
  {
   "cell_type": "code",
   "execution_count": 50,
   "metadata": {
    "slideshow": {
     "slide_type": "subslide"
    }
   },
   "outputs": [],
   "source": [
    "from scipy.integrate import cumtrapz\n",
    "def plot_work(ax, t_arr, s_x_t, s_y_t, w_t, Eps_arr, Sig_arr):\n",
    "    W_arr = (\n",
    "        cumtrapz(Sig_arr[:,0], s_x_t, initial=0) + \n",
    "        cumtrapz(Sig_arr[:,1], s_y_t, initial=0) +\n",
    "        cumtrapz(Sig_arr[:,2], w_t, initial=0)\n",
    "    )\n",
    "    U_arr = (\n",
    "        Sig_arr[:,0] * (s_x_t-Eps_arr[:,0]) / 2.0 + \n",
    "        Sig_arr[:,1] * (s_y_t-Eps_arr[:,1]) / 2.0 +\n",
    "        Sig_arr[:,2] * (w_t-Eps_arr[:,2]) / 2.0\n",
    "    )\n",
    "    G_arr = W_arr - U_arr\n",
    "    ax.plot(t_arr, W_arr, lw=2, color='black', label=r'$W$ - Input work')\n",
    "    ax.plot(t_arr, G_arr, color='red', label=r'$G$ - Plastic work')\n",
    "    ax.fill_between(t_arr, W_arr, G_arr, color='green', alpha=0.2)\n",
    "    ax.set_xlabel('$t$'); ax3.set_ylabel(r'$E$')\n",
    "    ax.legend()"
   ]
  },
  {
   "cell_type": "code",
   "execution_count": 51,
   "metadata": {
    "slideshow": {
     "slide_type": "subslide"
    }
   },
   "outputs": [],
   "source": [
    "def plot_dissipation(ax, t_arr, Eps_arr, Sig_arr):    \n",
    "    colors = ['blue','red', 'green', 'black', 'magenta' ]\n",
    "    E_i = cumtrapz(Sig_arr, Eps_arr, initial=0, axis=0)\n",
    "    E_s_x_pi_, E_s_y_pi_, E_w_pi_, E_z_, E_alpha_x_, E_alpha_y_, E_omega_s_, E_omega_w_ = E_i.T\n",
    "    c = 'brown'\n",
    "    E_plastic_work = E_s_x_pi_+E_s_y_pi_+E_w_pi_ \n",
    "    ax.plot(t_arr, E_plastic_work, '-.', lw=1, color=c)\n",
    "    c = 'blue'\n",
    "    E_isotropic_diss = E_z_\n",
    "    ax.plot(t_arr, E_isotropic_diss, '-.', lw=1, color='black')\n",
    "    ax.fill_between(t_arr, E_isotropic_diss, 0, color=c, alpha=0.3)\n",
    "    c = 'blue'\n",
    "    E_free_energy = E_alpha_x_ + E_alpha_y_\n",
    "    ax.plot(t_arr, E_free_energy, color='black', lw=1)\n",
    "    ax.fill_between(t_arr, E_free_energy, E_isotropic_diss, \n",
    "                    color=c, alpha=0.2);\n",
    "    E_plastic_diss = E_plastic_work - E_free_energy\n",
    "    ax.plot(t_arr, E_plastic_diss, color='black', lw=1)\n",
    "    ax.fill_between(t_arr, E_plastic_diss, 0, \n",
    "                    color='orange', alpha=0.3);\n",
    "    c = 'magenta'\n",
    "    E_damage_diss = E_omega_s_ + E_omega_w_\n",
    "    ax.plot(t_arr, E_plastic_diss + E_damage_diss, color=c, lw=1)\n",
    "    ax.fill_between(t_arr, E_plastic_diss + E_damage_diss, \n",
    "                    E_plastic_work, \n",
    "                    color=c, alpha=0.2);\n",
    "    ax.fill_between(t_arr, E_free_energy + E_plastic_diss + E_damage_diss, \n",
    "                    E_plastic_diss + E_damage_diss, \n",
    "                    color='yellow', alpha=0.3);\n"
   ]
  },
  {
   "cell_type": "code",
   "execution_count": 52,
   "metadata": {},
   "outputs": [],
   "source": [
    "def plot_dissipation(ax, t_arr, Eps_arr, Sig_arr, ax2=None):    \n",
    "    colors = ['blue','red', 'green', 'black', 'magenta' ]\n",
    "    E_i = cumtrapz(Sig_arr, Eps_arr, initial=0, axis=0)\n",
    "    E_s_x_pi_, E_s_y_pi_, E_w_pi_, E_z_, E_alpha_x_, E_alpha_y_, E_omega_s_, E_omega_w_ = E_i.T\n",
    "\n",
    "    E_plastic_work = E_s_x_pi_+E_s_y_pi_+E_w_pi_ \n",
    "    E_isotropic_diss = E_z_\n",
    "    E_free_energy = E_alpha_x_ + E_alpha_y_\n",
    "    E_my_plastic_diss = E_plastic_work - E_free_energy - E_isotropic_diss\n",
    "    E_damage_diss = E_omega_s_ + E_omega_w_\n",
    "\n",
    "    if ax2:\n",
    "        ax2.plot(t_arr, E_damage_diss, color='gray', lw=1, label='E damage diss')\n",
    "        ax2.plot(t_arr, E_my_plastic_diss, color='magenta', lw=1, label='E plast diss')\n",
    "        ax2.plot(t_arr, E_isotropic_diss, color='red', lw=1, label='E iso')\n",
    "        ax2.plot(t_arr, E_free_energy, color='blue', lw=1, label='E free')\n",
    "        ax2.legend()\n",
    "    \n",
    "    E_level = 0\n",
    "    ax.plot(t_arr, E_damage_diss + E_level, color='black', lw=1)\n",
    "    ax.fill_between(t_arr, E_damage_diss + E_level, E_level, color='gray', alpha=0.3);\n",
    "    E_level = E_damage_diss\n",
    "    ax.plot(t_arr, E_my_plastic_diss + E_level, '-.', lw=1, color='magenta')\n",
    "    ax.fill_between(t_arr, E_my_plastic_diss + E_level, E_level, color='magenta', alpha=0.3)\n",
    "    E_level += E_my_plastic_diss\n",
    "    ax.plot(t_arr, E_isotropic_diss + E_level, '-.', lw=1, color='black')\n",
    "    ax.fill_between(t_arr, E_isotropic_diss + E_level, E_level, color='red', alpha=0.3)\n",
    "    E_level += E_isotropic_diss\n",
    "    ax.plot(t_arr, E_free_energy + E_level , color='black', lw=1)\n",
    "    ax.fill_between(t_arr, E_free_energy + E_level, E_level, color='blue', alpha=0.2);\n",
    "    \n",
    "    "
   ]
  },
  {
   "cell_type": "markdown",
   "metadata": {
    "slideshow": {
     "slide_type": "slide"
    }
   },
   "source": [
    "# Examples"
   ]
  },
  {
   "cell_type": "markdown",
   "metadata": {
    "slideshow": {
     "slide_type": "slide"
    }
   },
   "source": [
    "## Monotonic load \n",
    "Let's first run the example with different size of the time step to see if there is any difference"
   ]
  },
  {
   "cell_type": "code",
   "execution_count": 53,
   "metadata": {},
   "outputs": [],
   "source": [
    "E_T_ = 100\n",
    "u_T_0_ = 0.1\n",
    "S_T_ = E_T_ * u_T_0_**2\n",
    "material_params = dict(\n",
    "    E_T_=1, gamma_T_=5, K_T_=5, S_T_=S_T_, c_T_=1, f_s_=1,\n",
    "    E_N_=1, S_N_=0.6, c_N_=1, m_=0.01, f_t_=1, f_c_=20, \n",
    "    f_c0_=10, r_N_=1, r_T_=1, eta_=0.5\n",
    ")"
   ]
  },
  {
   "cell_type": "code",
   "execution_count": 54,
   "metadata": {
    "slideshow": {
     "slide_type": "fragment"
    }
   },
   "outputs": [
    {
     "data": {
      "application/vnd.jupyter.widget-view+json": {
       "model_id": "3c5334b8ac6548079118c496d854a248",
       "version_major": 2,
       "version_minor": 0
      },
      "text/plain": [
       "Canvas(toolbar=Toolbar(toolitems=[('Home', 'Reset original view', 'home', 'home'), ('Back', 'Back to previous …"
      ]
     },
     "metadata": {},
     "output_type": "display_data"
    }
   ],
   "source": [
    "fig, ((ax1,ax2),(ax3,ax4)) = plt.subplots(2,2,figsize=(10,5), tight_layout=True)\n",
    "ax11 = ax1.twinx()\n",
    "ax22 = ax2.twinx()\n",
    "ax33 = ax3.twinx()\n",
    "ax44 = ax4.twinx()\n",
    "axes = ax1, ax11, ax2, ax22, ax3, ax33, ax4, ax44\n",
    "for n_steps in [200, 500]: # 20, 40, 200, 2000]:\n",
    "    t_arr, s_x_t, s_y_t, w_t, Eps_arr, Sig_arr, iter_arr = get_response(\n",
    "        s_max=[0, 0,5 ], n_steps=n_steps, k_max=100, **material_params\n",
    "    )\n",
    "    #plot_Sig_Eps(s_x_t, Sig_arr, Eps_arr, iter_arr, *axes)\n",
    "    s_x_pi_, s_y_pi_, w_pi_, z_, alpha_x_, alpha_y_, omega_s_, omega_w_ = Eps_arr.T\n",
    "    tau_x_pi_, tau_y_pi_, sig_pi_, Z_, X_x_, X_y_, Y_s_, Y_w_ = Sig_arr.T\n",
    "    ax1.plot(w_t, sig_pi_, color='green' )\n",
    "    ax11.plot(s_x_t, tau_x_pi_, color='red' )\n",
    "    ax2.plot(w_t, omega_w_, color='green' )\n",
    "    ax22.plot(w_t, omega_s_, color='red' )"
   ]
  },
  {
   "cell_type": "code",
   "execution_count": 55,
   "metadata": {
    "slideshow": {
     "slide_type": "subslide"
    }
   },
   "outputs": [
    {
     "data": {
      "application/vnd.jupyter.widget-view+json": {
       "model_id": "2291b759714e4177bc8cf46ae9c4255b",
       "version_major": 2,
       "version_minor": 0
      },
      "text/plain": [
       "Canvas(toolbar=Toolbar(toolitems=[('Home', 'Reset original view', 'home', 'home'), ('Back', 'Back to previous …"
      ]
     },
     "metadata": {},
     "output_type": "display_data"
    }
   ],
   "source": [
    "fig, (ax, ax2) = plt.subplots(1,2,figsize=(10, 5))\n",
    "plot_work(ax, t_arr, s_x_t, s_y_t, w_t, Eps_arr, Sig_arr)\n",
    "plot_dissipation(ax, t_arr, Eps_arr, Sig_arr, ax2)"
   ]
  },
  {
   "cell_type": "markdown",
   "metadata": {
    "slideshow": {
     "slide_type": "slide"
    }
   },
   "source": [
    "## Cyclic loading"
   ]
  },
  {
   "cell_type": "code",
   "execution_count": 56,
   "metadata": {
    "slideshow": {
     "slide_type": "fragment"
    }
   },
   "outputs": [
    {
     "data": {
      "application/vnd.jupyter.widget-view+json": {
       "model_id": "629364fbe969431e831ce1c479975467",
       "version_major": 2,
       "version_minor": 0
      },
      "text/plain": [
       "Canvas(toolbar=Toolbar(toolitems=[('Home', 'Reset original view', 'home', 'home'), ('Back', 'Back to previous …"
      ]
     },
     "metadata": {},
     "output_type": "display_data"
    }
   ],
   "source": [
    "material_params = dict(\n",
    "    E_T_=1, gamma_T_=5, K_T_=0, S_T_=1000, c_T_=1, f_s_=1, \n",
    "    E_N_=1, S_N_=1000, c_N_=1, m_=0.00001, f_t_=100, f_c_=20000, f_c0_=10000, r_N_=4, r_T_=4, eta_=0\n",
    ")\n",
    "\n",
    "fig, ((ax1,ax2),(ax3,ax4)) = plt.subplots(2,2,figsize=(10,6), tight_layout=True)\n",
    "ax11 = ax1.twinx()\n",
    "ax22 = ax2.twinx()\n",
    "ax33 = ax3.twinx()\n",
    "ax44 = ax4.twinx()\n",
    "axes = ax1, ax11, ax2, ax22, ax3, ax33, ax4, ax44\n",
    "t_arr, s_x_t, s_y_t, w_t, Eps_arr, Sig_arr, iter_arr = get_response(\n",
    "    u_max=[10,0,0], n_steps=5000, k_max=100, get_load_fn=get_load_fn, **material_params\n",
    ")\n",
    "plot_Sig_Eps(s_x_t, Sig_arr, Eps_arr, iter_arr, ax1, ax11, ax2, ax22, ax3, ax33, ax4, ax44)"
   ]
  },
  {
   "cell_type": "code",
   "execution_count": 57,
   "metadata": {
    "slideshow": {
     "slide_type": "subslide"
    }
   },
   "outputs": [
    {
     "data": {
      "application/vnd.jupyter.widget-view+json": {
       "model_id": "eb9a2b65a5f5443082f574ed274720a0",
       "version_major": 2,
       "version_minor": 0
      },
      "text/plain": [
       "Canvas(toolbar=Toolbar(toolitems=[('Home', 'Reset original view', 'home', 'home'), ('Back', 'Back to previous …"
      ]
     },
     "metadata": {},
     "output_type": "display_data"
    }
   ],
   "source": [
    "fig, (ax, ax2) = plt.subplots(1,2,figsize=(10, 5))\n",
    "plot_work(ax, t_arr, s_x_t, s_y_t, w_t, Eps_arr, Sig_arr)\n",
    "plot_dissipation(ax, t_arr, Eps_arr, Sig_arr, ax2)"
   ]
  },
  {
   "cell_type": "markdown",
   "metadata": {},
   "source": [
    "# Interactive application"
   ]
  },
  {
   "cell_type": "code",
   "execution_count": 64,
   "metadata": {},
   "outputs": [
    {
     "data": {
      "application/vnd.jupyter.widget-view+json": {
       "model_id": "74f336928e574a11b5986931984aea91",
       "version_major": 2,
       "version_minor": 0
      },
      "text/plain": [
       "Canvas(toolbar=Toolbar(toolitems=[('Home', 'Reset original view', 'home', 'home'), ('Back', 'Back to previous …"
      ]
     },
     "metadata": {},
     "output_type": "display_data"
    },
    {
     "data": {
      "application/vnd.jupyter.widget-view+json": {
       "model_id": "70b8077b84f74d6eabc3c80df69c1ca4",
       "version_major": 2,
       "version_minor": 0
      },
      "text/plain": [
       "VBox(children=(HBox(children=(FloatSlider(value=0.0, continuous_update=False, description='s_x', max=4.0, min=…"
      ]
     },
     "metadata": {},
     "output_type": "display_data"
    }
   ],
   "source": [
    "def init():\n",
    "    '''Initialize the state variables'''\n",
    "    global Eps_record, Sig_record, iter_record\n",
    "    global t_arr, s_x_t, s_y_t, w_t, s_x_0, s_y_0, w_0, t0, Eps_n1, Sig_n1\n",
    "    s_x_0, s_y_0 , w_0 = 0, 0, 0\n",
    "    t0 = 0\n",
    "    Sig_record = []\n",
    "    Eps_record = []\n",
    "    iter_record = []\n",
    "    t_arr = []\n",
    "    s_x_t, s_y_t, w_t = [], [], []\n",
    "    Eps_n1 = np.zeros((len(Eps),), dtype=np.float_)\n",
    "    Sig_n1 = np.zeros((len(Eps),), dtype=np.float_)\n",
    "\n",
    "def get_response_i(s_x_1, s_y_1, w_1, n_steps = 10, k_max=300, **kw):\n",
    "    '''Calculate the response for the next prescribed control displacement in n_steps'''\n",
    "    global Eps_record, Sig_record, iter_record\n",
    "    global t_arr, s_x_t, s_y_t, w_t, s_x_0, s_y_0, w_0, t0, Eps_n1, Sig_n1\n",
    "    t1 = t0 + n_steps+1\n",
    "    ti_arr = np.linspace(t0, t1, n_steps+1 )\n",
    "    si_x_t = np.linspace(s_x_0,s_x_1,n_steps+1)\n",
    "    si_y_t = np.linspace(s_y_0,s_y_1,n_steps+1)\n",
    "    wi_t = np.linspace(w_0,w_1,n_steps+1)\n",
    "    for s_x_n1, s_y_n1, w_n1 in zip(si_x_t, si_y_t, wi_t):\n",
    "        Eps_n1, Sig_n1, k = get_material_model(s_x_n1, s_y_n1, w_n1, Sig_n1, Eps_n1, k_max, **kw)\n",
    "        Sig_record.append(Sig_n1)\n",
    "        Eps_record.append(Eps_n1)\n",
    "        iter_record.append(k)\n",
    "    t_arr = np.hstack([t_arr, ti_arr])\n",
    "    s_x_t = np.hstack([s_x_t, si_x_t])\n",
    "    s_y_t = np.hstack([s_y_t, si_y_t])\n",
    "    w_t = np.hstack([w_t, wi_t])\n",
    "    t0 = t1\n",
    "    s_x_0, s_y_0, w_0 = s_x_1, s_y_1, w_1\n",
    "    return\n",
    "\n",
    "import ipywidgets as ipw\n",
    "\n",
    "def plot3d_Sig_Eps(ax3d, s_x_t, s_y_t, Sig_arr, Eps_arr):\n",
    "    tau_x, tau_y = Sig_arr.T[:2,...]\n",
    "    tau = np.sqrt( tau_x**2 + tau_y**2 )\n",
    "    ax3d.plot3D(s_x_t, s_y_t, tau, color='orange', lw=3)\n",
    "    \n",
    "def plot_sig_w(ax, w_t, Sig_arr, Eps_arr):\n",
    "    sig_t = Sig_arr.T[2,...]\n",
    "    ax.plot(w_t, sig_t, color='orange', lw=3)\n",
    "\n",
    "fig = plt.figure(figsize=(10,3), tight_layout=True)\n",
    "ax1 = fig.add_subplot(1, 3, 1, projection='3d')\n",
    "ax_sig = fig.add_subplot(1, 3, 2)\n",
    "ax2 = fig.add_subplot(1, 3, 3)\n",
    "ax_iter = ax2.twinx()\n",
    "def update(s_x_1, s_y_1, w_1):\n",
    "    global Eps_record, Sig_record, iter_record\n",
    "    global t_arr, s_x_t, s_y_t, w_t, s_x_0, s_y_0, w_0, t0, Eps_n\n",
    "    global kwargs\n",
    "    print(kwargs)\n",
    "    get_response_i(s_x_1, s_y_1, w_1, **kwargs)\n",
    "    Sig_arr = np.array(Sig_record, dtype=np.float_)\n",
    "    Eps_arr = np.array(Eps_record, dtype=np.float_)\n",
    "    iter_arr = np.array(iter_record,dtype=np.int_)\n",
    "    ax1.clear()\n",
    "    ax_sig.clear()\n",
    "    ax2.clear()\n",
    "    ax_iter.clear()\n",
    "    plot3d_Sig_Eps(ax1, s_x_t, s_y_t, Sig_arr, Eps_arr)\n",
    "    ax1.plot(s_x_t, s_y_t, 0, color='red')\n",
    "    ax1.set_xlabel(r'$s_x$ [mm]');ax1.set_ylabel(r'$s_y$ [mm]');\n",
    "    ax1.set_zlabel(r'$\\| \\tau \\| = \\sqrt{\\tau_x^2 + \\tau_y^2}$ [MPa]');\n",
    "\n",
    "    plot_sig_w(ax_sig, w_t, Sig_arr, Eps_arr)\n",
    "    ax_sig.set_xlabel(r'$w$ [mm]');ax1.set_ylabel(r'$\\sigma$ [MPa]');\n",
    "\n",
    "    plot_work(ax2, t_arr, s_x_t, s_y_t, w_t, Eps_arr, Sig_arr)\n",
    "    plot_dissipation(ax2, t_arr, Eps_arr, Sig_arr)\n",
    "    ax_iter.plot(t_arr, iter_arr)\n",
    "    ax_iter.set_ylabel(r'$n_\\mathrm{iter}$')\n",
    "\n",
    "s_x_1_slider = ipw.FloatSlider(description='s_x',value=0,min=-4, max=+4, step=0.1,\n",
    "                               continuous_update=False)\n",
    "s_y_1_slider = ipw.FloatSlider(description='s_y',value=0,min=-4, max=+4, step=0.1,\n",
    "                               continuous_update=False)\n",
    "w_1_slider = ipw.FloatSlider(description='w', value=0,min=-4, max=+4, step=0.1,\n",
    "                               continuous_update=False)\n",
    "\n",
    "def reset(**kwargs_):\n",
    "    global kwargs\n",
    "    kwargs = kwargs_\n",
    "    init()\n",
    "    s_x_1_slider.value = 0\n",
    "    s_y_1_slider.value = 0\n",
    "    w_1_slider.value = 0\n",
    "\n",
    "n_steps = 20\n",
    "\n",
    "kwargs_ranges = [\n",
    "    ('E_T_', 1, 0.5, 100),\n",
    "    ('S_T_', 0.6, 0.00001, 100),\n",
    "    ('c_T_', 1, 0.0001, 10),\n",
    "    ('r_T_', 1, 0.001, 10),\n",
    "    ('gamma_T_', 0, -20, 20),\n",
    "    ('K_T_', 0, -20, 20),\n",
    "    ('f_s_', 1, 0.5, 20),\n",
    "    ('E_N_',1, 0.5, 100), \n",
    "    ('S_N_', 0.6, 0.0001, 100), \n",
    "    ('c_N_', 1, 0.0001,10), \n",
    "    ('m_', 0.1, 0.0001, 0.4), \n",
    "    ('r_N_', 1, 0.001, 10),\n",
    "    ('f_t_', 1, 0.1, 10), \n",
    "    ('f_c_', 10, 1, 200), \n",
    "    ('f_c0_', 5, 1, 100), \n",
    "    ('eta_', 0, 0, 1)\n",
    "]\n",
    "\n",
    "kwargs = {key: val for (key, val, _, _) in kwargs_ranges}\n",
    "\n",
    "kwargs_sliders = {\n",
    "    name : ipw.FloatSlider(description=name, value=val, \n",
    "                            min=minval, max=maxval, step=(maxval-minval) / n_steps,\n",
    "                           continuous_update=False)\n",
    "    for name, val, minval, maxval in kwargs_ranges\n",
    "}\n",
    "\n",
    "slip_sliders = {'s_x_1': s_x_1_slider, \n",
    "                's_y_1': s_y_1_slider,\n",
    "                'w_1': w_1_slider}\n",
    "\n",
    "def slider_layout(out1, out2):\n",
    "    layout = ipw.Layout(grid_template_columns='1fr 1fr')\n",
    "    slider_list = tuple(kwargs_sliders.values())\n",
    "    grid = ipw.GridBox(slider_list, layout=layout)\n",
    "    slip_slider_list = tuple(slip_sliders.values())\n",
    "    hbox = ipw.HBox(slip_slider_list)\n",
    "    box = ipw.VBox([hbox, grid, out1, out2])\n",
    "    display(box)\n",
    "    \n",
    "init()\n",
    "out1 = ipw.interactive_output(update, slip_sliders)\n",
    "out2 = ipw.interactive_output(reset, kwargs_sliders);\n",
    "slider_layout(out1, out2)"
   ]
  },
  {
   "cell_type": "markdown",
   "metadata": {
    "slideshow": {
     "slide_type": "slide"
    }
   },
   "source": [
    "**Code generation** The derivation is adopted for the purpose of code generation both in Python and C utilizing the `codegen` package provided in `sympy`. The expressions that are part of the time stepping algorithm are transformed to an executable code directly at the place where they are derived. At the end of the notebook the C code can be exported to external files and applied in external tools. "
   ]
  },
  {
   "cell_type": "markdown",
   "metadata": {
    "slideshow": {
     "slide_type": "slide"
    }
   },
   "source": [
    "# Code generation\n",
    "See the docs for the code generation, the latexified  sympy symbols \n",
    "must be substituted such that they can act as standard C variable names.\n",
    "The issue with this substitution might have been partially fixed by the substitution\n",
    "code defined by this code.\n",
    "\n",
    "The methods \n",
    " * `get_f_df()`, and \n",
    " * `get_Eps_n1` must be rewritten in C.\n",
    " \n",
    "**How to transform `einsum` to C?**\n",
    "\n",
    "The state arrays `Eps` and `Sig` must be prepared by the callee, i.e. the function to be \n",
    "called from at a level of material point in a finite-element or lattice code.\n",
    "All the state variable matrices are flattened in the generated C code so that index access operators must be constructed with the correct convention, i.e. \n",
    "`i * n_row + j` or `i + n_col * j`. \n",
    "\n",
    "Let us consider the line\n",
    "```Python\n",
    "df_dEps_k = np.einsum('ik,ji->jk', df_dSig_k, dSig_dEps_k) + ddf_dEps_k\n",
    "````\n",
    "\n",
    "To transform this systematically into the C loop it is proposed define\n",
    "index directives specifying the size of the first dimension. Then, the \n",
    "indexes from the `einsum` call can be systematically transferred to the \n",
    "multi-loop running over the indexes and respecting their order. No more \n",
    "thinking needed. The index operators below are prepared for arrays with \n",
    "2, 3, and 4 dimensions.\n",
    "```C\n",
    "#define IJ(N_I,I,J) (N_I * J + I)\n",
    "#define IJK(N_I,N_J,I,J,K) (N_I * IJ(N_J,J,K) + I)\n",
    "#define IJKL(N_I,N_J,N_K,I,J,K,L) (N_I * IJK(N_J,N_K,J,K,L) + I)\n",
    "````\n",
    "to perform the matrix multiplication\n",
    "```C\n",
    "int k=0;\n",
    "for(int i=0;i<N_I;i++)\n",
    "    for(int j=0;j<N_J;j++)\n",
    "        df_dEps_1[IJ(N_J,j,k)] += df_dSig_k[IJ(N_I(i,k)] * dSig_dEps_k[IJ(N_J,j,i)]\n",
    "    df_dEps[IJ(N_I,i,k)] = df_dEps_1[IJ(N_J,j,k)] + ddSig_dEps(IJ(N_I,i,k)];\n",
    "````\n",
    "\n",
    "The whole material model is represented by the material method\n",
    "that mimics the internal par of the `get_response` function defined above\n",
    "\n",
    " 1. Call `get_f_df()` to get the trial state\n",
    " 2. Start the return mapping iteration loop\n",
    " 3. If admissibility criterion fulfilled - admissible state found - return stress\n",
    " 4. Evaluate delta of plastic multiplier and update it\n",
    " 5. Update state variables using evolution equations `get_Eps_n1`\n",
    " 6. Evaluate the residuum using `get_f_df()` and continuum with point 3.\n",
    " "
   ]
  },
  {
   "cell_type": "code",
   "execution_count": 66,
   "metadata": {},
   "outputs": [],
   "source": [
    "C_code = get_Sig_C, get_dSig_dEps_C, get_f_C, get_df_dSig_C, get_ddf_dEps_C, get_Phi_C "
   ]
  },
  {
   "cell_type": "code",
   "execution_count": 76,
   "metadata": {},
   "outputs": [
    {
     "name": "stdout",
     "output_type": "stream",
     "text": [
      "code_written to files /home/rch/sympy_codegen/SLIDE_3_4.h and /home/rch/sympy_codegen/SLIDE_3_4.c\n"
     ]
    }
   ],
   "source": [
    "import os\n",
    "import os.path as osp\n",
    "\n",
    "code_dirname = 'sympy_codegen'\n",
    "code_fname = 'SLIDE_3_4'\n",
    "\n",
    "home_dir = osp.expanduser('~')\n",
    "code_dir = osp.join(home_dir, code_dirname)\n",
    "if not osp.exists(code_dir):\n",
    "    os.makedirs(code_dir)\n",
    "\n",
    "code_file = osp.join(code_dir, code_fname)\n",
    "\n",
    "h_file = code_file + '.h'\n",
    "c_file = code_file + '.c'\n",
    "print(f'code_written to files {h_file} and {c_file}')\n",
    "\n",
    "h_f = open(h_file,'w') \n",
    "c_f = open(c_file,'w')\n",
    "\n",
    "if True:\n",
    "    for function_C in C_code:\n",
    "        h_f.write(function_C[1][1])\n",
    "        c_f.write(function_C[0][1])\n",
    "h_f.close()\n",
    "c_f.close()"
   ]
  },
  {
   "cell_type": "markdown",
   "metadata": {},
   "source": [
    "## Print the source code\n",
    "\n",
    "Choose either `h_file` or `c_file` to see the generated code"
   ]
  },
  {
   "cell_type": "code",
   "execution_count": 77,
   "metadata": {},
   "outputs": [
    {
     "name": "stdout",
     "output_type": "stream",
     "text": [
      "/******************************************************************************\n",
      " *                       Code generated with sympy 1.9                        *\n",
      " *                                                                            *\n",
      " *              See http://www.sympy.org/ for more information.               *\n",
      " *                                                                            *\n",
      " *                       This file is part of 'project'                       *\n",
      " ******************************************************************************/\n",
      "#include \"SLIDE3_4_get_Sig.h\"\n",
      "#include <math.h>\n",
      "\n",
      "void get_Sig(double u_Ty_, double E_N_, double E_T_, double K_T_, double alpha_Ty_, double gamma_T_, double omega_N_, double omega_T_, double sigma_p_N_, double u_p_N_, double u_p_Tx_, double u_p_Ty_, double u_N_, double u_Tx_, double z_T_, double *out_1513238728203695364) {\n",
      "\n",
      "   out_1513238728203695364[0] = -E_T_*(1 - omega_T_)*(u_p_Tx_ - u_Tx_);\n",
      "   out_1513238728203695364[1] = -E_T_*(1 - omega_T_)*(-u_Ty_ + u_p_Ty_);\n",
      "   out_1513238728203695364[2] = -E_N_*(u_p_N_ - u_N_)*(-omega_N_*Heaviside(\\sigma^{\\mathrm{p}}_\\mathrm{N}) + 1);\n",
      "   out_1513238728203695364[3] = K_T_*z_T_;\n",
      "   out_1513238728203695364[4] = 2*alpha_Ty_*gamma_T_;\n",
      "   out_1513238728203695364[5] = 2*alpha_Ty_*gamma_T_;\n",
      "   out_1513238728203695364[6] = (1.0/2.0)*E_T_*pow(u_Ty_ - u_p_Ty_, 2) + (1.0/2.0)*E_T_*pow(-u_p_Tx_ + u_Tx_, 2);\n",
      "   out_1513238728203695364[7] = (1.0/2.0)*E_N_*pow(-u_p_N_ + u_N_, 2)*Heaviside(\\sigma^{\\mathrm{p}}_\\mathrm{N});\n",
      "\n",
      "}\n",
      "/******************************************************************************\n",
      " *                       Code generated with sympy 1.9                        *\n",
      " *                                                                            *\n",
      " *              See http://www.sympy.org/ for more information.               *\n",
      " *                                                                            *\n",
      " *                       This file is part of 'project'                       *\n",
      " ******************************************************************************/\n",
      "#include \"SLIDE3_4_get_dSig_dEps.h\"\n",
      "#include <math.h>\n",
      "\n",
      "void get_dSig_dEps(double u_Ty_, double E_N_, double E_T_, double K_T_, double gamma_T_, double omega_N_, double omega_T_, double sigma_p_N_, double u_p_N_, double u_p_Tx_, double u_p_Ty_, double u_N_, double u_Tx_, double *out_6815251581086963942) {\n",
      "\n",
      "   out_6815251581086963942[0] = E_T_*(omega_T_ - 1);\n",
      "   out_6815251581086963942[1] = 0;\n",
      "   out_6815251581086963942[2] = 0;\n",
      "   out_6815251581086963942[3] = 0;\n",
      "   out_6815251581086963942[4] = 0;\n",
      "   out_6815251581086963942[5] = 0;\n",
      "   out_6815251581086963942[6] = E_T_*(u_p_Tx_ - u_Tx_);\n",
      "   out_6815251581086963942[7] = 0;\n",
      "   out_6815251581086963942[8] = 0;\n",
      "   out_6815251581086963942[9] = E_T_*(omega_T_ - 1);\n",
      "   out_6815251581086963942[10] = 0;\n",
      "   out_6815251581086963942[11] = 0;\n",
      "   out_6815251581086963942[12] = 0;\n",
      "   out_6815251581086963942[13] = 0;\n",
      "   out_6815251581086963942[14] = E_T_*(-u_Ty_ + u_p_Ty_);\n",
      "   out_6815251581086963942[15] = 0;\n",
      "   out_6815251581086963942[16] = 0;\n",
      "   out_6815251581086963942[17] = 0;\n",
      "   out_6815251581086963942[18] = E_N_*(omega_N_*Heaviside(\\sigma^{\\mathrm{p}}_\\mathrm{N}) - 1);\n",
      "   out_6815251581086963942[19] = 0;\n",
      "   out_6815251581086963942[20] = 0;\n",
      "   out_6815251581086963942[21] = 0;\n",
      "   out_6815251581086963942[22] = 0;\n",
      "   out_6815251581086963942[23] = E_N_*(u_p_N_ - u_N_)*Heaviside(\\sigma^{\\mathrm{p}}_\\mathrm{N});\n",
      "   out_6815251581086963942[24] = 0;\n",
      "   out_6815251581086963942[25] = 0;\n",
      "   out_6815251581086963942[26] = 0;\n",
      "   out_6815251581086963942[27] = K_T_;\n",
      "   out_6815251581086963942[28] = 0;\n",
      "   out_6815251581086963942[29] = 0;\n",
      "   out_6815251581086963942[30] = 0;\n",
      "   out_6815251581086963942[31] = 0;\n",
      "   out_6815251581086963942[32] = 0;\n",
      "   out_6815251581086963942[33] = 0;\n",
      "   out_6815251581086963942[34] = 0;\n",
      "   out_6815251581086963942[35] = 0;\n",
      "   out_6815251581086963942[36] = 2*gamma_T_;\n",
      "   out_6815251581086963942[37] = 2*gamma_T_;\n",
      "   out_6815251581086963942[38] = 0;\n",
      "   out_6815251581086963942[39] = 0;\n",
      "   out_6815251581086963942[40] = 0;\n",
      "   out_6815251581086963942[41] = 0;\n",
      "   out_6815251581086963942[42] = 0;\n",
      "   out_6815251581086963942[43] = 0;\n",
      "   out_6815251581086963942[44] = 2*gamma_T_;\n",
      "   out_6815251581086963942[45] = 2*gamma_T_;\n",
      "   out_6815251581086963942[46] = 0;\n",
      "   out_6815251581086963942[47] = 0;\n",
      "   out_6815251581086963942[48] = E_T_*(u_p_Tx_ - u_Tx_);\n",
      "   out_6815251581086963942[49] = E_T_*(-u_Ty_ + u_p_Ty_);\n",
      "   out_6815251581086963942[50] = 0;\n",
      "   out_6815251581086963942[51] = 0;\n",
      "   out_6815251581086963942[52] = 0;\n",
      "   out_6815251581086963942[53] = 0;\n",
      "   out_6815251581086963942[54] = 0;\n",
      "   out_6815251581086963942[55] = 0;\n",
      "   out_6815251581086963942[56] = 0;\n",
      "   out_6815251581086963942[57] = 0;\n",
      "   out_6815251581086963942[58] = E_N_*(u_p_N_ - u_N_)*Heaviside(\\sigma^{\\mathrm{p}}_\\mathrm{N});\n",
      "   out_6815251581086963942[59] = 0;\n",
      "   out_6815251581086963942[60] = 0;\n",
      "   out_6815251581086963942[61] = 0;\n",
      "   out_6815251581086963942[62] = 0;\n",
      "   out_6815251581086963942[63] = 0;\n",
      "\n",
      "}\n",
      "/******************************************************************************\n",
      " *                       Code generated with sympy 1.9                        *\n",
      " *                                                                            *\n",
      " *              See http://www.sympy.org/ for more information.               *\n",
      " *                                                                            *\n",
      " *                       This file is part of 'project'                       *\n",
      " ******************************************************************************/\n",
      "#include \"SLIDE3_4_get_f.h\"\n",
      "#include <math.h>\n",
      "\n",
      "double get_f(double X_Ty_, double Z_T_, double omega_N_, double omega_T_, double sigma_p_Tx_, double sigma_p_Ty_, double sigma_p_N_, double f_c0_, double f_c_, double f_s_, double f_t_, double m_) {\n",
      "\n",
      "   double get_f_result;\n",
      "   if ((fabs(sqrt(pow(-X_Ty_ + sigma_p_Tx_/(1 - omega_T_), 2) + pow(-X_Ty_ + sigma_p_Ty_/(1 - omega_T_), 2))) + (Z_T_ + f_s_)*(sigma_p_N_/(-omega_N_*Heaviside(\\sigma^{\\mathrm{p}}_\\mathrm{N}) + 1) - pow(f_t_, 2)*m_/(-Z_T_ - f_s_ + 2*f_t_*m_))*(-Z_T_ - f_s_ + 2*f_t_*m_)/(pow(f_t_, 2)*m_))*(((f_t_) > 0) - ((f_t_) < 0))*(((m_) > 0) - ((m_) < 0)) < 0) {\n",
      "      get_f_result = sqrt((pow(-X_Ty_ + sigma_p_Tx_/(1 - omega_T_), 2) + pow(-X_Ty_ + sigma_p_Ty_/(1 - omega_T_), 2))*pow(pow(f_t_, 2)*pow(m_, 2) - 2*f_t_*m_*(Z_T_ + f_s_) + pow(Z_T_ + f_s_, 2), 2)/((Z_T_ + f_s_)*(Z_T_ + f_s_ - 2*f_t_*m_)*pow(Z_T_ + f_s_ - f_t_*m_, 2)) + pow(sigma_p_N_/(-omega_N_*Heaviside(\\sigma^{\\mathrm{p}}_\\mathrm{N}) + 1) - pow(f_t_, 2)*m_/(-Z_T_ - f_s_ + 2*f_t_*m_), 2)*pow(pow(f_t_, 2)*pow(m_, 2) - 2*f_t_*m_*(Z_T_ + f_s_) + pow(Z_T_ + f_s_, 2), 2)/(pow(f_t_, 2)*pow(Z_T_ + f_s_ - f_t_*m_, 2))) - (pow(f_t_, 2)*pow(m_, 2) - 2*f_t_*m_*(Z_T_ + f_s_) + pow(Z_T_ + f_s_, 2))/(Z_T_ + f_s_ - 2*f_t_*m_);\n",
      "   }\n",
      "   else if ((fabs(sqrt(pow(-X_Ty_ + sigma_p_Tx_/(1 - omega_T_), 2) + pow(-X_Ty_ + sigma_p_Ty_/(1 - omega_T_), 2))) + (Z_T_ + f_c0_*m_ + f_s_)*(sigma_p_N_/(-omega_N_*Heaviside(\\sigma^{\\mathrm{p}}_\\mathrm{N}) + 1) + f_c0_ - m_*(pow(f_c0_, 2) - 2*f_c0_*f_c_ + pow(f_c_, 2))/(-Z_T_ + f_c0_*m_ - 2*f_c_*m_ - f_s_))*(-Z_T_ + f_c0_*m_ - 2*f_c_*m_ - f_s_)/(m_*(pow(f_c0_, 2) - 2*f_c0_*f_c_ + pow(f_c_, 2))))*(((m_) > 0) - ((m_) < 0))*(((f_c0_ - f_c_) > 0) - ((f_c0_ - f_c_) < 0)) < 0) {\n",
      "      get_f_result = sqrt((pow(-X_Ty_ + sigma_p_Tx_/(1 - omega_T_), 2) + pow(-X_Ty_ + sigma_p_Ty_/(1 - omega_T_), 2))*pow(pow(f_c0_, 2)*pow(m_, 2) - 2*f_c0_*f_c_*pow(m_, 2) - 2*f_c0_*m_*(Z_T_ + f_c0_*m_ + f_s_) + pow(f_c_, 2)*pow(m_, 2) + 2*f_c_*m_*(Z_T_ + f_c0_*m_ + f_s_) + pow(Z_T_ + f_c0_*m_ + f_s_, 2), 2)/((Z_T_ + f_c0_*m_ + f_s_)*pow(Z_T_ + f_c_*m_ + f_s_, 2)*(Z_T_ - f_c0_*m_ + 2*f_c_*m_ + f_s_)) + pow(sigma_p_N_/(-omega_N_*Heaviside(\\sigma^{\\mathrm{p}}_\\mathrm{N}) + 1) + f_c0_ - m_*(pow(f_c0_, 2) - 2*f_c0_*f_c_ + pow(f_c_, 2))/(-Z_T_ + f_c0_*m_ - 2*f_c_*m_ - f_s_), 2)*pow(pow(f_c0_, 2)*pow(m_, 2) - 2*f_c0_*f_c_*pow(m_, 2) - 2*f_c0_*m_*(Z_T_ + f_c0_*m_ + f_s_) + pow(f_c_, 2)*pow(m_, 2) + 2*f_c_*m_*(Z_T_ + f_c0_*m_ + f_s_) + pow(Z_T_ + f_c0_*m_ + f_s_, 2), 2)/(pow(f_c0_ - f_c_, 2)*pow(Z_T_ + f_c_*m_ + f_s_, 2))) - (pow(f_c0_, 2)*pow(m_, 2) - 2*f_c0_*f_c_*pow(m_, 2) - 2*f_c0_*m_*(Z_T_ + f_c0_*m_ + f_s_) + pow(f_c_, 2)*pow(m_, 2) + 2*f_c_*m_*(Z_T_ + f_c0_*m_ + f_s_) + pow(Z_T_ + f_c0_*m_ + f_s_, 2))/(Z_T_ - f_c0_*m_ + 2*f_c_*m_ + f_s_);\n",
      "   }\n",
      "   else {\n",
      "      get_f_result = -Z_T_ + sigma_p_N_*m_/(-omega_N_*Heaviside(\\sigma^{\\mathrm{p}}_\\mathrm{N}) + 1) - f_s_ + sqrt(pow(-X_Ty_ + sigma_p_Tx_/(1 - omega_T_), 2) + pow(-X_Ty_ + sigma_p_Ty_/(1 - omega_T_), 2));\n",
      "   }\n",
      "   return get_f_result;\n",
      "\n",
      "}\n",
      "/******************************************************************************\n",
      " *                       Code generated with sympy 1.9                        *\n",
      " *                                                                            *\n",
      " *              See http://www.sympy.org/ for more information.               *\n",
      " *                                                                            *\n",
      " *                       This file is part of 'project'                       *\n",
      " ******************************************************************************/\n",
      "#include \"SLIDE1_3_get_df_dSig.h\"\n",
      "#include <math.h>\n",
      "\n",
      "void get_df_dSig(double X_Ty_, double Z_T_, double omega_N_, double omega_T_, double sigma_p_Tx_, double sigma_p_Ty_, double sigma_p_N_, double f_c0_, double f_c_, double f_s_, double f_t_, double m_, double *out_160281142560373476) {\n",
      "\n",
      "   if ((fabs(sqrt(pow(-X_Ty_ + sigma_p_Tx_/(1 - omega_T_), 2) + pow(-X_Ty_ + sigma_p_Ty_/(1 - omega_T_), 2))) + (Z_T_ + f_s_)*(sigma_p_N_/(-omega_N_*Heaviside(\\sigma^{\\mathrm{p}}_\\mathrm{N}) + 1) - pow(f_t_, 2)*m_/(-Z_T_ - f_s_ + 2*f_t_*m_))*(-Z_T_ - f_s_ + 2*f_t_*m_)/(pow(f_t_, 2)*m_))*(((f_t_) > 0) - ((f_t_) < 0))*(((m_) > 0) - ((m_) < 0)) < 0) {\n",
      "      out_160281142560373476[0] = (-X_Ty_ + sigma_p_Tx_/(1 - omega_T_))*pow(pow(f_t_, 2)*pow(m_, 2) - 2*f_t_*m_*(Z_T_ + f_s_) + pow(Z_T_ + f_s_, 2), 2)/((1 - omega_T_)*(Z_T_ + f_s_)*sqrt((pow(-X_Ty_ + sigma_p_Tx_/(1 - omega_T_), 2) + pow(-X_Ty_ + sigma_p_Ty_/(1 - omega_T_), 2))*pow(pow(f_t_, 2)*pow(m_, 2) - 2*f_t_*m_*(Z_T_ + f_s_) + pow(Z_T_ + f_s_, 2), 2)/((Z_T_ + f_s_)*(Z_T_ + f_s_ - 2*f_t_*m_)*pow(Z_T_ + f_s_ - f_t_*m_, 2)) + pow(sigma_p_N_/(-omega_N_*Heaviside(\\sigma^{\\mathrm{p}}_\\mathrm{N}) + 1) - pow(f_t_, 2)*m_/(-Z_T_ - f_s_ + 2*f_t_*m_), 2)*pow(pow(f_t_, 2)*pow(m_, 2) - 2*f_t_*m_*(Z_T_ + f_s_) + pow(Z_T_ + f_s_, 2), 2)/(pow(f_t_, 2)*pow(Z_T_ + f_s_ - f_t_*m_, 2)))*(Z_T_ + f_s_ - 2*f_t_*m_)*pow(Z_T_ + f_s_ - f_t_*m_, 2));\n",
      "   }\n",
      "   else if ((fabs(sqrt(pow(-X_Ty_ + sigma_p_Tx_/(1 - omega_T_), 2) + pow(-X_Ty_ + sigma_p_Ty_/(1 - omega_T_), 2))) + (Z_T_ + f_c0_*m_ + f_s_)*(sigma_p_N_/(-omega_N_*Heaviside(\\sigma^{\\mathrm{p}}_\\mathrm{N}) + 1) + f_c0_ - m_*(pow(f_c0_, 2) - 2*f_c0_*f_c_ + pow(f_c_, 2))/(-Z_T_ + f_c0_*m_ - 2*f_c_*m_ - f_s_))*(-Z_T_ + f_c0_*m_ - 2*f_c_*m_ - f_s_)/(m_*(pow(f_c0_, 2) - 2*f_c0_*f_c_ + pow(f_c_, 2))))*(((m_) > 0) - ((m_) < 0))*(((f_c0_ - f_c_) > 0) - ((f_c0_ - f_c_) < 0)) < 0) {\n",
      "      out_160281142560373476[0] = (-X_Ty_ + sigma_p_Tx_/(1 - omega_T_))*pow(pow(f_c0_, 2)*pow(m_, 2) - 2*f_c0_*f_c_*pow(m_, 2) - 2*f_c0_*m_*(Z_T_ + f_c0_*m_ + f_s_) + pow(f_c_, 2)*pow(m_, 2) + 2*f_c_*m_*(Z_T_ + f_c0_*m_ + f_s_) + pow(Z_T_ + f_c0_*m_ + f_s_, 2), 2)/((1 - omega_T_)*sqrt((pow(-X_Ty_ + sigma_p_Tx_/(1 - omega_T_), 2) + pow(-X_Ty_ + sigma_p_Ty_/(1 - omega_T_), 2))*pow(pow(f_c0_, 2)*pow(m_, 2) - 2*f_c0_*f_c_*pow(m_, 2) - 2*f_c0_*m_*(Z_T_ + f_c0_*m_ + f_s_) + pow(f_c_, 2)*pow(m_, 2) + 2*f_c_*m_*(Z_T_ + f_c0_*m_ + f_s_) + pow(Z_T_ + f_c0_*m_ + f_s_, 2), 2)/((Z_T_ + f_c0_*m_ + f_s_)*pow(Z_T_ + f_c_*m_ + f_s_, 2)*(Z_T_ - f_c0_*m_ + 2*f_c_*m_ + f_s_)) + pow(sigma_p_N_/(-omega_N_*Heaviside(\\sigma^{\\mathrm{p}}_\\mathrm{N}) + 1) + f_c0_ - m_*(pow(f_c0_, 2) - 2*f_c0_*f_c_ + pow(f_c_, 2))/(-Z_T_ + f_c0_*m_ - 2*f_c_*m_ - f_s_), 2)*pow(pow(f_c0_, 2)*pow(m_, 2) - 2*f_c0_*f_c_*pow(m_, 2) - 2*f_c0_*m_*(Z_T_ + f_c0_*m_ + f_s_) + pow(f_c_, 2)*pow(m_, 2) + 2*f_c_*m_*(Z_T_ + f_c0_*m_ + f_s_) + pow(Z_T_ + f_c0_*m_ + f_s_, 2), 2)/(pow(f_c0_ - f_c_, 2)*pow(Z_T_ + f_c_*m_ + f_s_, 2)))*(Z_T_ + f_c0_*m_ + f_s_)*pow(Z_T_ + f_c_*m_ + f_s_, 2)*(Z_T_ - f_c0_*m_ + 2*f_c_*m_ + f_s_));\n",
      "   }\n",
      "   else {\n",
      "      out_160281142560373476[0] = (-X_Ty_ + sigma_p_Tx_/(1 - omega_T_))/((1 - omega_T_)*sqrt(pow(-X_Ty_ + sigma_p_Tx_/(1 - omega_T_), 2) + pow(-X_Ty_ + sigma_p_Ty_/(1 - omega_T_), 2)));\n",
      "   }\n",
      "   if ((fabs(sqrt(pow(-X_Ty_ + sigma_p_Tx_/(1 - omega_T_), 2) + pow(-X_Ty_ + sigma_p_Ty_/(1 - omega_T_), 2))) + (Z_T_ + f_s_)*(sigma_p_N_/(-omega_N_*Heaviside(\\sigma^{\\mathrm{p}}_\\mathrm{N}) + 1) - pow(f_t_, 2)*m_/(-Z_T_ - f_s_ + 2*f_t_*m_))*(-Z_T_ - f_s_ + 2*f_t_*m_)/(pow(f_t_, 2)*m_))*(((f_t_) > 0) - ((f_t_) < 0))*(((m_) > 0) - ((m_) < 0)) < 0) {\n",
      "      out_160281142560373476[1] = (-X_Ty_ + sigma_p_Ty_/(1 - omega_T_))*pow(pow(f_t_, 2)*pow(m_, 2) - 2*f_t_*m_*(Z_T_ + f_s_) + pow(Z_T_ + f_s_, 2), 2)/((1 - omega_T_)*(Z_T_ + f_s_)*sqrt((pow(-X_Ty_ + sigma_p_Tx_/(1 - omega_T_), 2) + pow(-X_Ty_ + sigma_p_Ty_/(1 - omega_T_), 2))*pow(pow(f_t_, 2)*pow(m_, 2) - 2*f_t_*m_*(Z_T_ + f_s_) + pow(Z_T_ + f_s_, 2), 2)/((Z_T_ + f_s_)*(Z_T_ + f_s_ - 2*f_t_*m_)*pow(Z_T_ + f_s_ - f_t_*m_, 2)) + pow(sigma_p_N_/(-omega_N_*Heaviside(\\sigma^{\\mathrm{p}}_\\mathrm{N}) + 1) - pow(f_t_, 2)*m_/(-Z_T_ - f_s_ + 2*f_t_*m_), 2)*pow(pow(f_t_, 2)*pow(m_, 2) - 2*f_t_*m_*(Z_T_ + f_s_) + pow(Z_T_ + f_s_, 2), 2)/(pow(f_t_, 2)*pow(Z_T_ + f_s_ - f_t_*m_, 2)))*(Z_T_ + f_s_ - 2*f_t_*m_)*pow(Z_T_ + f_s_ - f_t_*m_, 2));\n",
      "   }\n",
      "   else if ((fabs(sqrt(pow(-X_Ty_ + sigma_p_Tx_/(1 - omega_T_), 2) + pow(-X_Ty_ + sigma_p_Ty_/(1 - omega_T_), 2))) + (Z_T_ + f_c0_*m_ + f_s_)*(sigma_p_N_/(-omega_N_*Heaviside(\\sigma^{\\mathrm{p}}_\\mathrm{N}) + 1) + f_c0_ - m_*(pow(f_c0_, 2) - 2*f_c0_*f_c_ + pow(f_c_, 2))/(-Z_T_ + f_c0_*m_ - 2*f_c_*m_ - f_s_))*(-Z_T_ + f_c0_*m_ - 2*f_c_*m_ - f_s_)/(m_*(pow(f_c0_, 2) - 2*f_c0_*f_c_ + pow(f_c_, 2))))*(((m_) > 0) - ((m_) < 0))*(((f_c0_ - f_c_) > 0) - ((f_c0_ - f_c_) < 0)) < 0) {\n",
      "      out_160281142560373476[1] = (-X_Ty_ + sigma_p_Ty_/(1 - omega_T_))*pow(pow(f_c0_, 2)*pow(m_, 2) - 2*f_c0_*f_c_*pow(m_, 2) - 2*f_c0_*m_*(Z_T_ + f_c0_*m_ + f_s_) + pow(f_c_, 2)*pow(m_, 2) + 2*f_c_*m_*(Z_T_ + f_c0_*m_ + f_s_) + pow(Z_T_ + f_c0_*m_ + f_s_, 2), 2)/((1 - omega_T_)*sqrt((pow(-X_Ty_ + sigma_p_Tx_/(1 - omega_T_), 2) + pow(-X_Ty_ + sigma_p_Ty_/(1 - omega_T_), 2))*pow(pow(f_c0_, 2)*pow(m_, 2) - 2*f_c0_*f_c_*pow(m_, 2) - 2*f_c0_*m_*(Z_T_ + f_c0_*m_ + f_s_) + pow(f_c_, 2)*pow(m_, 2) + 2*f_c_*m_*(Z_T_ + f_c0_*m_ + f_s_) + pow(Z_T_ + f_c0_*m_ + f_s_, 2), 2)/((Z_T_ + f_c0_*m_ + f_s_)*pow(Z_T_ + f_c_*m_ + f_s_, 2)*(Z_T_ - f_c0_*m_ + 2*f_c_*m_ + f_s_)) + pow(sigma_p_N_/(-omega_N_*Heaviside(\\sigma^{\\mathrm{p}}_\\mathrm{N}) + 1) + f_c0_ - m_*(pow(f_c0_, 2) - 2*f_c0_*f_c_ + pow(f_c_, 2))/(-Z_T_ + f_c0_*m_ - 2*f_c_*m_ - f_s_), 2)*pow(pow(f_c0_, 2)*pow(m_, 2) - 2*f_c0_*f_c_*pow(m_, 2) - 2*f_c0_*m_*(Z_T_ + f_c0_*m_ + f_s_) + pow(f_c_, 2)*pow(m_, 2) + 2*f_c_*m_*(Z_T_ + f_c0_*m_ + f_s_) + pow(Z_T_ + f_c0_*m_ + f_s_, 2), 2)/(pow(f_c0_ - f_c_, 2)*pow(Z_T_ + f_c_*m_ + f_s_, 2)))*(Z_T_ + f_c0_*m_ + f_s_)*pow(Z_T_ + f_c_*m_ + f_s_, 2)*(Z_T_ - f_c0_*m_ + 2*f_c_*m_ + f_s_));\n",
      "   }\n",
      "   else {\n",
      "      out_160281142560373476[1] = (-X_Ty_ + sigma_p_Ty_/(1 - omega_T_))/((1 - omega_T_)*sqrt(pow(-X_Ty_ + sigma_p_Tx_/(1 - omega_T_), 2) + pow(-X_Ty_ + sigma_p_Ty_/(1 - omega_T_), 2)));\n",
      "   }\n",
      "   if ((fabs(sqrt(pow(-X_Ty_ + sigma_p_Tx_/(1 - omega_T_), 2) + pow(-X_Ty_ + sigma_p_Ty_/(1 - omega_T_), 2))) + (Z_T_ + f_s_)*(sigma_p_N_/(-omega_N_*Heaviside(\\sigma^{\\mathrm{p}}_\\mathrm{N}) + 1) - pow(f_t_, 2)*m_/(-Z_T_ - f_s_ + 2*f_t_*m_))*(-Z_T_ - f_s_ + 2*f_t_*m_)/(pow(f_t_, 2)*m_))*(((f_t_) > 0) - ((f_t_) < 0))*(((m_) > 0) - ((m_) < 0)) < 0) {\n",
      "      out_160281142560373476[2] = (1.0/2.0)*(sigma_p_N_/(-omega_N_*Heaviside(\\sigma^{\\mathrm{p}}_\\mathrm{N}) + 1) - pow(f_t_, 2)*m_/(-Z_T_ - f_s_ + 2*f_t_*m_))*(2*omega_N_*sigma_p_N_*DiracDelta(\\sigma^{\\mathrm{p}}_\\mathrm{N})/pow(-omega_N_*Heaviside(\\sigma^{\\mathrm{p}}_\\mathrm{N}) + 1, 2) + 2/(-omega_N_*Heaviside(\\sigma^{\\mathrm{p}}_\\mathrm{N}) + 1))*pow(pow(f_t_, 2)*pow(m_, 2) - 2*f_t_*m_*(Z_T_ + f_s_) + pow(Z_T_ + f_s_, 2), 2)/(pow(f_t_, 2)*sqrt((pow(-X_Ty_ + sigma_p_Tx_/(1 - omega_T_), 2) + pow(-X_Ty_ + sigma_p_Ty_/(1 - omega_T_), 2))*pow(pow(f_t_, 2)*pow(m_, 2) - 2*f_t_*m_*(Z_T_ + f_s_) + pow(Z_T_ + f_s_, 2), 2)/((Z_T_ + f_s_)*(Z_T_ + f_s_ - 2*f_t_*m_)*pow(Z_T_ + f_s_ - f_t_*m_, 2)) + pow(sigma_p_N_/(-omega_N_*Heaviside(\\sigma^{\\mathrm{p}}_\\mathrm{N}) + 1) - pow(f_t_, 2)*m_/(-Z_T_ - f_s_ + 2*f_t_*m_), 2)*pow(pow(f_t_, 2)*pow(m_, 2) - 2*f_t_*m_*(Z_T_ + f_s_) + pow(Z_T_ + f_s_, 2), 2)/(pow(f_t_, 2)*pow(Z_T_ + f_s_ - f_t_*m_, 2)))*pow(Z_T_ + f_s_ - f_t_*m_, 2));\n",
      "   }\n",
      "   else if ((fabs(sqrt(pow(-X_Ty_ + sigma_p_Tx_/(1 - omega_T_), 2) + pow(-X_Ty_ + sigma_p_Ty_/(1 - omega_T_), 2))) + (Z_T_ + f_c0_*m_ + f_s_)*(sigma_p_N_/(-omega_N_*Heaviside(\\sigma^{\\mathrm{p}}_\\mathrm{N}) + 1) + f_c0_ - m_*(pow(f_c0_, 2) - 2*f_c0_*f_c_ + pow(f_c_, 2))/(-Z_T_ + f_c0_*m_ - 2*f_c_*m_ - f_s_))*(-Z_T_ + f_c0_*m_ - 2*f_c_*m_ - f_s_)/(m_*(pow(f_c0_, 2) - 2*f_c0_*f_c_ + pow(f_c_, 2))))*(((m_) > 0) - ((m_) < 0))*(((f_c0_ - f_c_) > 0) - ((f_c0_ - f_c_) < 0)) < 0) {\n",
      "      out_160281142560373476[2] = (1.0/2.0)*(2*omega_N_*sigma_p_N_*DiracDelta(\\sigma^{\\mathrm{p}}_\\mathrm{N})/pow(-omega_N_*Heaviside(\\sigma^{\\mathrm{p}}_\\mathrm{N}) + 1, 2) + 2/(-omega_N_*Heaviside(\\sigma^{\\mathrm{p}}_\\mathrm{N}) + 1))*(sigma_p_N_/(-omega_N_*Heaviside(\\sigma^{\\mathrm{p}}_\\mathrm{N}) + 1) + f_c0_ - m_*(pow(f_c0_, 2) - 2*f_c0_*f_c_ + pow(f_c_, 2))/(-Z_T_ + f_c0_*m_ - 2*f_c_*m_ - f_s_))*pow(pow(f_c0_, 2)*pow(m_, 2) - 2*f_c0_*f_c_*pow(m_, 2) - 2*f_c0_*m_*(Z_T_ + f_c0_*m_ + f_s_) + pow(f_c_, 2)*pow(m_, 2) + 2*f_c_*m_*(Z_T_ + f_c0_*m_ + f_s_) + pow(Z_T_ + f_c0_*m_ + f_s_, 2), 2)/(pow(f_c0_ - f_c_, 2)*sqrt((pow(-X_Ty_ + sigma_p_Tx_/(1 - omega_T_), 2) + pow(-X_Ty_ + sigma_p_Ty_/(1 - omega_T_), 2))*pow(pow(f_c0_, 2)*pow(m_, 2) - 2*f_c0_*f_c_*pow(m_, 2) - 2*f_c0_*m_*(Z_T_ + f_c0_*m_ + f_s_) + pow(f_c_, 2)*pow(m_, 2) + 2*f_c_*m_*(Z_T_ + f_c0_*m_ + f_s_) + pow(Z_T_ + f_c0_*m_ + f_s_, 2), 2)/((Z_T_ + f_c0_*m_ + f_s_)*pow(Z_T_ + f_c_*m_ + f_s_, 2)*(Z_T_ - f_c0_*m_ + 2*f_c_*m_ + f_s_)) + pow(sigma_p_N_/(-omega_N_*Heaviside(\\sigma^{\\mathrm{p}}_\\mathrm{N}) + 1) + f_c0_ - m_*(pow(f_c0_, 2) - 2*f_c0_*f_c_ + pow(f_c_, 2))/(-Z_T_ + f_c0_*m_ - 2*f_c_*m_ - f_s_), 2)*pow(pow(f_c0_, 2)*pow(m_, 2) - 2*f_c0_*f_c_*pow(m_, 2) - 2*f_c0_*m_*(Z_T_ + f_c0_*m_ + f_s_) + pow(f_c_, 2)*pow(m_, 2) + 2*f_c_*m_*(Z_T_ + f_c0_*m_ + f_s_) + pow(Z_T_ + f_c0_*m_ + f_s_, 2), 2)/(pow(f_c0_ - f_c_, 2)*pow(Z_T_ + f_c_*m_ + f_s_, 2)))*pow(Z_T_ + f_c_*m_ + f_s_, 2));\n",
      "   }\n",
      "   else {\n",
      "      out_160281142560373476[2] = omega_N_*sigma_p_N_*m_*DiracDelta(\\sigma^{\\mathrm{p}}_\\mathrm{N})/pow(-omega_N_*Heaviside(\\sigma^{\\mathrm{p}}_\\mathrm{N}) + 1, 2) + m_/(-omega_N_*Heaviside(\\sigma^{\\mathrm{p}}_\\mathrm{N}) + 1);\n",
      "   }\n",
      "   if ((fabs(sqrt(pow(-X_Ty_ + sigma_p_Tx_/(1 - omega_T_), 2) + pow(-X_Ty_ + sigma_p_Ty_/(1 - omega_T_), 2))) + (Z_T_ + f_s_)*(sigma_p_N_/(-omega_N_*Heaviside(\\sigma^{\\mathrm{p}}_\\mathrm{N}) + 1) - pow(f_t_, 2)*m_/(-Z_T_ - f_s_ + 2*f_t_*m_))*(-Z_T_ - f_s_ + 2*f_t_*m_)/(pow(f_t_, 2)*m_))*(((f_t_) > 0) - ((f_t_) < 0))*(((m_) > 0) - ((m_) < 0)) < 0) {\n",
      "      out_160281142560373476[3] = -(2*Z_T_ + 2*f_s_ - 2*f_t_*m_)/(Z_T_ + f_s_ - 2*f_t_*m_) + (pow(f_t_, 2)*pow(m_, 2) - 2*f_t_*m_*(Z_T_ + f_s_) + pow(Z_T_ + f_s_, 2))/pow(Z_T_ + f_s_ - 2*f_t_*m_, 2) + (-m_*(sigma_p_N_/(-omega_N_*Heaviside(\\sigma^{\\mathrm{p}}_\\mathrm{N}) + 1) - pow(f_t_, 2)*m_/(-Z_T_ - f_s_ + 2*f_t_*m_))*pow(pow(f_t_, 2)*pow(m_, 2) - 2*f_t_*m_*(Z_T_ + f_s_) + pow(Z_T_ + f_s_, 2), 2)/(pow(-Z_T_ - f_s_ + 2*f_t_*m_, 2)*pow(Z_T_ + f_s_ - f_t_*m_, 2)) + (1.0/2.0)*(pow(-X_Ty_ + sigma_p_Tx_/(1 - omega_T_), 2) + pow(-X_Ty_ + sigma_p_Ty_/(1 - omega_T_), 2))*(4*Z_T_ + 4*f_s_ - 4*f_t_*m_)*(pow(f_t_, 2)*pow(m_, 2) - 2*f_t_*m_*(Z_T_ + f_s_) + pow(Z_T_ + f_s_, 2))/((Z_T_ + f_s_)*(Z_T_ + f_s_ - 2*f_t_*m_)*pow(Z_T_ + f_s_ - f_t_*m_, 2)) - (pow(-X_Ty_ + sigma_p_Tx_/(1 - omega_T_), 2) + pow(-X_Ty_ + sigma_p_Ty_/(1 - omega_T_), 2))*pow(pow(f_t_, 2)*pow(m_, 2) - 2*f_t_*m_*(Z_T_ + f_s_) + pow(Z_T_ + f_s_, 2), 2)/((Z_T_ + f_s_)*(Z_T_ + f_s_ - 2*f_t_*m_)*pow(Z_T_ + f_s_ - f_t_*m_, 3)) - 1.0/2.0*(pow(-X_Ty_ + sigma_p_Tx_/(1 - omega_T_), 2) + pow(-X_Ty_ + sigma_p_Ty_/(1 - omega_T_), 2))*pow(pow(f_t_, 2)*pow(m_, 2) - 2*f_t_*m_*(Z_T_ + f_s_) + pow(Z_T_ + f_s_, 2), 2)/((Z_T_ + f_s_)*pow(Z_T_ + f_s_ - 2*f_t_*m_, 2)*pow(Z_T_ + f_s_ - f_t_*m_, 2)) - 1.0/2.0*(pow(-X_Ty_ + sigma_p_Tx_/(1 - omega_T_), 2) + pow(-X_Ty_ + sigma_p_Ty_/(1 - omega_T_), 2))*pow(pow(f_t_, 2)*pow(m_, 2) - 2*f_t_*m_*(Z_T_ + f_s_) + pow(Z_T_ + f_s_, 2), 2)/(pow(Z_T_ + f_s_, 2)*(Z_T_ + f_s_ - 2*f_t_*m_)*pow(Z_T_ + f_s_ - f_t_*m_, 2)) + (1.0/2.0)*pow(sigma_p_N_/(-omega_N_*Heaviside(\\sigma^{\\mathrm{p}}_\\mathrm{N}) + 1) - pow(f_t_, 2)*m_/(-Z_T_ - f_s_ + 2*f_t_*m_), 2)*(4*Z_T_ + 4*f_s_ - 4*f_t_*m_)*(pow(f_t_, 2)*pow(m_, 2) - 2*f_t_*m_*(Z_T_ + f_s_) + pow(Z_T_ + f_s_, 2))/(pow(f_t_, 2)*pow(Z_T_ + f_s_ - f_t_*m_, 2)) - pow(sigma_p_N_/(-omega_N_*Heaviside(\\sigma^{\\mathrm{p}}_\\mathrm{N}) + 1) - pow(f_t_, 2)*m_/(-Z_T_ - f_s_ + 2*f_t_*m_), 2)*pow(pow(f_t_, 2)*pow(m_, 2) - 2*f_t_*m_*(Z_T_ + f_s_) + pow(Z_T_ + f_s_, 2), 2)/(pow(f_t_, 2)*pow(Z_T_ + f_s_ - f_t_*m_, 3)))/sqrt((pow(-X_Ty_ + sigma_p_Tx_/(1 - omega_T_), 2) + pow(-X_Ty_ + sigma_p_Ty_/(1 - omega_T_), 2))*pow(pow(f_t_, 2)*pow(m_, 2) - 2*f_t_*m_*(Z_T_ + f_s_) + pow(Z_T_ + f_s_, 2), 2)/((Z_T_ + f_s_)*(Z_T_ + f_s_ - 2*f_t_*m_)*pow(Z_T_ + f_s_ - f_t_*m_, 2)) + pow(sigma_p_N_/(-omega_N_*Heaviside(\\sigma^{\\mathrm{p}}_\\mathrm{N}) + 1) - pow(f_t_, 2)*m_/(-Z_T_ - f_s_ + 2*f_t_*m_), 2)*pow(pow(f_t_, 2)*pow(m_, 2) - 2*f_t_*m_*(Z_T_ + f_s_) + pow(Z_T_ + f_s_, 2), 2)/(pow(f_t_, 2)*pow(Z_T_ + f_s_ - f_t_*m_, 2)));\n",
      "   }\n",
      "   else if ((fabs(sqrt(pow(-X_Ty_ + sigma_p_Tx_/(1 - omega_T_), 2) + pow(-X_Ty_ + sigma_p_Ty_/(1 - omega_T_), 2))) + (Z_T_ + f_c0_*m_ + f_s_)*(sigma_p_N_/(-omega_N_*Heaviside(\\sigma^{\\mathrm{p}}_\\mathrm{N}) + 1) + f_c0_ - m_*(pow(f_c0_, 2) - 2*f_c0_*f_c_ + pow(f_c_, 2))/(-Z_T_ + f_c0_*m_ - 2*f_c_*m_ - f_s_))*(-Z_T_ + f_c0_*m_ - 2*f_c_*m_ - f_s_)/(m_*(pow(f_c0_, 2) - 2*f_c0_*f_c_ + pow(f_c_, 2))))*(((m_) > 0) - ((m_) < 0))*(((f_c0_ - f_c_) > 0) - ((f_c0_ - f_c_) < 0)) < 0) {\n",
      "      out_160281142560373476[3] = -(2*Z_T_ + 2*f_c_*m_ + 2*f_s_)/(Z_T_ - f_c0_*m_ + 2*f_c_*m_ + f_s_) + (pow(f_c0_, 2)*pow(m_, 2) - 2*f_c0_*f_c_*pow(m_, 2) - 2*f_c0_*m_*(Z_T_ + f_c0_*m_ + f_s_) + pow(f_c_, 2)*pow(m_, 2) + 2*f_c_*m_*(Z_T_ + f_c0_*m_ + f_s_) + pow(Z_T_ + f_c0_*m_ + f_s_, 2))/pow(Z_T_ - f_c0_*m_ + 2*f_c_*m_ + f_s_, 2) + (-m_*(pow(f_c0_, 2) - 2*f_c0_*f_c_ + pow(f_c_, 2))*(sigma_p_N_/(-omega_N_*Heaviside(\\sigma^{\\mathrm{p}}_\\mathrm{N}) + 1) + f_c0_ - m_*(pow(f_c0_, 2) - 2*f_c0_*f_c_ + pow(f_c_, 2))/(-Z_T_ + f_c0_*m_ - 2*f_c_*m_ - f_s_))*pow(pow(f_c0_, 2)*pow(m_, 2) - 2*f_c0_*f_c_*pow(m_, 2) - 2*f_c0_*m_*(Z_T_ + f_c0_*m_ + f_s_) + pow(f_c_, 2)*pow(m_, 2) + 2*f_c_*m_*(Z_T_ + f_c0_*m_ + f_s_) + pow(Z_T_ + f_c0_*m_ + f_s_, 2), 2)/(pow(f_c0_ - f_c_, 2)*pow(Z_T_ + f_c_*m_ + f_s_, 2)*pow(-Z_T_ + f_c0_*m_ - 2*f_c_*m_ - f_s_, 2)) + (1.0/2.0)*(pow(-X_Ty_ + sigma_p_Tx_/(1 - omega_T_), 2) + pow(-X_Ty_ + sigma_p_Ty_/(1 - omega_T_), 2))*(4*Z_T_ + 4*f_c_*m_ + 4*f_s_)*(pow(f_c0_, 2)*pow(m_, 2) - 2*f_c0_*f_c_*pow(m_, 2) - 2*f_c0_*m_*(Z_T_ + f_c0_*m_ + f_s_) + pow(f_c_, 2)*pow(m_, 2) + 2*f_c_*m_*(Z_T_ + f_c0_*m_ + f_s_) + pow(Z_T_ + f_c0_*m_ + f_s_, 2))/((Z_T_ + f_c0_*m_ + f_s_)*pow(Z_T_ + f_c_*m_ + f_s_, 2)*(Z_T_ - f_c0_*m_ + 2*f_c_*m_ + f_s_)) - 1.0/2.0*(pow(-X_Ty_ + sigma_p_Tx_/(1 - omega_T_), 2) + pow(-X_Ty_ + sigma_p_Ty_/(1 - omega_T_), 2))*pow(pow(f_c0_, 2)*pow(m_, 2) - 2*f_c0_*f_c_*pow(m_, 2) - 2*f_c0_*m_*(Z_T_ + f_c0_*m_ + f_s_) + pow(f_c_, 2)*pow(m_, 2) + 2*f_c_*m_*(Z_T_ + f_c0_*m_ + f_s_) + pow(Z_T_ + f_c0_*m_ + f_s_, 2), 2)/((Z_T_ + f_c0_*m_ + f_s_)*pow(Z_T_ + f_c_*m_ + f_s_, 2)*pow(Z_T_ - f_c0_*m_ + 2*f_c_*m_ + f_s_, 2)) - (pow(-X_Ty_ + sigma_p_Tx_/(1 - omega_T_), 2) + pow(-X_Ty_ + sigma_p_Ty_/(1 - omega_T_), 2))*pow(pow(f_c0_, 2)*pow(m_, 2) - 2*f_c0_*f_c_*pow(m_, 2) - 2*f_c0_*m_*(Z_T_ + f_c0_*m_ + f_s_) + pow(f_c_, 2)*pow(m_, 2) + 2*f_c_*m_*(Z_T_ + f_c0_*m_ + f_s_) + pow(Z_T_ + f_c0_*m_ + f_s_, 2), 2)/((Z_T_ + f_c0_*m_ + f_s_)*pow(Z_T_ + f_c_*m_ + f_s_, 3)*(Z_T_ - f_c0_*m_ + 2*f_c_*m_ + f_s_)) - 1.0/2.0*(pow(-X_Ty_ + sigma_p_Tx_/(1 - omega_T_), 2) + pow(-X_Ty_ + sigma_p_Ty_/(1 - omega_T_), 2))*pow(pow(f_c0_, 2)*pow(m_, 2) - 2*f_c0_*f_c_*pow(m_, 2) - 2*f_c0_*m_*(Z_T_ + f_c0_*m_ + f_s_) + pow(f_c_, 2)*pow(m_, 2) + 2*f_c_*m_*(Z_T_ + f_c0_*m_ + f_s_) + pow(Z_T_ + f_c0_*m_ + f_s_, 2), 2)/(pow(Z_T_ + f_c0_*m_ + f_s_, 2)*pow(Z_T_ + f_c_*m_ + f_s_, 2)*(Z_T_ - f_c0_*m_ + 2*f_c_*m_ + f_s_)) + (1.0/2.0)*(4*Z_T_ + 4*f_c_*m_ + 4*f_s_)*pow(sigma_p_N_/(-omega_N_*Heaviside(\\sigma^{\\mathrm{p}}_\\mathrm{N}) + 1) + f_c0_ - m_*(pow(f_c0_, 2) - 2*f_c0_*f_c_ + pow(f_c_, 2))/(-Z_T_ + f_c0_*m_ - 2*f_c_*m_ - f_s_), 2)*(pow(f_c0_, 2)*pow(m_, 2) - 2*f_c0_*f_c_*pow(m_, 2) - 2*f_c0_*m_*(Z_T_ + f_c0_*m_ + f_s_) + pow(f_c_, 2)*pow(m_, 2) + 2*f_c_*m_*(Z_T_ + f_c0_*m_ + f_s_) + pow(Z_T_ + f_c0_*m_ + f_s_, 2))/(pow(f_c0_ - f_c_, 2)*pow(Z_T_ + f_c_*m_ + f_s_, 2)) - pow(sigma_p_N_/(-omega_N_*Heaviside(\\sigma^{\\mathrm{p}}_\\mathrm{N}) + 1) + f_c0_ - m_*(pow(f_c0_, 2) - 2*f_c0_*f_c_ + pow(f_c_, 2))/(-Z_T_ + f_c0_*m_ - 2*f_c_*m_ - f_s_), 2)*pow(pow(f_c0_, 2)*pow(m_, 2) - 2*f_c0_*f_c_*pow(m_, 2) - 2*f_c0_*m_*(Z_T_ + f_c0_*m_ + f_s_) + pow(f_c_, 2)*pow(m_, 2) + 2*f_c_*m_*(Z_T_ + f_c0_*m_ + f_s_) + pow(Z_T_ + f_c0_*m_ + f_s_, 2), 2)/(pow(f_c0_ - f_c_, 2)*pow(Z_T_ + f_c_*m_ + f_s_, 3)))/sqrt((pow(-X_Ty_ + sigma_p_Tx_/(1 - omega_T_), 2) + pow(-X_Ty_ + sigma_p_Ty_/(1 - omega_T_), 2))*pow(pow(f_c0_, 2)*pow(m_, 2) - 2*f_c0_*f_c_*pow(m_, 2) - 2*f_c0_*m_*(Z_T_ + f_c0_*m_ + f_s_) + pow(f_c_, 2)*pow(m_, 2) + 2*f_c_*m_*(Z_T_ + f_c0_*m_ + f_s_) + pow(Z_T_ + f_c0_*m_ + f_s_, 2), 2)/((Z_T_ + f_c0_*m_ + f_s_)*pow(Z_T_ + f_c_*m_ + f_s_, 2)*(Z_T_ - f_c0_*m_ + 2*f_c_*m_ + f_s_)) + pow(sigma_p_N_/(-omega_N_*Heaviside(\\sigma^{\\mathrm{p}}_\\mathrm{N}) + 1) + f_c0_ - m_*(pow(f_c0_, 2) - 2*f_c0_*f_c_ + pow(f_c_, 2))/(-Z_T_ + f_c0_*m_ - 2*f_c_*m_ - f_s_), 2)*pow(pow(f_c0_, 2)*pow(m_, 2) - 2*f_c0_*f_c_*pow(m_, 2) - 2*f_c0_*m_*(Z_T_ + f_c0_*m_ + f_s_) + pow(f_c_, 2)*pow(m_, 2) + 2*f_c_*m_*(Z_T_ + f_c0_*m_ + f_s_) + pow(Z_T_ + f_c0_*m_ + f_s_, 2), 2)/(pow(f_c0_ - f_c_, 2)*pow(Z_T_ + f_c_*m_ + f_s_, 2)));\n",
      "   }\n",
      "   else {\n",
      "      out_160281142560373476[3] = -1;\n",
      "   }\n",
      "   if ((fabs(sqrt(pow(-X_Ty_ + sigma_p_Tx_/(1 - omega_T_), 2) + pow(-X_Ty_ + sigma_p_Ty_/(1 - omega_T_), 2))) + (Z_T_ + f_s_)*(sigma_p_N_/(-omega_N_*Heaviside(\\sigma^{\\mathrm{p}}_\\mathrm{N}) + 1) - pow(f_t_, 2)*m_/(-Z_T_ - f_s_ + 2*f_t_*m_))*(-Z_T_ - f_s_ + 2*f_t_*m_)/(pow(f_t_, 2)*m_))*(((f_t_) > 0) - ((f_t_) < 0))*(((m_) > 0) - ((m_) < 0)) < 0) {\n",
      "      out_160281142560373476[4] = (1.0/2.0)*(4*X_Ty_ - 2*sigma_p_Tx_/(1 - omega_T_) - 2*sigma_p_Ty_/(1 - omega_T_))*pow(pow(f_t_, 2)*pow(m_, 2) - 2*f_t_*m_*(Z_T_ + f_s_) + pow(Z_T_ + f_s_, 2), 2)/((Z_T_ + f_s_)*sqrt((pow(-X_Ty_ + sigma_p_Tx_/(1 - omega_T_), 2) + pow(-X_Ty_ + sigma_p_Ty_/(1 - omega_T_), 2))*pow(pow(f_t_, 2)*pow(m_, 2) - 2*f_t_*m_*(Z_T_ + f_s_) + pow(Z_T_ + f_s_, 2), 2)/((Z_T_ + f_s_)*(Z_T_ + f_s_ - 2*f_t_*m_)*pow(Z_T_ + f_s_ - f_t_*m_, 2)) + pow(sigma_p_N_/(-omega_N_*Heaviside(\\sigma^{\\mathrm{p}}_\\mathrm{N}) + 1) - pow(f_t_, 2)*m_/(-Z_T_ - f_s_ + 2*f_t_*m_), 2)*pow(pow(f_t_, 2)*pow(m_, 2) - 2*f_t_*m_*(Z_T_ + f_s_) + pow(Z_T_ + f_s_, 2), 2)/(pow(f_t_, 2)*pow(Z_T_ + f_s_ - f_t_*m_, 2)))*(Z_T_ + f_s_ - 2*f_t_*m_)*pow(Z_T_ + f_s_ - f_t_*m_, 2));\n",
      "   }\n",
      "   else if ((fabs(sqrt(pow(-X_Ty_ + sigma_p_Tx_/(1 - omega_T_), 2) + pow(-X_Ty_ + sigma_p_Ty_/(1 - omega_T_), 2))) + (Z_T_ + f_c0_*m_ + f_s_)*(sigma_p_N_/(-omega_N_*Heaviside(\\sigma^{\\mathrm{p}}_\\mathrm{N}) + 1) + f_c0_ - m_*(pow(f_c0_, 2) - 2*f_c0_*f_c_ + pow(f_c_, 2))/(-Z_T_ + f_c0_*m_ - 2*f_c_*m_ - f_s_))*(-Z_T_ + f_c0_*m_ - 2*f_c_*m_ - f_s_)/(m_*(pow(f_c0_, 2) - 2*f_c0_*f_c_ + pow(f_c_, 2))))*(((m_) > 0) - ((m_) < 0))*(((f_c0_ - f_c_) > 0) - ((f_c0_ - f_c_) < 0)) < 0) {\n",
      "      out_160281142560373476[4] = (1.0/2.0)*(4*X_Ty_ - 2*sigma_p_Tx_/(1 - omega_T_) - 2*sigma_p_Ty_/(1 - omega_T_))*pow(pow(f_c0_, 2)*pow(m_, 2) - 2*f_c0_*f_c_*pow(m_, 2) - 2*f_c0_*m_*(Z_T_ + f_c0_*m_ + f_s_) + pow(f_c_, 2)*pow(m_, 2) + 2*f_c_*m_*(Z_T_ + f_c0_*m_ + f_s_) + pow(Z_T_ + f_c0_*m_ + f_s_, 2), 2)/(sqrt((pow(-X_Ty_ + sigma_p_Tx_/(1 - omega_T_), 2) + pow(-X_Ty_ + sigma_p_Ty_/(1 - omega_T_), 2))*pow(pow(f_c0_, 2)*pow(m_, 2) - 2*f_c0_*f_c_*pow(m_, 2) - 2*f_c0_*m_*(Z_T_ + f_c0_*m_ + f_s_) + pow(f_c_, 2)*pow(m_, 2) + 2*f_c_*m_*(Z_T_ + f_c0_*m_ + f_s_) + pow(Z_T_ + f_c0_*m_ + f_s_, 2), 2)/((Z_T_ + f_c0_*m_ + f_s_)*pow(Z_T_ + f_c_*m_ + f_s_, 2)*(Z_T_ - f_c0_*m_ + 2*f_c_*m_ + f_s_)) + pow(sigma_p_N_/(-omega_N_*Heaviside(\\sigma^{\\mathrm{p}}_\\mathrm{N}) + 1) + f_c0_ - m_*(pow(f_c0_, 2) - 2*f_c0_*f_c_ + pow(f_c_, 2))/(-Z_T_ + f_c0_*m_ - 2*f_c_*m_ - f_s_), 2)*pow(pow(f_c0_, 2)*pow(m_, 2) - 2*f_c0_*f_c_*pow(m_, 2) - 2*f_c0_*m_*(Z_T_ + f_c0_*m_ + f_s_) + pow(f_c_, 2)*pow(m_, 2) + 2*f_c_*m_*(Z_T_ + f_c0_*m_ + f_s_) + pow(Z_T_ + f_c0_*m_ + f_s_, 2), 2)/(pow(f_c0_ - f_c_, 2)*pow(Z_T_ + f_c_*m_ + f_s_, 2)))*(Z_T_ + f_c0_*m_ + f_s_)*pow(Z_T_ + f_c_*m_ + f_s_, 2)*(Z_T_ - f_c0_*m_ + 2*f_c_*m_ + f_s_));\n",
      "   }\n",
      "   else {\n",
      "      out_160281142560373476[4] = (2*X_Ty_ - sigma_p_Tx_/(1 - omega_T_) - sigma_p_Ty_/(1 - omega_T_))/sqrt(pow(-X_Ty_ + sigma_p_Tx_/(1 - omega_T_), 2) + pow(-X_Ty_ + sigma_p_Ty_/(1 - omega_T_), 2));\n",
      "   }\n",
      "   if ((fabs(sqrt(pow(-X_Ty_ + sigma_p_Tx_/(1 - omega_T_), 2) + pow(-X_Ty_ + sigma_p_Ty_/(1 - omega_T_), 2))) + (Z_T_ + f_s_)*(sigma_p_N_/(-omega_N_*Heaviside(\\sigma^{\\mathrm{p}}_\\mathrm{N}) + 1) - pow(f_t_, 2)*m_/(-Z_T_ - f_s_ + 2*f_t_*m_))*(-Z_T_ - f_s_ + 2*f_t_*m_)/(pow(f_t_, 2)*m_))*(((f_t_) > 0) - ((f_t_) < 0))*(((m_) > 0) - ((m_) < 0)) < 0) {\n",
      "      out_160281142560373476[5] = (1.0/2.0)*(4*X_Ty_ - 2*sigma_p_Tx_/(1 - omega_T_) - 2*sigma_p_Ty_/(1 - omega_T_))*pow(pow(f_t_, 2)*pow(m_, 2) - 2*f_t_*m_*(Z_T_ + f_s_) + pow(Z_T_ + f_s_, 2), 2)/((Z_T_ + f_s_)*sqrt((pow(-X_Ty_ + sigma_p_Tx_/(1 - omega_T_), 2) + pow(-X_Ty_ + sigma_p_Ty_/(1 - omega_T_), 2))*pow(pow(f_t_, 2)*pow(m_, 2) - 2*f_t_*m_*(Z_T_ + f_s_) + pow(Z_T_ + f_s_, 2), 2)/((Z_T_ + f_s_)*(Z_T_ + f_s_ - 2*f_t_*m_)*pow(Z_T_ + f_s_ - f_t_*m_, 2)) + pow(sigma_p_N_/(-omega_N_*Heaviside(\\sigma^{\\mathrm{p}}_\\mathrm{N}) + 1) - pow(f_t_, 2)*m_/(-Z_T_ - f_s_ + 2*f_t_*m_), 2)*pow(pow(f_t_, 2)*pow(m_, 2) - 2*f_t_*m_*(Z_T_ + f_s_) + pow(Z_T_ + f_s_, 2), 2)/(pow(f_t_, 2)*pow(Z_T_ + f_s_ - f_t_*m_, 2)))*(Z_T_ + f_s_ - 2*f_t_*m_)*pow(Z_T_ + f_s_ - f_t_*m_, 2));\n",
      "   }\n",
      "   else if ((fabs(sqrt(pow(-X_Ty_ + sigma_p_Tx_/(1 - omega_T_), 2) + pow(-X_Ty_ + sigma_p_Ty_/(1 - omega_T_), 2))) + (Z_T_ + f_c0_*m_ + f_s_)*(sigma_p_N_/(-omega_N_*Heaviside(\\sigma^{\\mathrm{p}}_\\mathrm{N}) + 1) + f_c0_ - m_*(pow(f_c0_, 2) - 2*f_c0_*f_c_ + pow(f_c_, 2))/(-Z_T_ + f_c0_*m_ - 2*f_c_*m_ - f_s_))*(-Z_T_ + f_c0_*m_ - 2*f_c_*m_ - f_s_)/(m_*(pow(f_c0_, 2) - 2*f_c0_*f_c_ + pow(f_c_, 2))))*(((m_) > 0) - ((m_) < 0))*(((f_c0_ - f_c_) > 0) - ((f_c0_ - f_c_) < 0)) < 0) {\n",
      "      out_160281142560373476[5] = (1.0/2.0)*(4*X_Ty_ - 2*sigma_p_Tx_/(1 - omega_T_) - 2*sigma_p_Ty_/(1 - omega_T_))*pow(pow(f_c0_, 2)*pow(m_, 2) - 2*f_c0_*f_c_*pow(m_, 2) - 2*f_c0_*m_*(Z_T_ + f_c0_*m_ + f_s_) + pow(f_c_, 2)*pow(m_, 2) + 2*f_c_*m_*(Z_T_ + f_c0_*m_ + f_s_) + pow(Z_T_ + f_c0_*m_ + f_s_, 2), 2)/(sqrt((pow(-X_Ty_ + sigma_p_Tx_/(1 - omega_T_), 2) + pow(-X_Ty_ + sigma_p_Ty_/(1 - omega_T_), 2))*pow(pow(f_c0_, 2)*pow(m_, 2) - 2*f_c0_*f_c_*pow(m_, 2) - 2*f_c0_*m_*(Z_T_ + f_c0_*m_ + f_s_) + pow(f_c_, 2)*pow(m_, 2) + 2*f_c_*m_*(Z_T_ + f_c0_*m_ + f_s_) + pow(Z_T_ + f_c0_*m_ + f_s_, 2), 2)/((Z_T_ + f_c0_*m_ + f_s_)*pow(Z_T_ + f_c_*m_ + f_s_, 2)*(Z_T_ - f_c0_*m_ + 2*f_c_*m_ + f_s_)) + pow(sigma_p_N_/(-omega_N_*Heaviside(\\sigma^{\\mathrm{p}}_\\mathrm{N}) + 1) + f_c0_ - m_*(pow(f_c0_, 2) - 2*f_c0_*f_c_ + pow(f_c_, 2))/(-Z_T_ + f_c0_*m_ - 2*f_c_*m_ - f_s_), 2)*pow(pow(f_c0_, 2)*pow(m_, 2) - 2*f_c0_*f_c_*pow(m_, 2) - 2*f_c0_*m_*(Z_T_ + f_c0_*m_ + f_s_) + pow(f_c_, 2)*pow(m_, 2) + 2*f_c_*m_*(Z_T_ + f_c0_*m_ + f_s_) + pow(Z_T_ + f_c0_*m_ + f_s_, 2), 2)/(pow(f_c0_ - f_c_, 2)*pow(Z_T_ + f_c_*m_ + f_s_, 2)))*(Z_T_ + f_c0_*m_ + f_s_)*pow(Z_T_ + f_c_*m_ + f_s_, 2)*(Z_T_ - f_c0_*m_ + 2*f_c_*m_ + f_s_));\n",
      "   }\n",
      "   else {\n",
      "      out_160281142560373476[5] = (2*X_Ty_ - sigma_p_Tx_/(1 - omega_T_) - sigma_p_Ty_/(1 - omega_T_))/sqrt(pow(-X_Ty_ + sigma_p_Tx_/(1 - omega_T_), 2) + pow(-X_Ty_ + sigma_p_Ty_/(1 - omega_T_), 2));\n",
      "   }\n",
      "   out_160281142560373476[6] = 0;\n",
      "   out_160281142560373476[7] = 0;\n",
      "\n",
      "}\n",
      "/******************************************************************************\n",
      " *                       Code generated with sympy 1.9                        *\n",
      " *                                                                            *\n",
      " *              See http://www.sympy.org/ for more information.               *\n",
      " *                                                                            *\n",
      " *                       This file is part of 'project'                       *\n",
      " ******************************************************************************/\n",
      "#include \"SLIDE1_3_get_df_dEps.h\"\n",
      "#include <math.h>\n",
      "\n",
      "void get_df_dEps(double X_Ty_, double Z_T_, double omega_N_, double omega_T_, double sigma_p_Tx_, double sigma_p_Ty_, double sigma_p_N_, double f_c0_, double f_c_, double f_s_, double f_t_, double m_, double *out_8742853372774883610) {\n",
      "\n",
      "   out_8742853372774883610[0] = 0;\n",
      "   out_8742853372774883610[1] = 0;\n",
      "   out_8742853372774883610[2] = 0;\n",
      "   out_8742853372774883610[3] = 0;\n",
      "   out_8742853372774883610[4] = 0;\n",
      "   out_8742853372774883610[5] = 0;\n",
      "   if ((fabs(sqrt(pow(-X_Ty_ + sigma_p_Tx_/(1 - omega_T_), 2) + pow(-X_Ty_ + sigma_p_Ty_/(1 - omega_T_), 2))) + (Z_T_ + f_s_)*(sigma_p_N_/(-omega_N_*Heaviside(\\sigma^{\\mathrm{p}}_\\mathrm{N}) + 1) - pow(f_t_, 2)*m_/(-Z_T_ - f_s_ + 2*f_t_*m_))*(-Z_T_ - f_s_ + 2*f_t_*m_)/(pow(f_t_, 2)*m_))*(((f_t_) > 0) - ((f_t_) < 0))*(((m_) > 0) - ((m_) < 0)) < 0) {\n",
      "      out_8742853372774883610[6] = (1.0/2.0)*(2*sigma_p_Tx_*(-X_Ty_ + sigma_p_Tx_/(1 - omega_T_))/pow(1 - omega_T_, 2) + 2*sigma_p_Ty_*(-X_Ty_ + sigma_p_Ty_/(1 - omega_T_))/pow(1 - omega_T_, 2))*pow(pow(f_t_, 2)*pow(m_, 2) - 2*f_t_*m_*(Z_T_ + f_s_) + pow(Z_T_ + f_s_, 2), 2)/((Z_T_ + f_s_)*sqrt((pow(-X_Ty_ + sigma_p_Tx_/(1 - omega_T_), 2) + pow(-X_Ty_ + sigma_p_Ty_/(1 - omega_T_), 2))*pow(pow(f_t_, 2)*pow(m_, 2) - 2*f_t_*m_*(Z_T_ + f_s_) + pow(Z_T_ + f_s_, 2), 2)/((Z_T_ + f_s_)*(Z_T_ + f_s_ - 2*f_t_*m_)*pow(Z_T_ + f_s_ - f_t_*m_, 2)) + pow(sigma_p_N_/(-omega_N_*Heaviside(\\sigma^{\\mathrm{p}}_\\mathrm{N}) + 1) - pow(f_t_, 2)*m_/(-Z_T_ - f_s_ + 2*f_t_*m_), 2)*pow(pow(f_t_, 2)*pow(m_, 2) - 2*f_t_*m_*(Z_T_ + f_s_) + pow(Z_T_ + f_s_, 2), 2)/(pow(f_t_, 2)*pow(Z_T_ + f_s_ - f_t_*m_, 2)))*(Z_T_ + f_s_ - 2*f_t_*m_)*pow(Z_T_ + f_s_ - f_t_*m_, 2));\n",
      "   }\n",
      "   else if ((fabs(sqrt(pow(-X_Ty_ + sigma_p_Tx_/(1 - omega_T_), 2) + pow(-X_Ty_ + sigma_p_Ty_/(1 - omega_T_), 2))) + (Z_T_ + f_c0_*m_ + f_s_)*(sigma_p_N_/(-omega_N_*Heaviside(\\sigma^{\\mathrm{p}}_\\mathrm{N}) + 1) + f_c0_ - m_*(pow(f_c0_, 2) - 2*f_c0_*f_c_ + pow(f_c_, 2))/(-Z_T_ + f_c0_*m_ - 2*f_c_*m_ - f_s_))*(-Z_T_ + f_c0_*m_ - 2*f_c_*m_ - f_s_)/(m_*(pow(f_c0_, 2) - 2*f_c0_*f_c_ + pow(f_c_, 2))))*(((m_) > 0) - ((m_) < 0))*(((f_c0_ - f_c_) > 0) - ((f_c0_ - f_c_) < 0)) < 0) {\n",
      "      out_8742853372774883610[6] = (1.0/2.0)*(2*sigma_p_Tx_*(-X_Ty_ + sigma_p_Tx_/(1 - omega_T_))/pow(1 - omega_T_, 2) + 2*sigma_p_Ty_*(-X_Ty_ + sigma_p_Ty_/(1 - omega_T_))/pow(1 - omega_T_, 2))*pow(pow(f_c0_, 2)*pow(m_, 2) - 2*f_c0_*f_c_*pow(m_, 2) - 2*f_c0_*m_*(Z_T_ + f_c0_*m_ + f_s_) + pow(f_c_, 2)*pow(m_, 2) + 2*f_c_*m_*(Z_T_ + f_c0_*m_ + f_s_) + pow(Z_T_ + f_c0_*m_ + f_s_, 2), 2)/(sqrt((pow(-X_Ty_ + sigma_p_Tx_/(1 - omega_T_), 2) + pow(-X_Ty_ + sigma_p_Ty_/(1 - omega_T_), 2))*pow(pow(f_c0_, 2)*pow(m_, 2) - 2*f_c0_*f_c_*pow(m_, 2) - 2*f_c0_*m_*(Z_T_ + f_c0_*m_ + f_s_) + pow(f_c_, 2)*pow(m_, 2) + 2*f_c_*m_*(Z_T_ + f_c0_*m_ + f_s_) + pow(Z_T_ + f_c0_*m_ + f_s_, 2), 2)/((Z_T_ + f_c0_*m_ + f_s_)*pow(Z_T_ + f_c_*m_ + f_s_, 2)*(Z_T_ - f_c0_*m_ + 2*f_c_*m_ + f_s_)) + pow(sigma_p_N_/(-omega_N_*Heaviside(\\sigma^{\\mathrm{p}}_\\mathrm{N}) + 1) + f_c0_ - m_*(pow(f_c0_, 2) - 2*f_c0_*f_c_ + pow(f_c_, 2))/(-Z_T_ + f_c0_*m_ - 2*f_c_*m_ - f_s_), 2)*pow(pow(f_c0_, 2)*pow(m_, 2) - 2*f_c0_*f_c_*pow(m_, 2) - 2*f_c0_*m_*(Z_T_ + f_c0_*m_ + f_s_) + pow(f_c_, 2)*pow(m_, 2) + 2*f_c_*m_*(Z_T_ + f_c0_*m_ + f_s_) + pow(Z_T_ + f_c0_*m_ + f_s_, 2), 2)/(pow(f_c0_ - f_c_, 2)*pow(Z_T_ + f_c_*m_ + f_s_, 2)))*(Z_T_ + f_c0_*m_ + f_s_)*pow(Z_T_ + f_c_*m_ + f_s_, 2)*(Z_T_ - f_c0_*m_ + 2*f_c_*m_ + f_s_));\n",
      "   }\n",
      "   else {\n",
      "      out_8742853372774883610[6] = (sigma_p_Tx_*(-X_Ty_ + sigma_p_Tx_/(1 - omega_T_))/pow(1 - omega_T_, 2) + sigma_p_Ty_*(-X_Ty_ + sigma_p_Ty_/(1 - omega_T_))/pow(1 - omega_T_, 2))/sqrt(pow(-X_Ty_ + sigma_p_Tx_/(1 - omega_T_), 2) + pow(-X_Ty_ + sigma_p_Ty_/(1 - omega_T_), 2));\n",
      "   }\n",
      "   if ((fabs(sqrt(pow(-X_Ty_ + sigma_p_Tx_/(1 - omega_T_), 2) + pow(-X_Ty_ + sigma_p_Ty_/(1 - omega_T_), 2))) + (Z_T_ + f_s_)*(sigma_p_N_/(-omega_N_*Heaviside(\\sigma^{\\mathrm{p}}_\\mathrm{N}) + 1) - pow(f_t_, 2)*m_/(-Z_T_ - f_s_ + 2*f_t_*m_))*(-Z_T_ - f_s_ + 2*f_t_*m_)/(pow(f_t_, 2)*m_))*(((f_t_) > 0) - ((f_t_) < 0))*(((m_) > 0) - ((m_) < 0)) < 0) {\n",
      "      out_8742853372774883610[7] = sigma_p_N_*(sigma_p_N_/(-omega_N_*Heaviside(\\sigma^{\\mathrm{p}}_\\mathrm{N}) + 1) - pow(f_t_, 2)*m_/(-Z_T_ - f_s_ + 2*f_t_*m_))*pow(pow(f_t_, 2)*pow(m_, 2) - 2*f_t_*m_*(Z_T_ + f_s_) + pow(Z_T_ + f_s_, 2), 2)*Heaviside(\\sigma^{\\mathrm{p}}_\\mathrm{N})/(pow(f_t_, 2)*pow(-omega_N_*Heaviside(\\sigma^{\\mathrm{p}}_\\mathrm{N}) + 1, 2)*sqrt((pow(-X_Ty_ + sigma_p_Tx_/(1 - omega_T_), 2) + pow(-X_Ty_ + sigma_p_Ty_/(1 - omega_T_), 2))*pow(pow(f_t_, 2)*pow(m_, 2) - 2*f_t_*m_*(Z_T_ + f_s_) + pow(Z_T_ + f_s_, 2), 2)/((Z_T_ + f_s_)*(Z_T_ + f_s_ - 2*f_t_*m_)*pow(Z_T_ + f_s_ - f_t_*m_, 2)) + pow(sigma_p_N_/(-omega_N_*Heaviside(\\sigma^{\\mathrm{p}}_\\mathrm{N}) + 1) - pow(f_t_, 2)*m_/(-Z_T_ - f_s_ + 2*f_t_*m_), 2)*pow(pow(f_t_, 2)*pow(m_, 2) - 2*f_t_*m_*(Z_T_ + f_s_) + pow(Z_T_ + f_s_, 2), 2)/(pow(f_t_, 2)*pow(Z_T_ + f_s_ - f_t_*m_, 2)))*pow(Z_T_ + f_s_ - f_t_*m_, 2));\n",
      "   }\n",
      "   else if ((fabs(sqrt(pow(-X_Ty_ + sigma_p_Tx_/(1 - omega_T_), 2) + pow(-X_Ty_ + sigma_p_Ty_/(1 - omega_T_), 2))) + (Z_T_ + f_c0_*m_ + f_s_)*(sigma_p_N_/(-omega_N_*Heaviside(\\sigma^{\\mathrm{p}}_\\mathrm{N}) + 1) + f_c0_ - m_*(pow(f_c0_, 2) - 2*f_c0_*f_c_ + pow(f_c_, 2))/(-Z_T_ + f_c0_*m_ - 2*f_c_*m_ - f_s_))*(-Z_T_ + f_c0_*m_ - 2*f_c_*m_ - f_s_)/(m_*(pow(f_c0_, 2) - 2*f_c0_*f_c_ + pow(f_c_, 2))))*(((m_) > 0) - ((m_) < 0))*(((f_c0_ - f_c_) > 0) - ((f_c0_ - f_c_) < 0)) < 0) {\n",
      "      out_8742853372774883610[7] = sigma_p_N_*(sigma_p_N_/(-omega_N_*Heaviside(\\sigma^{\\mathrm{p}}_\\mathrm{N}) + 1) + f_c0_ - m_*(pow(f_c0_, 2) - 2*f_c0_*f_c_ + pow(f_c_, 2))/(-Z_T_ + f_c0_*m_ - 2*f_c_*m_ - f_s_))*pow(pow(f_c0_, 2)*pow(m_, 2) - 2*f_c0_*f_c_*pow(m_, 2) - 2*f_c0_*m_*(Z_T_ + f_c0_*m_ + f_s_) + pow(f_c_, 2)*pow(m_, 2) + 2*f_c_*m_*(Z_T_ + f_c0_*m_ + f_s_) + pow(Z_T_ + f_c0_*m_ + f_s_, 2), 2)*Heaviside(\\sigma^{\\mathrm{p}}_\\mathrm{N})/(pow(f_c0_ - f_c_, 2)*pow(-omega_N_*Heaviside(\\sigma^{\\mathrm{p}}_\\mathrm{N}) + 1, 2)*sqrt((pow(-X_Ty_ + sigma_p_Tx_/(1 - omega_T_), 2) + pow(-X_Ty_ + sigma_p_Ty_/(1 - omega_T_), 2))*pow(pow(f_c0_, 2)*pow(m_, 2) - 2*f_c0_*f_c_*pow(m_, 2) - 2*f_c0_*m_*(Z_T_ + f_c0_*m_ + f_s_) + pow(f_c_, 2)*pow(m_, 2) + 2*f_c_*m_*(Z_T_ + f_c0_*m_ + f_s_) + pow(Z_T_ + f_c0_*m_ + f_s_, 2), 2)/((Z_T_ + f_c0_*m_ + f_s_)*pow(Z_T_ + f_c_*m_ + f_s_, 2)*(Z_T_ - f_c0_*m_ + 2*f_c_*m_ + f_s_)) + pow(sigma_p_N_/(-omega_N_*Heaviside(\\sigma^{\\mathrm{p}}_\\mathrm{N}) + 1) + f_c0_ - m_*(pow(f_c0_, 2) - 2*f_c0_*f_c_ + pow(f_c_, 2))/(-Z_T_ + f_c0_*m_ - 2*f_c_*m_ - f_s_), 2)*pow(pow(f_c0_, 2)*pow(m_, 2) - 2*f_c0_*f_c_*pow(m_, 2) - 2*f_c0_*m_*(Z_T_ + f_c0_*m_ + f_s_) + pow(f_c_, 2)*pow(m_, 2) + 2*f_c_*m_*(Z_T_ + f_c0_*m_ + f_s_) + pow(Z_T_ + f_c0_*m_ + f_s_, 2), 2)/(pow(f_c0_ - f_c_, 2)*pow(Z_T_ + f_c_*m_ + f_s_, 2)))*pow(Z_T_ + f_c_*m_ + f_s_, 2));\n",
      "   }\n",
      "   else {\n",
      "      out_8742853372774883610[7] = sigma_p_N_*m_*Heaviside(\\sigma^{\\mathrm{p}}_\\mathrm{N})/pow(-omega_N_*Heaviside(\\sigma^{\\mathrm{p}}_\\mathrm{N}) + 1, 2);\n",
      "   }\n",
      "\n",
      "}\n",
      "/******************************************************************************\n",
      " *                       Code generated with sympy 1.9                        *\n",
      " *                                                                            *\n",
      " *              See http://www.sympy.org/ for more information.               *\n",
      " *                                                                            *\n",
      " *                       This file is part of 'project'                       *\n",
      " ******************************************************************************/\n",
      "#include \"SLIDE1_3_get_Phi.h\"\n",
      "#include <math.h>\n",
      "\n",
      "void get_Phi(double S_N_, double S_T_, double X_Ty_, double Y_N_, double Y_T_, double Z_T_, double omega_N_, double omega_T_, double sigma_p_Tx_, double sigma_p_Ty_, double sigma_p_N_, double c_N_, double c_T_, double eta_, double f_c0_, double f_c_, double f_s_, double f_t_, double m_, double r_N_, double r_T_, double *out_322872564365229969) {\n",
      "\n",
      "   if ((fabs(sqrt(pow(-X_Ty_ + sigma_p_Tx_/(1 - omega_T_), 2) + pow(-X_Ty_ + sigma_p_Ty_/(1 - omega_T_), 2))) + (Z_T_ + f_s_)*(sigma_p_N_/(-omega_N_*Heaviside(\\sigma^{\\mathrm{p}}_\\mathrm{N}) + 1) - pow(f_t_, 2)*m_/(-Z_T_ - f_s_ + 2*f_t_*m_))*(-Z_T_ - f_s_ + 2*f_t_*m_)/(pow(f_t_, 2)*m_))*(((f_t_) > 0) - ((f_t_) < 0))*(((m_) > 0) - ((m_) < 0)) < 0) {\n",
      "      out_322872564365229969[0] = (-X_Ty_ + sigma_p_Tx_/(1 - omega_T_))*pow(pow(f_t_, 2)*pow(m_, 2) - 2*f_t_*m_*(Z_T_ + f_s_) + pow(Z_T_ + f_s_, 2), 2)/((1 - omega_T_)*(Z_T_ + f_s_)*sqrt((pow(-X_Ty_ + sigma_p_Tx_/(1 - omega_T_), 2) + pow(-X_Ty_ + sigma_p_Ty_/(1 - omega_T_), 2))*pow(pow(f_t_, 2)*pow(m_, 2) - 2*f_t_*m_*(Z_T_ + f_s_) + pow(Z_T_ + f_s_, 2), 2)/((Z_T_ + f_s_)*(Z_T_ + f_s_ - 2*f_t_*m_)*pow(Z_T_ + f_s_ - f_t_*m_, 2)) + pow(sigma_p_N_/(-omega_N_*Heaviside(\\sigma^{\\mathrm{p}}_\\mathrm{N}) + 1) - pow(f_t_, 2)*m_/(-Z_T_ - f_s_ + 2*f_t_*m_), 2)*pow(pow(f_t_, 2)*pow(m_, 2) - 2*f_t_*m_*(Z_T_ + f_s_) + pow(Z_T_ + f_s_, 2), 2)/(pow(f_t_, 2)*pow(Z_T_ + f_s_ - f_t_*m_, 2)))*(Z_T_ + f_s_ - 2*f_t_*m_)*pow(Z_T_ + f_s_ - f_t_*m_, 2));\n",
      "   }\n",
      "   else if ((fabs(sqrt(pow(-X_Ty_ + sigma_p_Tx_/(1 - omega_T_), 2) + pow(-X_Ty_ + sigma_p_Ty_/(1 - omega_T_), 2))) + (Z_T_ + f_c0_*m_ + f_s_)*(sigma_p_N_/(-omega_N_*Heaviside(\\sigma^{\\mathrm{p}}_\\mathrm{N}) + 1) + f_c0_ - m_*(pow(f_c0_, 2) - 2*f_c0_*f_c_ + pow(f_c_, 2))/(-Z_T_ + f_c0_*m_ - 2*f_c_*m_ - f_s_))*(-Z_T_ + f_c0_*m_ - 2*f_c_*m_ - f_s_)/(m_*(pow(f_c0_, 2) - 2*f_c0_*f_c_ + pow(f_c_, 2))))*(((m_) > 0) - ((m_) < 0))*(((f_c0_ - f_c_) > 0) - ((f_c0_ - f_c_) < 0)) < 0) {\n",
      "      out_322872564365229969[0] = (-X_Ty_ + sigma_p_Tx_/(1 - omega_T_))*pow(pow(f_c0_, 2)*pow(m_, 2) - 2*f_c0_*f_c_*pow(m_, 2) - 2*f_c0_*m_*(Z_T_ + f_c0_*m_ + f_s_) + pow(f_c_, 2)*pow(m_, 2) + 2*f_c_*m_*(Z_T_ + f_c0_*m_ + f_s_) + pow(Z_T_ + f_c0_*m_ + f_s_, 2), 2)/((1 - omega_T_)*sqrt((pow(-X_Ty_ + sigma_p_Tx_/(1 - omega_T_), 2) + pow(-X_Ty_ + sigma_p_Ty_/(1 - omega_T_), 2))*pow(pow(f_c0_, 2)*pow(m_, 2) - 2*f_c0_*f_c_*pow(m_, 2) - 2*f_c0_*m_*(Z_T_ + f_c0_*m_ + f_s_) + pow(f_c_, 2)*pow(m_, 2) + 2*f_c_*m_*(Z_T_ + f_c0_*m_ + f_s_) + pow(Z_T_ + f_c0_*m_ + f_s_, 2), 2)/((Z_T_ + f_c0_*m_ + f_s_)*pow(Z_T_ + f_c_*m_ + f_s_, 2)*(Z_T_ - f_c0_*m_ + 2*f_c_*m_ + f_s_)) + pow(sigma_p_N_/(-omega_N_*Heaviside(\\sigma^{\\mathrm{p}}_\\mathrm{N}) + 1) + f_c0_ - m_*(pow(f_c0_, 2) - 2*f_c0_*f_c_ + pow(f_c_, 2))/(-Z_T_ + f_c0_*m_ - 2*f_c_*m_ - f_s_), 2)*pow(pow(f_c0_, 2)*pow(m_, 2) - 2*f_c0_*f_c_*pow(m_, 2) - 2*f_c0_*m_*(Z_T_ + f_c0_*m_ + f_s_) + pow(f_c_, 2)*pow(m_, 2) + 2*f_c_*m_*(Z_T_ + f_c0_*m_ + f_s_) + pow(Z_T_ + f_c0_*m_ + f_s_, 2), 2)/(pow(f_c0_ - f_c_, 2)*pow(Z_T_ + f_c_*m_ + f_s_, 2)))*(Z_T_ + f_c0_*m_ + f_s_)*pow(Z_T_ + f_c_*m_ + f_s_, 2)*(Z_T_ - f_c0_*m_ + 2*f_c_*m_ + f_s_));\n",
      "   }\n",
      "   else {\n",
      "      out_322872564365229969[0] = (-X_Ty_ + sigma_p_Tx_/(1 - omega_T_))/((1 - omega_T_)*sqrt(pow(-X_Ty_ + sigma_p_Tx_/(1 - omega_T_), 2) + pow(-X_Ty_ + sigma_p_Ty_/(1 - omega_T_), 2)));\n",
      "   }\n",
      "   if ((fabs(sqrt(pow(-X_Ty_ + sigma_p_Tx_/(1 - omega_T_), 2) + pow(-X_Ty_ + sigma_p_Ty_/(1 - omega_T_), 2))) + (Z_T_ + f_s_)*(sigma_p_N_/(-omega_N_*Heaviside(\\sigma^{\\mathrm{p}}_\\mathrm{N}) + 1) - pow(f_t_, 2)*m_/(-Z_T_ - f_s_ + 2*f_t_*m_))*(-Z_T_ - f_s_ + 2*f_t_*m_)/(pow(f_t_, 2)*m_))*(((f_t_) > 0) - ((f_t_) < 0))*(((m_) > 0) - ((m_) < 0)) < 0) {\n",
      "      out_322872564365229969[1] = (-X_Ty_ + sigma_p_Ty_/(1 - omega_T_))*pow(pow(f_t_, 2)*pow(m_, 2) - 2*f_t_*m_*(Z_T_ + f_s_) + pow(Z_T_ + f_s_, 2), 2)/((1 - omega_T_)*(Z_T_ + f_s_)*sqrt((pow(-X_Ty_ + sigma_p_Tx_/(1 - omega_T_), 2) + pow(-X_Ty_ + sigma_p_Ty_/(1 - omega_T_), 2))*pow(pow(f_t_, 2)*pow(m_, 2) - 2*f_t_*m_*(Z_T_ + f_s_) + pow(Z_T_ + f_s_, 2), 2)/((Z_T_ + f_s_)*(Z_T_ + f_s_ - 2*f_t_*m_)*pow(Z_T_ + f_s_ - f_t_*m_, 2)) + pow(sigma_p_N_/(-omega_N_*Heaviside(\\sigma^{\\mathrm{p}}_\\mathrm{N}) + 1) - pow(f_t_, 2)*m_/(-Z_T_ - f_s_ + 2*f_t_*m_), 2)*pow(pow(f_t_, 2)*pow(m_, 2) - 2*f_t_*m_*(Z_T_ + f_s_) + pow(Z_T_ + f_s_, 2), 2)/(pow(f_t_, 2)*pow(Z_T_ + f_s_ - f_t_*m_, 2)))*(Z_T_ + f_s_ - 2*f_t_*m_)*pow(Z_T_ + f_s_ - f_t_*m_, 2));\n",
      "   }\n",
      "   else if ((fabs(sqrt(pow(-X_Ty_ + sigma_p_Tx_/(1 - omega_T_), 2) + pow(-X_Ty_ + sigma_p_Ty_/(1 - omega_T_), 2))) + (Z_T_ + f_c0_*m_ + f_s_)*(sigma_p_N_/(-omega_N_*Heaviside(\\sigma^{\\mathrm{p}}_\\mathrm{N}) + 1) + f_c0_ - m_*(pow(f_c0_, 2) - 2*f_c0_*f_c_ + pow(f_c_, 2))/(-Z_T_ + f_c0_*m_ - 2*f_c_*m_ - f_s_))*(-Z_T_ + f_c0_*m_ - 2*f_c_*m_ - f_s_)/(m_*(pow(f_c0_, 2) - 2*f_c0_*f_c_ + pow(f_c_, 2))))*(((m_) > 0) - ((m_) < 0))*(((f_c0_ - f_c_) > 0) - ((f_c0_ - f_c_) < 0)) < 0) {\n",
      "      out_322872564365229969[1] = (-X_Ty_ + sigma_p_Ty_/(1 - omega_T_))*pow(pow(f_c0_, 2)*pow(m_, 2) - 2*f_c0_*f_c_*pow(m_, 2) - 2*f_c0_*m_*(Z_T_ + f_c0_*m_ + f_s_) + pow(f_c_, 2)*pow(m_, 2) + 2*f_c_*m_*(Z_T_ + f_c0_*m_ + f_s_) + pow(Z_T_ + f_c0_*m_ + f_s_, 2), 2)/((1 - omega_T_)*sqrt((pow(-X_Ty_ + sigma_p_Tx_/(1 - omega_T_), 2) + pow(-X_Ty_ + sigma_p_Ty_/(1 - omega_T_), 2))*pow(pow(f_c0_, 2)*pow(m_, 2) - 2*f_c0_*f_c_*pow(m_, 2) - 2*f_c0_*m_*(Z_T_ + f_c0_*m_ + f_s_) + pow(f_c_, 2)*pow(m_, 2) + 2*f_c_*m_*(Z_T_ + f_c0_*m_ + f_s_) + pow(Z_T_ + f_c0_*m_ + f_s_, 2), 2)/((Z_T_ + f_c0_*m_ + f_s_)*pow(Z_T_ + f_c_*m_ + f_s_, 2)*(Z_T_ - f_c0_*m_ + 2*f_c_*m_ + f_s_)) + pow(sigma_p_N_/(-omega_N_*Heaviside(\\sigma^{\\mathrm{p}}_\\mathrm{N}) + 1) + f_c0_ - m_*(pow(f_c0_, 2) - 2*f_c0_*f_c_ + pow(f_c_, 2))/(-Z_T_ + f_c0_*m_ - 2*f_c_*m_ - f_s_), 2)*pow(pow(f_c0_, 2)*pow(m_, 2) - 2*f_c0_*f_c_*pow(m_, 2) - 2*f_c0_*m_*(Z_T_ + f_c0_*m_ + f_s_) + pow(f_c_, 2)*pow(m_, 2) + 2*f_c_*m_*(Z_T_ + f_c0_*m_ + f_s_) + pow(Z_T_ + f_c0_*m_ + f_s_, 2), 2)/(pow(f_c0_ - f_c_, 2)*pow(Z_T_ + f_c_*m_ + f_s_, 2)))*(Z_T_ + f_c0_*m_ + f_s_)*pow(Z_T_ + f_c_*m_ + f_s_, 2)*(Z_T_ - f_c0_*m_ + 2*f_c_*m_ + f_s_));\n",
      "   }\n",
      "   else {\n",
      "      out_322872564365229969[1] = (-X_Ty_ + sigma_p_Ty_/(1 - omega_T_))/((1 - omega_T_)*sqrt(pow(-X_Ty_ + sigma_p_Tx_/(1 - omega_T_), 2) + pow(-X_Ty_ + sigma_p_Ty_/(1 - omega_T_), 2)));\n",
      "   }\n",
      "   if ((fabs(sqrt(pow(-X_Ty_ + sigma_p_Tx_/(1 - omega_T_), 2) + pow(-X_Ty_ + sigma_p_Ty_/(1 - omega_T_), 2))) + (Z_T_ + f_s_)*(sigma_p_N_/(-omega_N_*Heaviside(\\sigma^{\\mathrm{p}}_\\mathrm{N}) + 1) - pow(f_t_, 2)*m_/(-Z_T_ - f_s_ + 2*f_t_*m_))*(-Z_T_ - f_s_ + 2*f_t_*m_)/(pow(f_t_, 2)*m_))*(((f_t_) > 0) - ((f_t_) < 0))*(((m_) > 0) - ((m_) < 0)) < 0) {\n",
      "      out_322872564365229969[2] = (1.0/2.0)*(sigma_p_N_/(-omega_N_*Heaviside(\\sigma^{\\mathrm{p}}_\\mathrm{N}) + 1) - pow(f_t_, 2)*m_/(-Z_T_ - f_s_ + 2*f_t_*m_))*(2*omega_N_*sigma_p_N_*DiracDelta(\\sigma^{\\mathrm{p}}_\\mathrm{N})/pow(-omega_N_*Heaviside(\\sigma^{\\mathrm{p}}_\\mathrm{N}) + 1, 2) + 2/(-omega_N_*Heaviside(\\sigma^{\\mathrm{p}}_\\mathrm{N}) + 1))*pow(pow(f_t_, 2)*pow(m_, 2) - 2*f_t_*m_*(Z_T_ + f_s_) + pow(Z_T_ + f_s_, 2), 2)/(pow(f_t_, 2)*sqrt((pow(-X_Ty_ + sigma_p_Tx_/(1 - omega_T_), 2) + pow(-X_Ty_ + sigma_p_Ty_/(1 - omega_T_), 2))*pow(pow(f_t_, 2)*pow(m_, 2) - 2*f_t_*m_*(Z_T_ + f_s_) + pow(Z_T_ + f_s_, 2), 2)/((Z_T_ + f_s_)*(Z_T_ + f_s_ - 2*f_t_*m_)*pow(Z_T_ + f_s_ - f_t_*m_, 2)) + pow(sigma_p_N_/(-omega_N_*Heaviside(\\sigma^{\\mathrm{p}}_\\mathrm{N}) + 1) - pow(f_t_, 2)*m_/(-Z_T_ - f_s_ + 2*f_t_*m_), 2)*pow(pow(f_t_, 2)*pow(m_, 2) - 2*f_t_*m_*(Z_T_ + f_s_) + pow(Z_T_ + f_s_, 2), 2)/(pow(f_t_, 2)*pow(Z_T_ + f_s_ - f_t_*m_, 2)))*pow(Z_T_ + f_s_ - f_t_*m_, 2));\n",
      "   }\n",
      "   else if ((fabs(sqrt(pow(-X_Ty_ + sigma_p_Tx_/(1 - omega_T_), 2) + pow(-X_Ty_ + sigma_p_Ty_/(1 - omega_T_), 2))) + (Z_T_ + f_c0_*m_ + f_s_)*(sigma_p_N_/(-omega_N_*Heaviside(\\sigma^{\\mathrm{p}}_\\mathrm{N}) + 1) + f_c0_ - m_*(pow(f_c0_, 2) - 2*f_c0_*f_c_ + pow(f_c_, 2))/(-Z_T_ + f_c0_*m_ - 2*f_c_*m_ - f_s_))*(-Z_T_ + f_c0_*m_ - 2*f_c_*m_ - f_s_)/(m_*(pow(f_c0_, 2) - 2*f_c0_*f_c_ + pow(f_c_, 2))))*(((m_) > 0) - ((m_) < 0))*(((f_c0_ - f_c_) > 0) - ((f_c0_ - f_c_) < 0)) < 0) {\n",
      "      out_322872564365229969[2] = (1.0/2.0)*(2*omega_N_*sigma_p_N_*DiracDelta(\\sigma^{\\mathrm{p}}_\\mathrm{N})/pow(-omega_N_*Heaviside(\\sigma^{\\mathrm{p}}_\\mathrm{N}) + 1, 2) + 2/(-omega_N_*Heaviside(\\sigma^{\\mathrm{p}}_\\mathrm{N}) + 1))*(sigma_p_N_/(-omega_N_*Heaviside(\\sigma^{\\mathrm{p}}_\\mathrm{N}) + 1) + f_c0_ - m_*(pow(f_c0_, 2) - 2*f_c0_*f_c_ + pow(f_c_, 2))/(-Z_T_ + f_c0_*m_ - 2*f_c_*m_ - f_s_))*pow(pow(f_c0_, 2)*pow(m_, 2) - 2*f_c0_*f_c_*pow(m_, 2) - 2*f_c0_*m_*(Z_T_ + f_c0_*m_ + f_s_) + pow(f_c_, 2)*pow(m_, 2) + 2*f_c_*m_*(Z_T_ + f_c0_*m_ + f_s_) + pow(Z_T_ + f_c0_*m_ + f_s_, 2), 2)/(pow(f_c0_ - f_c_, 2)*sqrt((pow(-X_Ty_ + sigma_p_Tx_/(1 - omega_T_), 2) + pow(-X_Ty_ + sigma_p_Ty_/(1 - omega_T_), 2))*pow(pow(f_c0_, 2)*pow(m_, 2) - 2*f_c0_*f_c_*pow(m_, 2) - 2*f_c0_*m_*(Z_T_ + f_c0_*m_ + f_s_) + pow(f_c_, 2)*pow(m_, 2) + 2*f_c_*m_*(Z_T_ + f_c0_*m_ + f_s_) + pow(Z_T_ + f_c0_*m_ + f_s_, 2), 2)/((Z_T_ + f_c0_*m_ + f_s_)*pow(Z_T_ + f_c_*m_ + f_s_, 2)*(Z_T_ - f_c0_*m_ + 2*f_c_*m_ + f_s_)) + pow(sigma_p_N_/(-omega_N_*Heaviside(\\sigma^{\\mathrm{p}}_\\mathrm{N}) + 1) + f_c0_ - m_*(pow(f_c0_, 2) - 2*f_c0_*f_c_ + pow(f_c_, 2))/(-Z_T_ + f_c0_*m_ - 2*f_c_*m_ - f_s_), 2)*pow(pow(f_c0_, 2)*pow(m_, 2) - 2*f_c0_*f_c_*pow(m_, 2) - 2*f_c0_*m_*(Z_T_ + f_c0_*m_ + f_s_) + pow(f_c_, 2)*pow(m_, 2) + 2*f_c_*m_*(Z_T_ + f_c0_*m_ + f_s_) + pow(Z_T_ + f_c0_*m_ + f_s_, 2), 2)/(pow(f_c0_ - f_c_, 2)*pow(Z_T_ + f_c_*m_ + f_s_, 2)))*pow(Z_T_ + f_c_*m_ + f_s_, 2));\n",
      "   }\n",
      "   else {\n",
      "      out_322872564365229969[2] = omega_N_*sigma_p_N_*m_*DiracDelta(\\sigma^{\\mathrm{p}}_\\mathrm{N})/pow(-omega_N_*Heaviside(\\sigma^{\\mathrm{p}}_\\mathrm{N}) + 1, 2) + m_/(-omega_N_*Heaviside(\\sigma^{\\mathrm{p}}_\\mathrm{N}) + 1);\n",
      "   }\n",
      "   out_322872564365229969[3] = -(((fabs(sqrt(pow(-X_Ty_ + sigma_p_Tx_/(1 - omega_T_), 2) + pow(-X_Ty_ + sigma_p_Ty_/(1 - omega_T_), 2))) + (Z_T_ + f_s_)*(sigma_p_N_/(-omega_N_*Heaviside(\\sigma^{\\mathrm{p}}_\\mathrm{N}) + 1) - pow(f_t_, 2)*m_/(-Z_T_ - f_s_ + 2*f_t_*m_))*(-Z_T_ - f_s_ + 2*f_t_*m_)/(pow(f_t_, 2)*m_))*(((f_t_) > 0) - ((f_t_) < 0))*(((m_) > 0) - ((m_) < 0)) < 0) ? (\n",
      "      -(2*Z_T_ + 2*f_s_ - 2*f_t_*m_)/(Z_T_ + f_s_ - 2*f_t_*m_) + (pow(f_t_, 2)*pow(m_, 2) - 2*f_t_*m_*(Z_T_ + f_s_) + pow(Z_T_ + f_s_, 2))/pow(Z_T_ + f_s_ - 2*f_t_*m_, 2) + (-m_*(sigma_p_N_/(-omega_N_*Heaviside(\\sigma^{\\mathrm{p}}_\\mathrm{N}) + 1) - pow(f_t_, 2)*m_/(-Z_T_ - f_s_ + 2*f_t_*m_))*pow(pow(f_t_, 2)*pow(m_, 2) - 2*f_t_*m_*(Z_T_ + f_s_) + pow(Z_T_ + f_s_, 2), 2)/(pow(-Z_T_ - f_s_ + 2*f_t_*m_, 2)*pow(Z_T_ + f_s_ - f_t_*m_, 2)) + (1.0/2.0)*(pow(-X_Ty_ + sigma_p_Tx_/(1 - omega_T_), 2) + pow(-X_Ty_ + sigma_p_Ty_/(1 - omega_T_), 2))*(4*Z_T_ + 4*f_s_ - 4*f_t_*m_)*(pow(f_t_, 2)*pow(m_, 2) - 2*f_t_*m_*(Z_T_ + f_s_) + pow(Z_T_ + f_s_, 2))/((Z_T_ + f_s_)*(Z_T_ + f_s_ - 2*f_t_*m_)*pow(Z_T_ + f_s_ - f_t_*m_, 2)) - (pow(-X_Ty_ + sigma_p_Tx_/(1 - omega_T_), 2) + pow(-X_Ty_ + sigma_p_Ty_/(1 - omega_T_), 2))*pow(pow(f_t_, 2)*pow(m_, 2) - 2*f_t_*m_*(Z_T_ + f_s_) + pow(Z_T_ + f_s_, 2), 2)/((Z_T_ + f_s_)*(Z_T_ + f_s_ - 2*f_t_*m_)*pow(Z_T_ + f_s_ - f_t_*m_, 3)) - 1.0/2.0*(pow(-X_Ty_ + sigma_p_Tx_/(1 - omega_T_), 2) + pow(-X_Ty_ + sigma_p_Ty_/(1 - omega_T_), 2))*pow(pow(f_t_, 2)*pow(m_, 2) - 2*f_t_*m_*(Z_T_ + f_s_) + pow(Z_T_ + f_s_, 2), 2)/((Z_T_ + f_s_)*pow(Z_T_ + f_s_ - 2*f_t_*m_, 2)*pow(Z_T_ + f_s_ - f_t_*m_, 2)) - 1.0/2.0*(pow(-X_Ty_ + sigma_p_Tx_/(1 - omega_T_), 2) + pow(-X_Ty_ + sigma_p_Ty_/(1 - omega_T_), 2))*pow(pow(f_t_, 2)*pow(m_, 2) - 2*f_t_*m_*(Z_T_ + f_s_) + pow(Z_T_ + f_s_, 2), 2)/(pow(Z_T_ + f_s_, 2)*(Z_T_ + f_s_ - 2*f_t_*m_)*pow(Z_T_ + f_s_ - f_t_*m_, 2)) + (1.0/2.0)*pow(sigma_p_N_/(-omega_N_*Heaviside(\\sigma^{\\mathrm{p}}_\\mathrm{N}) + 1) - pow(f_t_, 2)*m_/(-Z_T_ - f_s_ + 2*f_t_*m_), 2)*(4*Z_T_ + 4*f_s_ - 4*f_t_*m_)*(pow(f_t_, 2)*pow(m_, 2) - 2*f_t_*m_*(Z_T_ + f_s_) + pow(Z_T_ + f_s_, 2))/(pow(f_t_, 2)*pow(Z_T_ + f_s_ - f_t_*m_, 2)) - pow(sigma_p_N_/(-omega_N_*Heaviside(\\sigma^{\\mathrm{p}}_\\mathrm{N}) + 1) - pow(f_t_, 2)*m_/(-Z_T_ - f_s_ + 2*f_t_*m_), 2)*pow(pow(f_t_, 2)*pow(m_, 2) - 2*f_t_*m_*(Z_T_ + f_s_) + pow(Z_T_ + f_s_, 2), 2)/(pow(f_t_, 2)*pow(Z_T_ + f_s_ - f_t_*m_, 3)))/sqrt((pow(-X_Ty_ + sigma_p_Tx_/(1 - omega_T_), 2) + pow(-X_Ty_ + sigma_p_Ty_/(1 - omega_T_), 2))*pow(pow(f_t_, 2)*pow(m_, 2) - 2*f_t_*m_*(Z_T_ + f_s_) + pow(Z_T_ + f_s_, 2), 2)/((Z_T_ + f_s_)*(Z_T_ + f_s_ - 2*f_t_*m_)*pow(Z_T_ + f_s_ - f_t_*m_, 2)) + pow(sigma_p_N_/(-omega_N_*Heaviside(\\sigma^{\\mathrm{p}}_\\mathrm{N}) + 1) - pow(f_t_, 2)*m_/(-Z_T_ - f_s_ + 2*f_t_*m_), 2)*pow(pow(f_t_, 2)*pow(m_, 2) - 2*f_t_*m_*(Z_T_ + f_s_) + pow(Z_T_ + f_s_, 2), 2)/(pow(f_t_, 2)*pow(Z_T_ + f_s_ - f_t_*m_, 2)))\n",
      "   )\n",
      "   : (((fabs(sqrt(pow(-X_Ty_ + sigma_p_Tx_/(1 - omega_T_), 2) + pow(-X_Ty_ + sigma_p_Ty_/(1 - omega_T_), 2))) + (Z_T_ + f_c0_*m_ + f_s_)*(sigma_p_N_/(-omega_N_*Heaviside(\\sigma^{\\mathrm{p}}_\\mathrm{N}) + 1) + f_c0_ - m_*(pow(f_c0_, 2) - 2*f_c0_*f_c_ + pow(f_c_, 2))/(-Z_T_ + f_c0_*m_ - 2*f_c_*m_ - f_s_))*(-Z_T_ + f_c0_*m_ - 2*f_c_*m_ - f_s_)/(m_*(pow(f_c0_, 2) - 2*f_c0_*f_c_ + pow(f_c_, 2))))*(((m_) > 0) - ((m_) < 0))*(((f_c0_ - f_c_) > 0) - ((f_c0_ - f_c_) < 0)) < 0) ? (\n",
      "      -(2*Z_T_ + 2*f_c_*m_ + 2*f_s_)/(Z_T_ - f_c0_*m_ + 2*f_c_*m_ + f_s_) + (pow(f_c0_, 2)*pow(m_, 2) - 2*f_c0_*f_c_*pow(m_, 2) - 2*f_c0_*m_*(Z_T_ + f_c0_*m_ + f_s_) + pow(f_c_, 2)*pow(m_, 2) + 2*f_c_*m_*(Z_T_ + f_c0_*m_ + f_s_) + pow(Z_T_ + f_c0_*m_ + f_s_, 2))/pow(Z_T_ - f_c0_*m_ + 2*f_c_*m_ + f_s_, 2) + (-m_*(pow(f_c0_, 2) - 2*f_c0_*f_c_ + pow(f_c_, 2))*(sigma_p_N_/(-omega_N_*Heaviside(\\sigma^{\\mathrm{p}}_\\mathrm{N}) + 1) + f_c0_ - m_*(pow(f_c0_, 2) - 2*f_c0_*f_c_ + pow(f_c_, 2))/(-Z_T_ + f_c0_*m_ - 2*f_c_*m_ - f_s_))*pow(pow(f_c0_, 2)*pow(m_, 2) - 2*f_c0_*f_c_*pow(m_, 2) - 2*f_c0_*m_*(Z_T_ + f_c0_*m_ + f_s_) + pow(f_c_, 2)*pow(m_, 2) + 2*f_c_*m_*(Z_T_ + f_c0_*m_ + f_s_) + pow(Z_T_ + f_c0_*m_ + f_s_, 2), 2)/(pow(f_c0_ - f_c_, 2)*pow(Z_T_ + f_c_*m_ + f_s_, 2)*pow(-Z_T_ + f_c0_*m_ - 2*f_c_*m_ - f_s_, 2)) + (1.0/2.0)*(pow(-X_Ty_ + sigma_p_Tx_/(1 - omega_T_), 2) + pow(-X_Ty_ + sigma_p_Ty_/(1 - omega_T_), 2))*(4*Z_T_ + 4*f_c_*m_ + 4*f_s_)*(pow(f_c0_, 2)*pow(m_, 2) - 2*f_c0_*f_c_*pow(m_, 2) - 2*f_c0_*m_*(Z_T_ + f_c0_*m_ + f_s_) + pow(f_c_, 2)*pow(m_, 2) + 2*f_c_*m_*(Z_T_ + f_c0_*m_ + f_s_) + pow(Z_T_ + f_c0_*m_ + f_s_, 2))/((Z_T_ + f_c0_*m_ + f_s_)*pow(Z_T_ + f_c_*m_ + f_s_, 2)*(Z_T_ - f_c0_*m_ + 2*f_c_*m_ + f_s_)) - 1.0/2.0*(pow(-X_Ty_ + sigma_p_Tx_/(1 - omega_T_), 2) + pow(-X_Ty_ + sigma_p_Ty_/(1 - omega_T_), 2))*pow(pow(f_c0_, 2)*pow(m_, 2) - 2*f_c0_*f_c_*pow(m_, 2) - 2*f_c0_*m_*(Z_T_ + f_c0_*m_ + f_s_) + pow(f_c_, 2)*pow(m_, 2) + 2*f_c_*m_*(Z_T_ + f_c0_*m_ + f_s_) + pow(Z_T_ + f_c0_*m_ + f_s_, 2), 2)/((Z_T_ + f_c0_*m_ + f_s_)*pow(Z_T_ + f_c_*m_ + f_s_, 2)*pow(Z_T_ - f_c0_*m_ + 2*f_c_*m_ + f_s_, 2)) - (pow(-X_Ty_ + sigma_p_Tx_/(1 - omega_T_), 2) + pow(-X_Ty_ + sigma_p_Ty_/(1 - omega_T_), 2))*pow(pow(f_c0_, 2)*pow(m_, 2) - 2*f_c0_*f_c_*pow(m_, 2) - 2*f_c0_*m_*(Z_T_ + f_c0_*m_ + f_s_) + pow(f_c_, 2)*pow(m_, 2) + 2*f_c_*m_*(Z_T_ + f_c0_*m_ + f_s_) + pow(Z_T_ + f_c0_*m_ + f_s_, 2), 2)/((Z_T_ + f_c0_*m_ + f_s_)*pow(Z_T_ + f_c_*m_ + f_s_, 3)*(Z_T_ - f_c0_*m_ + 2*f_c_*m_ + f_s_)) - 1.0/2.0*(pow(-X_Ty_ + sigma_p_Tx_/(1 - omega_T_), 2) + pow(-X_Ty_ + sigma_p_Ty_/(1 - omega_T_), 2))*pow(pow(f_c0_, 2)*pow(m_, 2) - 2*f_c0_*f_c_*pow(m_, 2) - 2*f_c0_*m_*(Z_T_ + f_c0_*m_ + f_s_) + pow(f_c_, 2)*pow(m_, 2) + 2*f_c_*m_*(Z_T_ + f_c0_*m_ + f_s_) + pow(Z_T_ + f_c0_*m_ + f_s_, 2), 2)/(pow(Z_T_ + f_c0_*m_ + f_s_, 2)*pow(Z_T_ + f_c_*m_ + f_s_, 2)*(Z_T_ - f_c0_*m_ + 2*f_c_*m_ + f_s_)) + (1.0/2.0)*(4*Z_T_ + 4*f_c_*m_ + 4*f_s_)*pow(sigma_p_N_/(-omega_N_*Heaviside(\\sigma^{\\mathrm{p}}_\\mathrm{N}) + 1) + f_c0_ - m_*(pow(f_c0_, 2) - 2*f_c0_*f_c_ + pow(f_c_, 2))/(-Z_T_ + f_c0_*m_ - 2*f_c_*m_ - f_s_), 2)*(pow(f_c0_, 2)*pow(m_, 2) - 2*f_c0_*f_c_*pow(m_, 2) - 2*f_c0_*m_*(Z_T_ + f_c0_*m_ + f_s_) + pow(f_c_, 2)*pow(m_, 2) + 2*f_c_*m_*(Z_T_ + f_c0_*m_ + f_s_) + pow(Z_T_ + f_c0_*m_ + f_s_, 2))/(pow(f_c0_ - f_c_, 2)*pow(Z_T_ + f_c_*m_ + f_s_, 2)) - pow(sigma_p_N_/(-omega_N_*Heaviside(\\sigma^{\\mathrm{p}}_\\mathrm{N}) + 1) + f_c0_ - m_*(pow(f_c0_, 2) - 2*f_c0_*f_c_ + pow(f_c_, 2))/(-Z_T_ + f_c0_*m_ - 2*f_c_*m_ - f_s_), 2)*pow(pow(f_c0_, 2)*pow(m_, 2) - 2*f_c0_*f_c_*pow(m_, 2) - 2*f_c0_*m_*(Z_T_ + f_c0_*m_ + f_s_) + pow(f_c_, 2)*pow(m_, 2) + 2*f_c_*m_*(Z_T_ + f_c0_*m_ + f_s_) + pow(Z_T_ + f_c0_*m_ + f_s_, 2), 2)/(pow(f_c0_ - f_c_, 2)*pow(Z_T_ + f_c_*m_ + f_s_, 3)))/sqrt((pow(-X_Ty_ + sigma_p_Tx_/(1 - omega_T_), 2) + pow(-X_Ty_ + sigma_p_Ty_/(1 - omega_T_), 2))*pow(pow(f_c0_, 2)*pow(m_, 2) - 2*f_c0_*f_c_*pow(m_, 2) - 2*f_c0_*m_*(Z_T_ + f_c0_*m_ + f_s_) + pow(f_c_, 2)*pow(m_, 2) + 2*f_c_*m_*(Z_T_ + f_c0_*m_ + f_s_) + pow(Z_T_ + f_c0_*m_ + f_s_, 2), 2)/((Z_T_ + f_c0_*m_ + f_s_)*pow(Z_T_ + f_c_*m_ + f_s_, 2)*(Z_T_ - f_c0_*m_ + 2*f_c_*m_ + f_s_)) + pow(sigma_p_N_/(-omega_N_*Heaviside(\\sigma^{\\mathrm{p}}_\\mathrm{N}) + 1) + f_c0_ - m_*(pow(f_c0_, 2) - 2*f_c0_*f_c_ + pow(f_c_, 2))/(-Z_T_ + f_c0_*m_ - 2*f_c_*m_ - f_s_), 2)*pow(pow(f_c0_, 2)*pow(m_, 2) - 2*f_c0_*f_c_*pow(m_, 2) - 2*f_c0_*m_*(Z_T_ + f_c0_*m_ + f_s_) + pow(f_c_, 2)*pow(m_, 2) + 2*f_c_*m_*(Z_T_ + f_c0_*m_ + f_s_) + pow(Z_T_ + f_c0_*m_ + f_s_, 2), 2)/(pow(f_c0_ - f_c_, 2)*pow(Z_T_ + f_c_*m_ + f_s_, 2)))\n",
      "   )\n",
      "   : (\n",
      "      -1\n",
      "   )));\n",
      "   out_322872564365229969[4] = -(((fabs(sqrt(pow(-X_Ty_ + sigma_p_Tx_/(1 - omega_T_), 2) + pow(-X_Ty_ + sigma_p_Ty_/(1 - omega_T_), 2))) + (Z_T_ + f_s_)*(sigma_p_N_/(-omega_N_*Heaviside(\\sigma^{\\mathrm{p}}_\\mathrm{N}) + 1) - pow(f_t_, 2)*m_/(-Z_T_ - f_s_ + 2*f_t_*m_))*(-Z_T_ - f_s_ + 2*f_t_*m_)/(pow(f_t_, 2)*m_))*(((f_t_) > 0) - ((f_t_) < 0))*(((m_) > 0) - ((m_) < 0)) < 0) ? (\n",
      "      (1.0/2.0)*(4*X_Ty_ - 2*sigma_p_Tx_/(1 - omega_T_) - 2*sigma_p_Ty_/(1 - omega_T_))*pow(pow(f_t_, 2)*pow(m_, 2) - 2*f_t_*m_*(Z_T_ + f_s_) + pow(Z_T_ + f_s_, 2), 2)/((Z_T_ + f_s_)*sqrt((pow(-X_Ty_ + sigma_p_Tx_/(1 - omega_T_), 2) + pow(-X_Ty_ + sigma_p_Ty_/(1 - omega_T_), 2))*pow(pow(f_t_, 2)*pow(m_, 2) - 2*f_t_*m_*(Z_T_ + f_s_) + pow(Z_T_ + f_s_, 2), 2)/((Z_T_ + f_s_)*(Z_T_ + f_s_ - 2*f_t_*m_)*pow(Z_T_ + f_s_ - f_t_*m_, 2)) + pow(sigma_p_N_/(-omega_N_*Heaviside(\\sigma^{\\mathrm{p}}_\\mathrm{N}) + 1) - pow(f_t_, 2)*m_/(-Z_T_ - f_s_ + 2*f_t_*m_), 2)*pow(pow(f_t_, 2)*pow(m_, 2) - 2*f_t_*m_*(Z_T_ + f_s_) + pow(Z_T_ + f_s_, 2), 2)/(pow(f_t_, 2)*pow(Z_T_ + f_s_ - f_t_*m_, 2)))*(Z_T_ + f_s_ - 2*f_t_*m_)*pow(Z_T_ + f_s_ - f_t_*m_, 2))\n",
      "   )\n",
      "   : (((fabs(sqrt(pow(-X_Ty_ + sigma_p_Tx_/(1 - omega_T_), 2) + pow(-X_Ty_ + sigma_p_Ty_/(1 - omega_T_), 2))) + (Z_T_ + f_c0_*m_ + f_s_)*(sigma_p_N_/(-omega_N_*Heaviside(\\sigma^{\\mathrm{p}}_\\mathrm{N}) + 1) + f_c0_ - m_*(pow(f_c0_, 2) - 2*f_c0_*f_c_ + pow(f_c_, 2))/(-Z_T_ + f_c0_*m_ - 2*f_c_*m_ - f_s_))*(-Z_T_ + f_c0_*m_ - 2*f_c_*m_ - f_s_)/(m_*(pow(f_c0_, 2) - 2*f_c0_*f_c_ + pow(f_c_, 2))))*(((m_) > 0) - ((m_) < 0))*(((f_c0_ - f_c_) > 0) - ((f_c0_ - f_c_) < 0)) < 0) ? (\n",
      "      (1.0/2.0)*(4*X_Ty_ - 2*sigma_p_Tx_/(1 - omega_T_) - 2*sigma_p_Ty_/(1 - omega_T_))*pow(pow(f_c0_, 2)*pow(m_, 2) - 2*f_c0_*f_c_*pow(m_, 2) - 2*f_c0_*m_*(Z_T_ + f_c0_*m_ + f_s_) + pow(f_c_, 2)*pow(m_, 2) + 2*f_c_*m_*(Z_T_ + f_c0_*m_ + f_s_) + pow(Z_T_ + f_c0_*m_ + f_s_, 2), 2)/(sqrt((pow(-X_Ty_ + sigma_p_Tx_/(1 - omega_T_), 2) + pow(-X_Ty_ + sigma_p_Ty_/(1 - omega_T_), 2))*pow(pow(f_c0_, 2)*pow(m_, 2) - 2*f_c0_*f_c_*pow(m_, 2) - 2*f_c0_*m_*(Z_T_ + f_c0_*m_ + f_s_) + pow(f_c_, 2)*pow(m_, 2) + 2*f_c_*m_*(Z_T_ + f_c0_*m_ + f_s_) + pow(Z_T_ + f_c0_*m_ + f_s_, 2), 2)/((Z_T_ + f_c0_*m_ + f_s_)*pow(Z_T_ + f_c_*m_ + f_s_, 2)*(Z_T_ - f_c0_*m_ + 2*f_c_*m_ + f_s_)) + pow(sigma_p_N_/(-omega_N_*Heaviside(\\sigma^{\\mathrm{p}}_\\mathrm{N}) + 1) + f_c0_ - m_*(pow(f_c0_, 2) - 2*f_c0_*f_c_ + pow(f_c_, 2))/(-Z_T_ + f_c0_*m_ - 2*f_c_*m_ - f_s_), 2)*pow(pow(f_c0_, 2)*pow(m_, 2) - 2*f_c0_*f_c_*pow(m_, 2) - 2*f_c0_*m_*(Z_T_ + f_c0_*m_ + f_s_) + pow(f_c_, 2)*pow(m_, 2) + 2*f_c_*m_*(Z_T_ + f_c0_*m_ + f_s_) + pow(Z_T_ + f_c0_*m_ + f_s_, 2), 2)/(pow(f_c0_ - f_c_, 2)*pow(Z_T_ + f_c_*m_ + f_s_, 2)))*(Z_T_ + f_c0_*m_ + f_s_)*pow(Z_T_ + f_c_*m_ + f_s_, 2)*(Z_T_ - f_c0_*m_ + 2*f_c_*m_ + f_s_))\n",
      "   )\n",
      "   : (\n",
      "      (2*X_Ty_ - sigma_p_Tx_/(1 - omega_T_) - sigma_p_Ty_/(1 - omega_T_))/sqrt(pow(-X_Ty_ + sigma_p_Tx_/(1 - omega_T_), 2) + pow(-X_Ty_ + sigma_p_Ty_/(1 - omega_T_), 2))\n",
      "   )));\n",
      "   out_322872564365229969[5] = -(((fabs(sqrt(pow(-X_Ty_ + sigma_p_Tx_/(1 - omega_T_), 2) + pow(-X_Ty_ + sigma_p_Ty_/(1 - omega_T_), 2))) + (Z_T_ + f_s_)*(sigma_p_N_/(-omega_N_*Heaviside(\\sigma^{\\mathrm{p}}_\\mathrm{N}) + 1) - pow(f_t_, 2)*m_/(-Z_T_ - f_s_ + 2*f_t_*m_))*(-Z_T_ - f_s_ + 2*f_t_*m_)/(pow(f_t_, 2)*m_))*(((f_t_) > 0) - ((f_t_) < 0))*(((m_) > 0) - ((m_) < 0)) < 0) ? (\n",
      "      (1.0/2.0)*(4*X_Ty_ - 2*sigma_p_Tx_/(1 - omega_T_) - 2*sigma_p_Ty_/(1 - omega_T_))*pow(pow(f_t_, 2)*pow(m_, 2) - 2*f_t_*m_*(Z_T_ + f_s_) + pow(Z_T_ + f_s_, 2), 2)/((Z_T_ + f_s_)*sqrt((pow(-X_Ty_ + sigma_p_Tx_/(1 - omega_T_), 2) + pow(-X_Ty_ + sigma_p_Ty_/(1 - omega_T_), 2))*pow(pow(f_t_, 2)*pow(m_, 2) - 2*f_t_*m_*(Z_T_ + f_s_) + pow(Z_T_ + f_s_, 2), 2)/((Z_T_ + f_s_)*(Z_T_ + f_s_ - 2*f_t_*m_)*pow(Z_T_ + f_s_ - f_t_*m_, 2)) + pow(sigma_p_N_/(-omega_N_*Heaviside(\\sigma^{\\mathrm{p}}_\\mathrm{N}) + 1) - pow(f_t_, 2)*m_/(-Z_T_ - f_s_ + 2*f_t_*m_), 2)*pow(pow(f_t_, 2)*pow(m_, 2) - 2*f_t_*m_*(Z_T_ + f_s_) + pow(Z_T_ + f_s_, 2), 2)/(pow(f_t_, 2)*pow(Z_T_ + f_s_ - f_t_*m_, 2)))*(Z_T_ + f_s_ - 2*f_t_*m_)*pow(Z_T_ + f_s_ - f_t_*m_, 2))\n",
      "   )\n",
      "   : (((fabs(sqrt(pow(-X_Ty_ + sigma_p_Tx_/(1 - omega_T_), 2) + pow(-X_Ty_ + sigma_p_Ty_/(1 - omega_T_), 2))) + (Z_T_ + f_c0_*m_ + f_s_)*(sigma_p_N_/(-omega_N_*Heaviside(\\sigma^{\\mathrm{p}}_\\mathrm{N}) + 1) + f_c0_ - m_*(pow(f_c0_, 2) - 2*f_c0_*f_c_ + pow(f_c_, 2))/(-Z_T_ + f_c0_*m_ - 2*f_c_*m_ - f_s_))*(-Z_T_ + f_c0_*m_ - 2*f_c_*m_ - f_s_)/(m_*(pow(f_c0_, 2) - 2*f_c0_*f_c_ + pow(f_c_, 2))))*(((m_) > 0) - ((m_) < 0))*(((f_c0_ - f_c_) > 0) - ((f_c0_ - f_c_) < 0)) < 0) ? (\n",
      "      (1.0/2.0)*(4*X_Ty_ - 2*sigma_p_Tx_/(1 - omega_T_) - 2*sigma_p_Ty_/(1 - omega_T_))*pow(pow(f_c0_, 2)*pow(m_, 2) - 2*f_c0_*f_c_*pow(m_, 2) - 2*f_c0_*m_*(Z_T_ + f_c0_*m_ + f_s_) + pow(f_c_, 2)*pow(m_, 2) + 2*f_c_*m_*(Z_T_ + f_c0_*m_ + f_s_) + pow(Z_T_ + f_c0_*m_ + f_s_, 2), 2)/(sqrt((pow(-X_Ty_ + sigma_p_Tx_/(1 - omega_T_), 2) + pow(-X_Ty_ + sigma_p_Ty_/(1 - omega_T_), 2))*pow(pow(f_c0_, 2)*pow(m_, 2) - 2*f_c0_*f_c_*pow(m_, 2) - 2*f_c0_*m_*(Z_T_ + f_c0_*m_ + f_s_) + pow(f_c_, 2)*pow(m_, 2) + 2*f_c_*m_*(Z_T_ + f_c0_*m_ + f_s_) + pow(Z_T_ + f_c0_*m_ + f_s_, 2), 2)/((Z_T_ + f_c0_*m_ + f_s_)*pow(Z_T_ + f_c_*m_ + f_s_, 2)*(Z_T_ - f_c0_*m_ + 2*f_c_*m_ + f_s_)) + pow(sigma_p_N_/(-omega_N_*Heaviside(\\sigma^{\\mathrm{p}}_\\mathrm{N}) + 1) + f_c0_ - m_*(pow(f_c0_, 2) - 2*f_c0_*f_c_ + pow(f_c_, 2))/(-Z_T_ + f_c0_*m_ - 2*f_c_*m_ - f_s_), 2)*pow(pow(f_c0_, 2)*pow(m_, 2) - 2*f_c0_*f_c_*pow(m_, 2) - 2*f_c0_*m_*(Z_T_ + f_c0_*m_ + f_s_) + pow(f_c_, 2)*pow(m_, 2) + 2*f_c_*m_*(Z_T_ + f_c0_*m_ + f_s_) + pow(Z_T_ + f_c0_*m_ + f_s_, 2), 2)/(pow(f_c0_ - f_c_, 2)*pow(Z_T_ + f_c_*m_ + f_s_, 2)))*(Z_T_ + f_c0_*m_ + f_s_)*pow(Z_T_ + f_c_*m_ + f_s_, 2)*(Z_T_ - f_c0_*m_ + 2*f_c_*m_ + f_s_))\n",
      "   )\n",
      "   : (\n",
      "      (2*X_Ty_ - sigma_p_Tx_/(1 - omega_T_) - sigma_p_Ty_/(1 - omega_T_))/sqrt(pow(-X_Ty_ + sigma_p_Tx_/(1 - omega_T_), 2) + pow(-X_Ty_ + sigma_p_Ty_/(1 - omega_T_), 2))\n",
      "   )));\n",
      "   out_322872564365229969[6] = pow(S_T_, -r_T_)*(pow(S_T_, r_T_)*eta_*pow((Y_N_ + Y_T_)/(sqrt(S_N_)*sqrt(S_T_)), sqrt(r_N_)*sqrt(r_T_))*pow(omega_N_*omega_T_ - omega_N_ - omega_T_ + 1, (1.0/2.0)*sqrt(c_N_)*sqrt(c_T_)) - pow(Y_T_, r_T_)*eta_*pow(1 - omega_T_, c_T_) + pow(Y_T_, r_T_)*pow(1 - omega_T_, c_T_));\n",
      "   out_322872564365229969[7] = pow(S_N_, -r_N_)*(pow(S_N_, r_N_)*eta_*pow((Y_N_ + Y_T_)/(sqrt(S_N_)*sqrt(S_T_)), sqrt(r_N_)*sqrt(r_T_))*pow(omega_N_*omega_T_ - omega_N_ - omega_T_ + 1, (1.0/2.0)*sqrt(c_N_)*sqrt(c_T_)) - pow(Y_N_, r_N_)*eta_*pow(1 - omega_N_, c_N_) + pow(Y_N_, r_N_)*pow(1 - omega_N_, c_N_));\n",
      "\n",
      "}\n",
      "\n"
     ]
    }
   ],
   "source": [
    "code_file = open(c_file, 'r')\n",
    "print(code_file.read())"
   ]
  },
  {
   "cell_type": "code",
   "execution_count": null,
   "metadata": {},
   "outputs": [],
   "source": []
  }
 ],
 "metadata": {
  "kernelspec": {
   "display_name": "bmcs_env",
   "language": "python",
   "name": "bmcs_env"
  },
  "language_info": {
   "codemirror_mode": {
    "name": "ipython",
    "version": 3
   },
   "file_extension": ".py",
   "mimetype": "text/x-python",
   "name": "python",
   "nbconvert_exporter": "python",
   "pygments_lexer": "ipython3",
   "version": "3.8.8"
  },
  "toc": {
   "base_numbering": 1,
   "nav_menu": {},
   "number_sections": true,
   "sideBar": true,
   "skip_h1_title": false,
   "title_cell": "Table of Contents",
   "title_sidebar": "Contents",
   "toc_cell": false,
   "toc_position": {
    "height": "calc(100% - 180px)",
    "left": "10px",
    "top": "150px",
    "width": "218.667px"
   },
   "toc_section_display": true,
   "toc_window_display": false
  }
 },
 "nbformat": 4,
 "nbformat_minor": 4
}
