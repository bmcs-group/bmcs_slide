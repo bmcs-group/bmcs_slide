{
 "cells": [
  {
   "cell_type": "code",
   "execution_count": 1,
   "id": "c03ddb5b-5ea2-4b01-9d60-1e626a638134",
   "metadata": {},
   "outputs": [],
   "source": [
    "import sympy as sp\n",
    "sp.init_printing()\n",
    "from cymbol import Cymbol"
   ]
  },
  {
   "cell_type": "code",
   "execution_count": 2,
   "id": "01476b51-ab79-49e7-ab85-f77dec9bf2c7",
   "metadata": {},
   "outputs": [],
   "source": [
    "E_T = Cymbol(r'E_{\\mathrm{T}}', codename='E_T_', real=True, nonnegative=True)\n",
    "S_T = Cymbol(r'S_{\\mathrm{T}}', codename='S_T_', real=True, nonnegative=True)\n",
    "r_T = Cymbol(r'r_{\\mathrm{T}}', codename='r_T_', real=True, nonnegative=True)\n",
    "c_T = Cymbol(r'c_{\\mathrm{T}}', codename='c_T_', real=True, nonnegative=True)\n",
    "E_N = Cymbol(r'E_{\\mathrm{N}}', codename='E_N_', real=True, nonnegative=True)\n",
    "S_N = Cymbol(r'S_{\\mathrm{N}}', codename='S_N_', real=True, nonnegative=True)\n",
    "r_N = Cymbol(r'r_{\\mathrm{N}}', codename='r_N_', real=True, nonnegative=True)\n",
    "c_N = Cymbol(r'c_{\\mathrm{N}}', codename='c_N_', real=True, nonnegative=True)\n",
    "eta = Cymbol(r'\\eta', codename='eta_', real=True, nonnegative=True)\n",
    "r = Cymbol(r'r', codename='r_', real=True, nonnegative=True)"
   ]
  },
  {
   "cell_type": "code",
   "execution_count": 3,
   "id": "5c0211cb-053d-4f02-bd05-684bdeac7f6a",
   "metadata": {},
   "outputs": [],
   "source": [
    "omega_T = Cymbol(r'\\omega_{\\mathrm{T}}', codename='omega_T_', real=True, nonnegative=True)\n",
    "omega_N = Cymbol(r'\\omega_{\\mathrm{N}}', codename='omega_N_', real=True, nonnegative=True)"
   ]
  },
  {
   "cell_type": "code",
   "execution_count": 4,
   "id": "85a95dea-eac8-418f-95ec-f37303018cb1",
   "metadata": {},
   "outputs": [],
   "source": [
    "Y_T = Cymbol(r'Y_{\\mathrm{T}}', codename='Y_T_', real=True, nonnegative=True)\n",
    "Y_N = Cymbol(r'Y_{\\mathrm{N}}', codename='Y_N_', real=True, nonnegative=True)"
   ]
  },
  {
   "cell_type": "code",
   "execution_count": 5,
   "id": "8c717999-f016-46b9-97d0-548a041a3804",
   "metadata": {},
   "outputs": [],
   "source": [
    "S_NT = sp.sqrt(S_N*S_T)\n",
    "c_NT = sp.sqrt(c_N*c_T)"
   ]
  },
  {
   "cell_type": "code",
   "execution_count": 6,
   "id": "e5890ece-7ba6-4e03-99f0-dbd02cd6f9ff",
   "metadata": {},
   "outputs": [],
   "source": [
    "omega_NT = 1 - sp.sqrt((1-omega_N)*(1-omega_T))"
   ]
  },
  {
   "cell_type": "code",
   "execution_count": 7,
   "id": "dfd519d6-099e-4b18-9bdd-b015376760c3",
   "metadata": {},
   "outputs": [
    {
     "data": {
      "image/png": "[encoded data removed]",
      "text/latex": [
       "$\\displaystyle \\frac{S_{\\mathrm{N}} \\left(\\frac{Y_{\\mathrm{N}}}{S_{\\mathrm{N}}}\\right)^{r + 1} \\left(1 - \\omega_{\\mathrm{N}}\\right)^{c_{\\mathrm{N}}}}{r + 1}$"
      ],
      "text/plain": [
       "                               r + 1                                        \n",
       "               ⎛Y_{\\mathrm{N}}⎞                               c_{\\mathrm{N}}\n",
       "S_{\\mathrm{N}}⋅⎜──────────────⎟     ⋅(1 - \\omega_{\\mathrm{N}})              \n",
       "               ⎝S_{\\mathrm{N}}⎠                                             \n",
       "────────────────────────────────────────────────────────────────────────────\n",
       "                                   r + 1                                    "
      ]
     },
     "execution_count": 7,
     "metadata": {},
     "output_type": "execute_result"
    }
   ],
   "source": [
    "phi_N = (1 - omega_N)**c_N * S_N / (r+1) * (Y_N / S_N)**(r+1) \n",
    "phi_N"
   ]
  },
  {
   "cell_type": "code",
   "execution_count": 8,
   "id": "3a1acc2f-13d3-4439-81a5-5239920c6bdf",
   "metadata": {},
   "outputs": [
    {
     "data": {
      "image/png": "[encoded data removed]",
      "text/latex": [
       "$\\displaystyle \\frac{S_{\\mathrm{T}} \\left(\\frac{Y_{\\mathrm{T}}}{S_{\\mathrm{T}}}\\right)^{r + 1} \\left(1 - \\omega_{\\mathrm{T}}\\right)^{c_{\\mathrm{T}}}}{r + 1}$"
      ],
      "text/plain": [
       "                               r + 1                                        \n",
       "               ⎛Y_{\\mathrm{T}}⎞                               c_{\\mathrm{T}}\n",
       "S_{\\mathrm{T}}⋅⎜──────────────⎟     ⋅(1 - \\omega_{\\mathrm{T}})              \n",
       "               ⎝S_{\\mathrm{T}}⎠                                             \n",
       "────────────────────────────────────────────────────────────────────────────\n",
       "                                   r + 1                                    "
      ]
     },
     "execution_count": 8,
     "metadata": {},
     "output_type": "execute_result"
    }
   ],
   "source": [
    "phi_T = (1 - omega_T)**c_T * S_T / (r+1) * (Y_T / S_T)**(r+1) \n",
    "phi_T"
   ]
  },
  {
   "cell_type": "code",
   "execution_count": 9,
   "id": "6f191c18-3670-4a18-a1fc-14d9adbc3b73",
   "metadata": {},
   "outputs": [
    {
     "data": {
      "image/png": "[encoded data removed]",
      "text/latex": [
       "$\\displaystyle \\frac{\\sqrt{S_{\\mathrm{N}}} \\sqrt{S_{\\mathrm{T}}} \\left(\\left(1 - \\omega_{\\mathrm{N}}\\right) \\left(1 - \\omega_{\\mathrm{T}}\\right)\\right)^{\\frac{\\sqrt{c_{\\mathrm{N}}} \\sqrt{c_{\\mathrm{T}}}}{2}} \\left(\\frac{Y_{\\mathrm{N}} + Y_{\\mathrm{T}}}{\\sqrt{S_{\\mathrm{N}}} \\sqrt{S_{\\mathrm{T}}}}\\right)^{r + 1}}{r + 1}$"
      ],
      "text/plain": [
       "                                                                              \n",
       "                                                                              \n",
       "                                                                              \n",
       "  ________________   ________________                                         \n",
       "╲╱ S_{\\mathrm{N}} ⋅╲╱ S_{\\mathrm{T}} ⋅((1 - \\omega_{\\mathrm{N}})⋅(1 - \\omega_{\n",
       "                                                                              \n",
       "                                                                              \n",
       "──────────────────────────────────────────────────────────────────────────────\n",
       "                                                                              \n",
       "\n",
       "               ________________   ________________                            \n",
       "             ╲╱ c_{\\mathrm{N}} ⋅╲╱ c_{\\mathrm{T}}                             \n",
       "             ─────────────────────────────────────                            \n",
       "                               2                   ⎛   Y_{\\mathrm{N}} + Y_{\\ma\n",
       "\\mathrm{T}}))                                     ⋅⎜──────────────────────────\n",
       "                                                   ⎜  ________________   _____\n",
       "                                                   ⎝╲╱ S_{\\mathrm{N}} ⋅╲╱ S_{\\\n",
       "──────────────────────────────────────────────────────────────────────────────\n",
       "      r + 1                                                                   \n",
       "\n",
       "                 \n",
       "                 \n",
       "            r + 1\n",
       "thrm{T}}   ⎞     \n",
       "───────────⎟     \n",
       "___________⎟     \n",
       "mathrm{T}} ⎠     \n",
       "─────────────────\n",
       "                 "
      ]
     },
     "execution_count": 9,
     "metadata": {},
     "output_type": "execute_result"
    }
   ],
   "source": [
    "phi_NT = (1 - omega_NT)**c_NT * S_NT / (r+1) * ((Y_N + Y_T)/(S_NT))**(r+1)\n",
    "phi_NT"
   ]
  },
  {
   "cell_type": "code",
   "execution_count": 10,
   "id": "b8be0871-31a7-4b0b-9291-0114ed69ee4d",
   "metadata": {},
   "outputs": [],
   "source": [
    "phi = (1 - eta)*(phi_N + phi_T) + eta*phi_NT"
   ]
  },
  {
   "cell_type": "code",
   "execution_count": 11,
   "id": "9194af2e-94e9-47bc-a313-bc6c85ec3bd6",
   "metadata": {},
   "outputs": [],
   "source": [
    "dot_omega_N = phi.diff(Y_N)\n",
    "dot_omega_T = phi.diff(Y_T)"
   ]
  },
  {
   "cell_type": "code",
   "execution_count": 12,
   "id": "8b863f2e-0e0e-4499-a6e3-06aaed2ebdbd",
   "metadata": {},
   "outputs": [
    {
     "data": {
      "image/png": "[encoded data removed]",
      "text/latex": [
       "$\\displaystyle \\left(\\frac{Y_{\\mathrm{N}}}{S_{\\mathrm{N}}}\\right)^{r} \\left(1 - \\omega_{\\mathrm{N}}\\right)^{c_{\\mathrm{N}}}$"
      ],
      "text/plain": [
       "                r                                        \n",
       "⎛Y_{\\mathrm{N}}⎞                           c_{\\mathrm{N}}\n",
       "⎜──────────────⎟ ⋅(1 - \\omega_{\\mathrm{N}})              \n",
       "⎝S_{\\mathrm{N}}⎠                                         "
      ]
     },
     "execution_count": 12,
     "metadata": {},
     "output_type": "execute_result"
    }
   ],
   "source": [
    "sp.simplify(dot_omega_N.subs(eta, 0))"
   ]
  },
  {
   "cell_type": "code",
   "execution_count": 13,
   "id": "9b3dc9be-fd1b-484e-aba1-d49b09448ad0",
   "metadata": {},
   "outputs": [
    {
     "data": {
      "image/png": "[encoded data removed]",
      "text/latex": [
       "$\\displaystyle \\left(\\frac{Y_{\\mathrm{T}}}{S_{\\mathrm{T}}}\\right)^{r} \\left(1 - \\omega_{\\mathrm{T}}\\right)^{c_{\\mathrm{T}}}$"
      ],
      "text/plain": [
       "                r                                        \n",
       "⎛Y_{\\mathrm{T}}⎞                           c_{\\mathrm{T}}\n",
       "⎜──────────────⎟ ⋅(1 - \\omega_{\\mathrm{T}})              \n",
       "⎝S_{\\mathrm{T}}⎠                                         "
      ]
     },
     "execution_count": 13,
     "metadata": {},
     "output_type": "execute_result"
    }
   ],
   "source": [
    "sp.simplify(dot_omega_T.subs(eta, 0))"
   ]
  },
  {
   "cell_type": "code",
   "execution_count": 14,
   "id": "8a3182b2-8594-4b7c-9e2b-89d5bf0d1df5",
   "metadata": {},
   "outputs": [
    {
     "data": {
      "image/png": "[encoded data removed]",
      "text/latex": [
       "$\\displaystyle \\left(\\frac{Y_{\\mathrm{N}} + Y_{\\mathrm{T}}}{\\sqrt{S_{\\mathrm{N}}} \\sqrt{S_{\\mathrm{T}}}}\\right)^{r} \\left(\\omega_{\\mathrm{N}} \\omega_{\\mathrm{T}} - \\omega_{\\mathrm{N}} - \\omega_{\\mathrm{T}} + 1\\right)^{\\frac{\\sqrt{c_{\\mathrm{N}}} \\sqrt{c_{\\mathrm{T}}}}{2}}$"
      ],
      "text/plain": [
       "                                                                              \n",
       "                                                                              \n",
       "                                       r                                      \n",
       "⎛   Y_{\\mathrm{N}} + Y_{\\mathrm{T}}   ⎞                                       \n",
       "⎜─────────────────────────────────────⎟ ⋅(\\omega_{\\mathrm{N}}⋅\\omega_{\\mathrm{\n",
       "⎜  ________________   ________________⎟                                       \n",
       "⎝╲╱ S_{\\mathrm{N}} ⋅╲╱ S_{\\mathrm{T}} ⎠                                       \n",
       "\n",
       "                                                      ________________   _____\n",
       "                                                    ╲╱ c_{\\mathrm{N}} ⋅╲╱ c_{\\\n",
       "                                                    ──────────────────────────\n",
       "                                                                      2       \n",
       "T}} - \\omega_{\\mathrm{N}} - \\omega_{\\mathrm{T}} + 1)                          \n",
       "                                                                              \n",
       "                                                                              \n",
       "\n",
       "___________\n",
       "mathrm{T}} \n",
       "───────────\n",
       "           \n",
       "           \n",
       "           \n",
       "           "
      ]
     },
     "execution_count": 14,
     "metadata": {},
     "output_type": "execute_result"
    }
   ],
   "source": [
    "sp.simplify(dot_omega_N.subs(eta, 1))"
   ]
  },
  {
   "cell_type": "code",
   "execution_count": 15,
   "id": "77dd7491-50df-45ba-8361-ee4365179d2d",
   "metadata": {},
   "outputs": [
    {
     "data": {
      "image/png": "[encoded data removed]",
      "text/latex": [
       "$\\displaystyle \\left(\\frac{Y_{\\mathrm{N}} + Y_{\\mathrm{T}}}{\\sqrt{S_{\\mathrm{N}}} \\sqrt{S_{\\mathrm{T}}}}\\right)^{r} \\left(\\omega_{\\mathrm{N}} \\omega_{\\mathrm{T}} - \\omega_{\\mathrm{N}} - \\omega_{\\mathrm{T}} + 1\\right)^{\\frac{\\sqrt{c_{\\mathrm{N}}} \\sqrt{c_{\\mathrm{T}}}}{2}}$"
      ],
      "text/plain": [
       "                                                                              \n",
       "                                                                              \n",
       "                                       r                                      \n",
       "⎛   Y_{\\mathrm{N}} + Y_{\\mathrm{T}}   ⎞                                       \n",
       "⎜─────────────────────────────────────⎟ ⋅(\\omega_{\\mathrm{N}}⋅\\omega_{\\mathrm{\n",
       "⎜  ________________   ________________⎟                                       \n",
       "⎝╲╱ S_{\\mathrm{N}} ⋅╲╱ S_{\\mathrm{T}} ⎠                                       \n",
       "\n",
       "                                                      ________________   _____\n",
       "                                                    ╲╱ c_{\\mathrm{N}} ⋅╲╱ c_{\\\n",
       "                                                    ──────────────────────────\n",
       "                                                                      2       \n",
       "T}} - \\omega_{\\mathrm{N}} - \\omega_{\\mathrm{T}} + 1)                          \n",
       "                                                                              \n",
       "                                                                              \n",
       "\n",
       "___________\n",
       "mathrm{T}} \n",
       "───────────\n",
       "           \n",
       "           \n",
       "           \n",
       "           "
      ]
     },
     "execution_count": 15,
     "metadata": {},
     "output_type": "execute_result"
    }
   ],
   "source": [
    "sp.simplify(dot_omega_T.subs(eta, 1))"
   ]
  },
  {
   "cell_type": "code",
   "execution_count": null,
   "id": "353edbcf-7724-4ce3-9938-d09edddf5bb8",
   "metadata": {},
   "outputs": [],
   "source": []
  }
 ],
 "metadata": {
  "kernelspec": {
   "display_name": "bmcs_env",
   "language": "python",
   "name": "bmcs_env"
  },
  "language_info": {
   "codemirror_mode": {
    "name": "ipython",
    "version": 3
   },
   "file_extension": ".py",
   "mimetype": "text/x-python",
   "name": "python",
   "nbconvert_exporter": "python",
   "pygments_lexer": "ipython3",
   "version": "3.8.8"
  }
 },
 "nbformat": 4,
 "nbformat_minor": 5
}
